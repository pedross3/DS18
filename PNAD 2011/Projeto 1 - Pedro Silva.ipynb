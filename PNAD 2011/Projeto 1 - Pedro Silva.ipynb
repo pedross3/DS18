{
 "cells": [
  {
   "cell_type": "markdown",
   "metadata": {},
   "source": [
    "# _COMO O ACESSO A ESCOLARIDADE INFLUENCIA O INDIVÍDUO A MANTER-SE CONECTADO?_"
   ]
  },
  {
   "cell_type": "markdown",
   "metadata": {},
   "source": [
    "__Bibliotecas importadas:__"
   ]
  },
  {
   "cell_type": "code",
   "execution_count": 2,
   "metadata": {},
   "outputs": [],
   "source": [
    "%matplotlib inline\n",
    "import matplotlib.pyplot as plt\n",
    "import matplotlib\n",
    "import pandas as pd\n",
    "import numpy as np\n",
    "from math import *\n",
    "from scipy import stats"
   ]
  },
  {
   "cell_type": "markdown",
   "metadata": {},
   "source": [
    "__Checando o diretório:__"
   ]
  },
  {
   "cell_type": "code",
   "execution_count": 3,
   "metadata": {},
   "outputs": [
    {
     "name": "stdout",
     "output_type": "stream",
     "text": [
      "Esperamos trabalhar no diretório\n",
      "/home/pedro/Documents/Insper/2DP/Dados/Projeto 1/DS18/PNAD 2011\n"
     ]
    }
   ],
   "source": [
    "import os\n",
    "print('Esperamos trabalhar no diretório')\n",
    "print(os.getcwd())"
   ]
  },
  {
   "cell_type": "markdown",
   "metadata": {},
   "source": [
    "__Lendo o arquivo PES:__"
   ]
  },
  {
   "cell_type": "code",
   "execution_count": 4,
   "metadata": {},
   "outputs": [],
   "source": [
    "dados = pd.read_csv('../../Excels/PNAD2011/PES2011.csv')"
   ]
  },
  {
   "cell_type": "code",
   "execution_count": 5,
   "metadata": {},
   "outputs": [],
   "source": [
    "dados2 = pd.read_csv('../../Excels/PNAD2015/PES2015.csv')"
   ]
  },
  {
   "cell_type": "markdown",
   "metadata": {},
   "source": [
    "Selecionando colunas:"
   ]
  },
  {
   "cell_type": "code",
   "execution_count": 6,
   "metadata": {},
   "outputs": [
    {
     "data": {
      "text/html": [
       "<div>\n",
       "<style scoped>\n",
       "    .dataframe tbody tr th:only-of-type {\n",
       "        vertical-align: middle;\n",
       "    }\n",
       "\n",
       "    .dataframe tbody tr th {\n",
       "        vertical-align: top;\n",
       "    }\n",
       "\n",
       "    .dataframe thead th {\n",
       "        text-align: right;\n",
       "    }\n",
       "</style>\n",
       "<table border=\"1\" class=\"dataframe\">\n",
       "  <thead>\n",
       "    <tr style=\"text-align: right;\">\n",
       "      <th></th>\n",
       "      <th>V9532</th>\n",
       "      <th>V4801</th>\n",
       "      <th>V06111</th>\n",
       "      <th>V06112</th>\n",
       "    </tr>\n",
       "  </thead>\n",
       "  <tbody>\n",
       "    <tr>\n",
       "      <th>358914</th>\n",
       "      <td>NaN</td>\n",
       "      <td>15.0</td>\n",
       "      <td>NaN</td>\n",
       "      <td>NaN</td>\n",
       "    </tr>\n",
       "    <tr>\n",
       "      <th>358915</th>\n",
       "      <td>7000.0</td>\n",
       "      <td>NaN</td>\n",
       "      <td>1.0</td>\n",
       "      <td>1.0</td>\n",
       "    </tr>\n",
       "    <tr>\n",
       "      <th>358916</th>\n",
       "      <td>3500.0</td>\n",
       "      <td>NaN</td>\n",
       "      <td>1.0</td>\n",
       "      <td>1.0</td>\n",
       "    </tr>\n",
       "    <tr>\n",
       "      <th>358917</th>\n",
       "      <td>NaN</td>\n",
       "      <td>22.0</td>\n",
       "      <td>1.0</td>\n",
       "      <td>1.0</td>\n",
       "    </tr>\n",
       "    <tr>\n",
       "      <th>358918</th>\n",
       "      <td>NaN</td>\n",
       "      <td>13.0</td>\n",
       "      <td>NaN</td>\n",
       "      <td>NaN</td>\n",
       "    </tr>\n",
       "  </tbody>\n",
       "</table>\n",
       "</div>"
      ],
      "text/plain": [
       "         V9532  V4801  V06111  V06112\n",
       "358914     NaN   15.0     NaN     NaN\n",
       "358915  7000.0    NaN     1.0     1.0\n",
       "358916  3500.0    NaN     1.0     1.0\n",
       "358917     NaN   22.0     1.0     1.0\n",
       "358918     NaN   13.0     NaN     NaN"
      ]
     },
     "execution_count": 6,
     "metadata": {},
     "output_type": "execute_result"
    }
   ],
   "source": [
    "dados = dados.loc[:, ['V9532', 'V4801', 'V06111', 'V06112']]\n",
    "dados.tail()"
   ]
  },
  {
   "cell_type": "code",
   "execution_count": 7,
   "metadata": {},
   "outputs": [
    {
     "data": {
      "text/html": [
       "<div>\n",
       "<style scoped>\n",
       "    .dataframe tbody tr th:only-of-type {\n",
       "        vertical-align: middle;\n",
       "    }\n",
       "\n",
       "    .dataframe tbody tr th {\n",
       "        vertical-align: top;\n",
       "    }\n",
       "\n",
       "    .dataframe thead th {\n",
       "        text-align: right;\n",
       "    }\n",
       "</style>\n",
       "<table border=\"1\" class=\"dataframe\">\n",
       "  <thead>\n",
       "    <tr style=\"text-align: right;\">\n",
       "      <th></th>\n",
       "      <th>V9532</th>\n",
       "      <th>V4801</th>\n",
       "      <th>V06111</th>\n",
       "      <th>V06112</th>\n",
       "    </tr>\n",
       "  </thead>\n",
       "  <tbody>\n",
       "    <tr>\n",
       "      <th>356899</th>\n",
       "      <td>900.0</td>\n",
       "      <td>NaN</td>\n",
       "      <td>1.0</td>\n",
       "      <td>1.0</td>\n",
       "    </tr>\n",
       "    <tr>\n",
       "      <th>356900</th>\n",
       "      <td>NaN</td>\n",
       "      <td>NaN</td>\n",
       "      <td>1.0</td>\n",
       "      <td>1.0</td>\n",
       "    </tr>\n",
       "    <tr>\n",
       "      <th>356901</th>\n",
       "      <td>300.0</td>\n",
       "      <td>22.0</td>\n",
       "      <td>1.0</td>\n",
       "      <td>1.0</td>\n",
       "    </tr>\n",
       "    <tr>\n",
       "      <th>356902</th>\n",
       "      <td>NaN</td>\n",
       "      <td>22.0</td>\n",
       "      <td>1.0</td>\n",
       "      <td>1.0</td>\n",
       "    </tr>\n",
       "    <tr>\n",
       "      <th>356903</th>\n",
       "      <td>NaN</td>\n",
       "      <td>12.0</td>\n",
       "      <td>NaN</td>\n",
       "      <td>NaN</td>\n",
       "    </tr>\n",
       "  </tbody>\n",
       "</table>\n",
       "</div>"
      ],
      "text/plain": [
       "        V9532  V4801  V06111  V06112\n",
       "356899  900.0    NaN     1.0     1.0\n",
       "356900    NaN    NaN     1.0     1.0\n",
       "356901  300.0   22.0     1.0     1.0\n",
       "356902    NaN   22.0     1.0     1.0\n",
       "356903    NaN   12.0     NaN     NaN"
      ]
     },
     "execution_count": 7,
     "metadata": {},
     "output_type": "execute_result"
    }
   ],
   "source": [
    "dados2 = dados2.loc[:, ['V9532', 'V4801', 'V06111', 'V06112']]\n",
    "dados2.tail()"
   ]
  },
  {
   "cell_type": "markdown",
   "metadata": {},
   "source": [
    "#  __Para escolaridade:__"
   ]
  },
  {
   "cell_type": "markdown",
   "metadata": {},
   "source": [
    "__Escolaridade é a variável categórica ordinal com maior número de categorias. \n",
    "Várias células serão utilizadas em sequência.__"
   ]
  },
  {
   "cell_type": "code",
   "execution_count": 8,
   "metadata": {},
   "outputs": [],
   "source": [
    "dados.V4801.loc[(dados.V4801 == 1) | (dados.V4801 == 2)] = 'Em alfabetização'"
   ]
  },
  {
   "cell_type": "code",
   "execution_count": 9,
   "metadata": {},
   "outputs": [
    {
     "name": "stderr",
     "output_type": "stream",
     "text": [
      "/usr/local/lib/python3.5/dist-packages/pandas/core/indexing.py:194: SettingWithCopyWarning: \n",
      "A value is trying to be set on a copy of a slice from a DataFrame\n",
      "\n",
      "See the caveats in the documentation: http://pandas.pydata.org/pandas-docs/stable/indexing.html#indexing-view-versus-copy\n",
      "  self._setitem_with_indexer(indexer, value)\n"
     ]
    }
   ],
   "source": [
    "dados.V4801.loc[(dados.V4801 == 3) | (dados.V4801 == 21)] = 'Jovens e Adultos em alfabetização ou cursando Ensino Fundamental'"
   ]
  },
  {
   "cell_type": "code",
   "execution_count": 10,
   "metadata": {
    "scrolled": true
   },
   "outputs": [
    {
     "name": "stderr",
     "output_type": "stream",
     "text": [
      "/usr/local/lib/python3.5/dist-packages/pandas/core/indexing.py:194: SettingWithCopyWarning: \n",
      "A value is trying to be set on a copy of a slice from a DataFrame\n",
      "\n",
      "See the caveats in the documentation: http://pandas.pydata.org/pandas-docs/stable/indexing.html#indexing-view-versus-copy\n",
      "  self._setitem_with_indexer(indexer, value)\n"
     ]
    }
   ],
   "source": [
    "dados.V4801.loc[(dados.V4801 == 23)] = 'Jovens e Adultos cursando Ensino Médio'"
   ]
  },
  {
   "cell_type": "code",
   "execution_count": 11,
   "metadata": {
    "scrolled": true
   },
   "outputs": [
    {
     "name": "stderr",
     "output_type": "stream",
     "text": [
      "/usr/local/lib/python3.5/dist-packages/pandas/core/indexing.py:194: SettingWithCopyWarning: \n",
      "A value is trying to be set on a copy of a slice from a DataFrame\n",
      "\n",
      "See the caveats in the documentation: http://pandas.pydata.org/pandas-docs/stable/indexing.html#indexing-view-versus-copy\n",
      "  self._setitem_with_indexer(indexer, value)\n"
     ]
    }
   ],
   "source": [
    "dados.V4801.loc[(dados.V4801 == 4) | (dados.V4801 == 5) | (dados.V4801 == 6) | (dados.V4801 == 7) | (dados.V4801 == 12) | (dados.V4801 == 13) | (dados.V4801 == 14) | (dados.V4801 == 15)] = 'Ensino Fundamental I em tempo regular'"
   ]
  },
  {
   "cell_type": "code",
   "execution_count": 12,
   "metadata": {
    "scrolled": true
   },
   "outputs": [
    {
     "name": "stderr",
     "output_type": "stream",
     "text": [
      "/usr/local/lib/python3.5/dist-packages/pandas/core/indexing.py:194: SettingWithCopyWarning: \n",
      "A value is trying to be set on a copy of a slice from a DataFrame\n",
      "\n",
      "See the caveats in the documentation: http://pandas.pydata.org/pandas-docs/stable/indexing.html#indexing-view-versus-copy\n",
      "  self._setitem_with_indexer(indexer, value)\n"
     ]
    }
   ],
   "source": [
    "dados.V4801.loc[(dados.V4801 == 8) | (dados.V4801 == 9) | (dados.V4801 == 10) | (dados.V4801 == 11) | (dados.V4801 == 16) | (dados.V4801 == 17) | (dados.V4801 == 18) | (dados.V4801 == 19) | (dados.V4801 == 20)] = 'Ensino Fundamental I em tempo regular'"
   ]
  },
  {
   "cell_type": "code",
   "execution_count": 13,
   "metadata": {
    "scrolled": true
   },
   "outputs": [
    {
     "name": "stderr",
     "output_type": "stream",
     "text": [
      "/usr/local/lib/python3.5/dist-packages/pandas/core/indexing.py:194: SettingWithCopyWarning: \n",
      "A value is trying to be set on a copy of a slice from a DataFrame\n",
      "\n",
      "See the caveats in the documentation: http://pandas.pydata.org/pandas-docs/stable/indexing.html#indexing-view-versus-copy\n",
      "  self._setitem_with_indexer(indexer, value)\n"
     ]
    }
   ],
   "source": [
    "dados.V4801.loc[(dados.V4801 == 22)] = 'Ensino Médio em tempo regular'"
   ]
  },
  {
   "cell_type": "code",
   "execution_count": 14,
   "metadata": {
    "scrolled": true
   },
   "outputs": [
    {
     "name": "stderr",
     "output_type": "stream",
     "text": [
      "/usr/local/lib/python3.5/dist-packages/pandas/core/indexing.py:194: SettingWithCopyWarning: \n",
      "A value is trying to be set on a copy of a slice from a DataFrame\n",
      "\n",
      "See the caveats in the documentation: http://pandas.pydata.org/pandas-docs/stable/indexing.html#indexing-view-versus-copy\n",
      "  self._setitem_with_indexer(indexer, value)\n"
     ]
    }
   ],
   "source": [
    "dados.V4801.loc[(dados.V4801 == 24)] = 'Pré-Vestibulando'"
   ]
  },
  {
   "cell_type": "code",
   "execution_count": 15,
   "metadata": {
    "scrolled": true
   },
   "outputs": [
    {
     "name": "stderr",
     "output_type": "stream",
     "text": [
      "/usr/local/lib/python3.5/dist-packages/pandas/core/indexing.py:194: SettingWithCopyWarning: \n",
      "A value is trying to be set on a copy of a slice from a DataFrame\n",
      "\n",
      "See the caveats in the documentation: http://pandas.pydata.org/pandas-docs/stable/indexing.html#indexing-view-versus-copy\n",
      "  self._setitem_with_indexer(indexer, value)\n"
     ]
    }
   ],
   "source": [
    "dados.V4801.loc[(dados.V4801 == 25)] = 'Ensino Superior, Mestrando ou Doutorando'"
   ]
  },
  {
   "cell_type": "markdown",
   "metadata": {},
   "source": [
    "## Agora para 2015:"
   ]
  },
  {
   "cell_type": "code",
   "execution_count": 16,
   "metadata": {},
   "outputs": [],
   "source": [
    "dados2.V4801.loc[(dados2.V4801 == 1) | (dados2.V4801 == 2)] = 'Em alfabetização'"
   ]
  },
  {
   "cell_type": "code",
   "execution_count": 17,
   "metadata": {},
   "outputs": [
    {
     "name": "stderr",
     "output_type": "stream",
     "text": [
      "/usr/local/lib/python3.5/dist-packages/pandas/core/indexing.py:194: SettingWithCopyWarning: \n",
      "A value is trying to be set on a copy of a slice from a DataFrame\n",
      "\n",
      "See the caveats in the documentation: http://pandas.pydata.org/pandas-docs/stable/indexing.html#indexing-view-versus-copy\n",
      "  self._setitem_with_indexer(indexer, value)\n"
     ]
    }
   ],
   "source": [
    "dados2.V4801.loc[(dados2.V4801 == 3) | (dados2.V4801 == 21)] = 'Jovens e Adultos em alfabetização ou cursando Ensino Fundamental'"
   ]
  },
  {
   "cell_type": "code",
   "execution_count": 18,
   "metadata": {
    "scrolled": true
   },
   "outputs": [
    {
     "name": "stderr",
     "output_type": "stream",
     "text": [
      "/usr/local/lib/python3.5/dist-packages/pandas/core/indexing.py:194: SettingWithCopyWarning: \n",
      "A value is trying to be set on a copy of a slice from a DataFrame\n",
      "\n",
      "See the caveats in the documentation: http://pandas.pydata.org/pandas-docs/stable/indexing.html#indexing-view-versus-copy\n",
      "  self._setitem_with_indexer(indexer, value)\n"
     ]
    }
   ],
   "source": [
    "dados2.V4801.loc[(dados2.V4801 == 23)] = 'Jovens e Adultos cursando Ensino Médio'"
   ]
  },
  {
   "cell_type": "code",
   "execution_count": 19,
   "metadata": {
    "scrolled": true
   },
   "outputs": [
    {
     "name": "stderr",
     "output_type": "stream",
     "text": [
      "/usr/local/lib/python3.5/dist-packages/pandas/core/indexing.py:194: SettingWithCopyWarning: \n",
      "A value is trying to be set on a copy of a slice from a DataFrame\n",
      "\n",
      "See the caveats in the documentation: http://pandas.pydata.org/pandas-docs/stable/indexing.html#indexing-view-versus-copy\n",
      "  self._setitem_with_indexer(indexer, value)\n"
     ]
    }
   ],
   "source": [
    "dados2.V4801.loc[(dados2.V4801 == 4) | (dados2.V4801 == 5) | (dados2.V4801 == 6) | (dados2.V4801 == 7) | (dados2.V4801 == 12) | (dados2.V4801 == 13) | (dados2.V4801 == 14) | (dados2.V4801 == 15)] = 'Ensino Fundamental I em tempo regular'"
   ]
  },
  {
   "cell_type": "code",
   "execution_count": 20,
   "metadata": {
    "scrolled": true
   },
   "outputs": [
    {
     "name": "stderr",
     "output_type": "stream",
     "text": [
      "/usr/local/lib/python3.5/dist-packages/pandas/core/indexing.py:194: SettingWithCopyWarning: \n",
      "A value is trying to be set on a copy of a slice from a DataFrame\n",
      "\n",
      "See the caveats in the documentation: http://pandas.pydata.org/pandas-docs/stable/indexing.html#indexing-view-versus-copy\n",
      "  self._setitem_with_indexer(indexer, value)\n"
     ]
    }
   ],
   "source": [
    "dados2.V4801.loc[(dados2.V4801 == 8) | (dados2.V4801 == 9) | (dados2.V4801 == 10) | (dados2.V4801 == 11) | (dados2.V4801 == 16) | (dados2.V4801 == 17) | (dados2.V4801 == 18) | (dados2.V4801 == 19) | (dados2.V4801 == 20)] = 'Ensino Fundamental I em tempo regular'"
   ]
  },
  {
   "cell_type": "code",
   "execution_count": 21,
   "metadata": {
    "scrolled": true
   },
   "outputs": [
    {
     "name": "stderr",
     "output_type": "stream",
     "text": [
      "/usr/local/lib/python3.5/dist-packages/pandas/core/indexing.py:194: SettingWithCopyWarning: \n",
      "A value is trying to be set on a copy of a slice from a DataFrame\n",
      "\n",
      "See the caveats in the documentation: http://pandas.pydata.org/pandas-docs/stable/indexing.html#indexing-view-versus-copy\n",
      "  self._setitem_with_indexer(indexer, value)\n"
     ]
    }
   ],
   "source": [
    "dados2.V4801.loc[(dados2.V4801 == 22)] = 'Ensino Médio em tempo regular'"
   ]
  },
  {
   "cell_type": "code",
   "execution_count": 22,
   "metadata": {
    "scrolled": true
   },
   "outputs": [
    {
     "name": "stderr",
     "output_type": "stream",
     "text": [
      "/usr/local/lib/python3.5/dist-packages/pandas/core/indexing.py:194: SettingWithCopyWarning: \n",
      "A value is trying to be set on a copy of a slice from a DataFrame\n",
      "\n",
      "See the caveats in the documentation: http://pandas.pydata.org/pandas-docs/stable/indexing.html#indexing-view-versus-copy\n",
      "  self._setitem_with_indexer(indexer, value)\n"
     ]
    }
   ],
   "source": [
    "dados2.V4801.loc[(dados2.V4801 == 24)] = 'Pré-Vestibulando'"
   ]
  },
  {
   "cell_type": "code",
   "execution_count": 23,
   "metadata": {
    "scrolled": true
   },
   "outputs": [
    {
     "name": "stderr",
     "output_type": "stream",
     "text": [
      "/usr/local/lib/python3.5/dist-packages/pandas/core/indexing.py:194: SettingWithCopyWarning: \n",
      "A value is trying to be set on a copy of a slice from a DataFrame\n",
      "\n",
      "See the caveats in the documentation: http://pandas.pydata.org/pandas-docs/stable/indexing.html#indexing-view-versus-copy\n",
      "  self._setitem_with_indexer(indexer, value)\n"
     ]
    }
   ],
   "source": [
    "dados2.V4801.loc[(dados2.V4801 == 25)] = 'Ensino Superior, Mestrando ou Doutorando'"
   ]
  },
  {
   "cell_type": "markdown",
   "metadata": {},
   "source": [
    "__Tratando NaN usando o método__ `.fillna()`"
   ]
  },
  {
   "cell_type": "code",
   "execution_count": 24,
   "metadata": {},
   "outputs": [],
   "source": [
    "dados.V4801 = dados.V4801.fillna(value = 'Não Informado')\n",
    "dados2.V4801 = dados2.V4801.fillna(value = 'Não Informado')"
   ]
  },
  {
   "cell_type": "markdown",
   "metadata": {},
   "source": [
    "__Checando resultados:__"
   ]
  },
  {
   "cell_type": "code",
   "execution_count": 25,
   "metadata": {},
   "outputs": [
    {
     "data": {
      "text/html": [
       "<div>\n",
       "<style scoped>\n",
       "    .dataframe tbody tr th:only-of-type {\n",
       "        vertical-align: middle;\n",
       "    }\n",
       "\n",
       "    .dataframe tbody tr th {\n",
       "        vertical-align: top;\n",
       "    }\n",
       "\n",
       "    .dataframe thead th {\n",
       "        text-align: right;\n",
       "    }\n",
       "</style>\n",
       "<table border=\"1\" class=\"dataframe\">\n",
       "  <thead>\n",
       "    <tr style=\"text-align: right;\">\n",
       "      <th></th>\n",
       "      <th>V9532</th>\n",
       "      <th>V4801</th>\n",
       "      <th>V06111</th>\n",
       "      <th>V06112</th>\n",
       "    </tr>\n",
       "  </thead>\n",
       "  <tbody>\n",
       "    <tr>\n",
       "      <th>0</th>\n",
       "      <td>1.000000e+12</td>\n",
       "      <td>Não Informado</td>\n",
       "      <td>3.0</td>\n",
       "      <td>1.0</td>\n",
       "    </tr>\n",
       "    <tr>\n",
       "      <th>1</th>\n",
       "      <td>NaN</td>\n",
       "      <td>Ensino Superior, Mestrando ou Doutorando</td>\n",
       "      <td>1.0</td>\n",
       "      <td>1.0</td>\n",
       "    </tr>\n",
       "    <tr>\n",
       "      <th>2</th>\n",
       "      <td>NaN</td>\n",
       "      <td>Ensino Médio em tempo regular</td>\n",
       "      <td>1.0</td>\n",
       "      <td>3.0</td>\n",
       "    </tr>\n",
       "    <tr>\n",
       "      <th>3</th>\n",
       "      <td>NaN</td>\n",
       "      <td>Ensino Fundamental I em tempo regular</td>\n",
       "      <td>NaN</td>\n",
       "      <td>NaN</td>\n",
       "    </tr>\n",
       "    <tr>\n",
       "      <th>4</th>\n",
       "      <td>2.800000e+03</td>\n",
       "      <td>Não Informado</td>\n",
       "      <td>3.0</td>\n",
       "      <td>1.0</td>\n",
       "    </tr>\n",
       "  </tbody>\n",
       "</table>\n",
       "</div>"
      ],
      "text/plain": [
       "          V9532                                     V4801  V06111  V06112\n",
       "0  1.000000e+12                             Não Informado     3.0     1.0\n",
       "1           NaN  Ensino Superior, Mestrando ou Doutorando     1.0     1.0\n",
       "2           NaN             Ensino Médio em tempo regular     1.0     3.0\n",
       "3           NaN     Ensino Fundamental I em tempo regular     NaN     NaN\n",
       "4  2.800000e+03                             Não Informado     3.0     1.0"
      ]
     },
     "execution_count": 25,
     "metadata": {},
     "output_type": "execute_result"
    }
   ],
   "source": [
    "dados.head()"
   ]
  },
  {
   "cell_type": "code",
   "execution_count": 26,
   "metadata": {
    "scrolled": true
   },
   "outputs": [
    {
     "data": {
      "text/html": [
       "<div>\n",
       "<style scoped>\n",
       "    .dataframe tbody tr th:only-of-type {\n",
       "        vertical-align: middle;\n",
       "    }\n",
       "\n",
       "    .dataframe tbody tr th {\n",
       "        vertical-align: top;\n",
       "    }\n",
       "\n",
       "    .dataframe thead th {\n",
       "        text-align: right;\n",
       "    }\n",
       "</style>\n",
       "<table border=\"1\" class=\"dataframe\">\n",
       "  <thead>\n",
       "    <tr style=\"text-align: right;\">\n",
       "      <th></th>\n",
       "      <th>V9532</th>\n",
       "      <th>V4801</th>\n",
       "      <th>V06111</th>\n",
       "      <th>V06112</th>\n",
       "    </tr>\n",
       "  </thead>\n",
       "  <tbody>\n",
       "    <tr>\n",
       "      <th>0</th>\n",
       "      <td>800.0</td>\n",
       "      <td>Não Informado</td>\n",
       "      <td>1.0</td>\n",
       "      <td>1.0</td>\n",
       "    </tr>\n",
       "    <tr>\n",
       "      <th>1</th>\n",
       "      <td>1150.0</td>\n",
       "      <td>Não Informado</td>\n",
       "      <td>1.0</td>\n",
       "      <td>1.0</td>\n",
       "    </tr>\n",
       "    <tr>\n",
       "      <th>2</th>\n",
       "      <td>880.0</td>\n",
       "      <td>Ensino Superior, Mestrando ou Doutorando</td>\n",
       "      <td>1.0</td>\n",
       "      <td>1.0</td>\n",
       "    </tr>\n",
       "    <tr>\n",
       "      <th>3</th>\n",
       "      <td>3000.0</td>\n",
       "      <td>Não Informado</td>\n",
       "      <td>1.0</td>\n",
       "      <td>1.0</td>\n",
       "    </tr>\n",
       "    <tr>\n",
       "      <th>4</th>\n",
       "      <td>NaN</td>\n",
       "      <td>Ensino Fundamental I em tempo regular</td>\n",
       "      <td>1.0</td>\n",
       "      <td>1.0</td>\n",
       "    </tr>\n",
       "  </tbody>\n",
       "</table>\n",
       "</div>"
      ],
      "text/plain": [
       "    V9532                                     V4801  V06111  V06112\n",
       "0   800.0                             Não Informado     1.0     1.0\n",
       "1  1150.0                             Não Informado     1.0     1.0\n",
       "2   880.0  Ensino Superior, Mestrando ou Doutorando     1.0     1.0\n",
       "3  3000.0                             Não Informado     1.0     1.0\n",
       "4     NaN     Ensino Fundamental I em tempo regular     1.0     1.0"
      ]
     },
     "execution_count": 26,
     "metadata": {},
     "output_type": "execute_result"
    }
   ],
   "source": [
    "dados2.head()"
   ]
  },
  {
   "cell_type": "code",
   "execution_count": 32,
   "metadata": {
    "scrolled": true
   },
   "outputs": [
    {
     "data": {
      "text/plain": [
       "<matplotlib.axes._subplots.AxesSubplot at 0x7f8399b40780>"
      ]
     },
     "execution_count": 32,
     "metadata": {},
     "output_type": "execute_result"
    },
    {
     "data": {
      "image/png": "[encoded data removed]",
      "text/plain": [
       "<matplotlib.figure.Figure at 0x7f83679ba0f0>"
      ]
     },
     "metadata": {},
     "output_type": "display_data"
    }
   ],
   "source": [
    "a = dados.V4801.value_counts(normalize = 1)\n",
    "a.plot(kind='bar', color=('blue', 'red'), legend=False)"
   ]
  },
  {
   "cell_type": "code",
   "execution_count": 33,
   "metadata": {},
   "outputs": [
    {
     "data": {
      "text/plain": [
       "<matplotlib.axes._subplots.AxesSubplot at 0x7f8399d61240>"
      ]
     },
     "execution_count": 33,
     "metadata": {},
     "output_type": "execute_result"
    },
    {
     "data": {
      "image/png": "[encoded data removed]",
      "text/plain": [
       "<matplotlib.figure.Figure at 0x7f83677a8048>"
      ]
     },
     "metadata": {},
     "output_type": "display_data"
    }
   ],
   "source": [
    "b = dados2.V4801.value_counts(normalize = 1)\n",
    "b.plot(kind='bar', color=('blue', 'red'), legend=False)"
   ]
  },
  {
   "cell_type": "markdown",
   "metadata": {},
   "source": [
    "# __Para Internet__:"
   ]
  },
  {
   "cell_type": "markdown",
   "metadata": {},
   "source": [
    "__Atribuindo valores categóricos:__"
   ]
  },
  {
   "cell_type": "code",
   "execution_count": 34,
   "metadata": {},
   "outputs": [
    {
     "name": "stderr",
     "output_type": "stream",
     "text": [
      "/usr/local/lib/python3.5/dist-packages/pandas/core/indexing.py:194: SettingWithCopyWarning: \n",
      "A value is trying to be set on a copy of a slice from a DataFrame\n",
      "\n",
      "See the caveats in the documentation: http://pandas.pydata.org/pandas-docs/stable/indexing.html#indexing-view-versus-copy\n",
      "  self._setitem_with_indexer(indexer, value)\n"
     ]
    }
   ],
   "source": [
    "dados.V06111.loc[(dados.V06111 == 1)] = 'Sim'\n",
    "dados.V06111.loc[(dados.V06111 == 3)] = 'Não'"
   ]
  },
  {
   "cell_type": "markdown",
   "metadata": {},
   "source": [
    "## Agora para 2015"
   ]
  },
  {
   "cell_type": "code",
   "execution_count": 35,
   "metadata": {},
   "outputs": [
    {
     "name": "stderr",
     "output_type": "stream",
     "text": [
      "/usr/local/lib/python3.5/dist-packages/pandas/core/indexing.py:194: SettingWithCopyWarning: \n",
      "A value is trying to be set on a copy of a slice from a DataFrame\n",
      "\n",
      "See the caveats in the documentation: http://pandas.pydata.org/pandas-docs/stable/indexing.html#indexing-view-versus-copy\n",
      "  self._setitem_with_indexer(indexer, value)\n"
     ]
    }
   ],
   "source": [
    "dados2.V06111.loc[(dados2.V06111 == 1)] = 'Sim'\n",
    "dados2.V06111.loc[(dados2.V06111 == 3)] = 'Não'"
   ]
  },
  {
   "cell_type": "markdown",
   "metadata": {},
   "source": [
    "__Tratando NaN usando o método__ `.fillna()`"
   ]
  },
  {
   "cell_type": "code",
   "execution_count": 36,
   "metadata": {},
   "outputs": [],
   "source": [
    "dados.V06111 = dados.V06111.fillna(value = 'Não Informado')"
   ]
  },
  {
   "cell_type": "code",
   "execution_count": 37,
   "metadata": {},
   "outputs": [],
   "source": [
    "dados2.V06111 = dados2.V06111.fillna(value = 'Não Informado')"
   ]
  },
  {
   "cell_type": "markdown",
   "metadata": {},
   "source": [
    "__Checando resultados:__"
   ]
  },
  {
   "cell_type": "code",
   "execution_count": 38,
   "metadata": {},
   "outputs": [
    {
     "data": {
      "text/html": [
       "<div>\n",
       "<style scoped>\n",
       "    .dataframe tbody tr th:only-of-type {\n",
       "        vertical-align: middle;\n",
       "    }\n",
       "\n",
       "    .dataframe tbody tr th {\n",
       "        vertical-align: top;\n",
       "    }\n",
       "\n",
       "    .dataframe thead th {\n",
       "        text-align: right;\n",
       "    }\n",
       "</style>\n",
       "<table border=\"1\" class=\"dataframe\">\n",
       "  <thead>\n",
       "    <tr style=\"text-align: right;\">\n",
       "      <th></th>\n",
       "      <th>V9532</th>\n",
       "      <th>V4801</th>\n",
       "      <th>V06111</th>\n",
       "      <th>V06112</th>\n",
       "    </tr>\n",
       "  </thead>\n",
       "  <tbody>\n",
       "    <tr>\n",
       "      <th>0</th>\n",
       "      <td>1.000000e+12</td>\n",
       "      <td>Não Informado</td>\n",
       "      <td>Não</td>\n",
       "      <td>1.0</td>\n",
       "    </tr>\n",
       "    <tr>\n",
       "      <th>1</th>\n",
       "      <td>NaN</td>\n",
       "      <td>Ensino Superior, Mestrando ou Doutorando</td>\n",
       "      <td>Sim</td>\n",
       "      <td>1.0</td>\n",
       "    </tr>\n",
       "    <tr>\n",
       "      <th>2</th>\n",
       "      <td>NaN</td>\n",
       "      <td>Ensino Médio em tempo regular</td>\n",
       "      <td>Sim</td>\n",
       "      <td>3.0</td>\n",
       "    </tr>\n",
       "    <tr>\n",
       "      <th>3</th>\n",
       "      <td>NaN</td>\n",
       "      <td>Ensino Fundamental I em tempo regular</td>\n",
       "      <td>Não Informado</td>\n",
       "      <td>NaN</td>\n",
       "    </tr>\n",
       "    <tr>\n",
       "      <th>4</th>\n",
       "      <td>2.800000e+03</td>\n",
       "      <td>Não Informado</td>\n",
       "      <td>Não</td>\n",
       "      <td>1.0</td>\n",
       "    </tr>\n",
       "  </tbody>\n",
       "</table>\n",
       "</div>"
      ],
      "text/plain": [
       "          V9532                                     V4801         V06111  \\\n",
       "0  1.000000e+12                             Não Informado            Não   \n",
       "1           NaN  Ensino Superior, Mestrando ou Doutorando            Sim   \n",
       "2           NaN             Ensino Médio em tempo regular            Sim   \n",
       "3           NaN     Ensino Fundamental I em tempo regular  Não Informado   \n",
       "4  2.800000e+03                             Não Informado            Não   \n",
       "\n",
       "   V06112  \n",
       "0     1.0  \n",
       "1     1.0  \n",
       "2     3.0  \n",
       "3     NaN  \n",
       "4     1.0  "
      ]
     },
     "execution_count": 38,
     "metadata": {},
     "output_type": "execute_result"
    }
   ],
   "source": [
    "dados.head()"
   ]
  },
  {
   "cell_type": "code",
   "execution_count": 39,
   "metadata": {},
   "outputs": [
    {
     "data": {
      "text/html": [
       "<div>\n",
       "<style scoped>\n",
       "    .dataframe tbody tr th:only-of-type {\n",
       "        vertical-align: middle;\n",
       "    }\n",
       "\n",
       "    .dataframe tbody tr th {\n",
       "        vertical-align: top;\n",
       "    }\n",
       "\n",
       "    .dataframe thead th {\n",
       "        text-align: right;\n",
       "    }\n",
       "</style>\n",
       "<table border=\"1\" class=\"dataframe\">\n",
       "  <thead>\n",
       "    <tr style=\"text-align: right;\">\n",
       "      <th></th>\n",
       "      <th>V9532</th>\n",
       "      <th>V4801</th>\n",
       "      <th>V06111</th>\n",
       "      <th>V06112</th>\n",
       "    </tr>\n",
       "  </thead>\n",
       "  <tbody>\n",
       "    <tr>\n",
       "      <th>0</th>\n",
       "      <td>800.0</td>\n",
       "      <td>Não Informado</td>\n",
       "      <td>Sim</td>\n",
       "      <td>1.0</td>\n",
       "    </tr>\n",
       "    <tr>\n",
       "      <th>1</th>\n",
       "      <td>1150.0</td>\n",
       "      <td>Não Informado</td>\n",
       "      <td>Sim</td>\n",
       "      <td>1.0</td>\n",
       "    </tr>\n",
       "    <tr>\n",
       "      <th>2</th>\n",
       "      <td>880.0</td>\n",
       "      <td>Ensino Superior, Mestrando ou Doutorando</td>\n",
       "      <td>Sim</td>\n",
       "      <td>1.0</td>\n",
       "    </tr>\n",
       "    <tr>\n",
       "      <th>3</th>\n",
       "      <td>3000.0</td>\n",
       "      <td>Não Informado</td>\n",
       "      <td>Sim</td>\n",
       "      <td>1.0</td>\n",
       "    </tr>\n",
       "    <tr>\n",
       "      <th>4</th>\n",
       "      <td>NaN</td>\n",
       "      <td>Ensino Fundamental I em tempo regular</td>\n",
       "      <td>Sim</td>\n",
       "      <td>1.0</td>\n",
       "    </tr>\n",
       "  </tbody>\n",
       "</table>\n",
       "</div>"
      ],
      "text/plain": [
       "    V9532                                     V4801 V06111  V06112\n",
       "0   800.0                             Não Informado    Sim     1.0\n",
       "1  1150.0                             Não Informado    Sim     1.0\n",
       "2   880.0  Ensino Superior, Mestrando ou Doutorando    Sim     1.0\n",
       "3  3000.0                             Não Informado    Sim     1.0\n",
       "4     NaN     Ensino Fundamental I em tempo regular    Sim     1.0"
      ]
     },
     "execution_count": 39,
     "metadata": {},
     "output_type": "execute_result"
    }
   ],
   "source": [
    "dados2.head()"
   ]
  },
  {
   "cell_type": "code",
   "execution_count": 40,
   "metadata": {},
   "outputs": [
    {
     "data": {
      "text/plain": [
       "<matplotlib.axes._subplots.AxesSubplot at 0x7f83677ac978>"
      ]
     },
     "execution_count": 40,
     "metadata": {},
     "output_type": "execute_result"
    },
    {
     "data": {
      "image/png": "[encoded data removed]",
      "text/plain": [
       "<matplotlib.figure.Figure at 0x7f83cd57ef28>"
      ]
     },
     "metadata": {},
     "output_type": "display_data"
    }
   ],
   "source": [
    "c = dados.V06111.value_counts(normalize = 1)\n",
    "c.plot(kind='bar', color=('blue', 'red'), legend=False)"
   ]
  },
  {
   "cell_type": "code",
   "execution_count": 41,
   "metadata": {},
   "outputs": [
    {
     "data": {
      "text/plain": [
       "<matplotlib.axes._subplots.AxesSubplot at 0x7f8367a76860>"
      ]
     },
     "execution_count": 41,
     "metadata": {},
     "output_type": "execute_result"
    },
    {
     "data": {
      "image/png": "[encoded data removed]",
      "text/plain": [
       "<matplotlib.figure.Figure at 0x7f83959792e8>"
      ]
     },
     "metadata": {},
     "output_type": "display_data"
    }
   ],
   "source": [
    "d = dados.V06111.value_counts(normalize = 1)\n",
    "d.plot(kind='bar', color=('blue', 'red'), legend=False)"
   ]
  },
  {
   "cell_type": "markdown",
   "metadata": {},
   "source": [
    "# __Para celular pessoal:__"
   ]
  },
  {
   "cell_type": "markdown",
   "metadata": {},
   "source": [
    "__Atribuindo valores categóricos:__"
   ]
  },
  {
   "cell_type": "code",
   "execution_count": 44,
   "metadata": {},
   "outputs": [
    {
     "name": "stderr",
     "output_type": "stream",
     "text": [
      "/usr/local/lib/python3.5/dist-packages/pandas/core/indexing.py:194: SettingWithCopyWarning: \n",
      "A value is trying to be set on a copy of a slice from a DataFrame\n",
      "\n",
      "See the caveats in the documentation: http://pandas.pydata.org/pandas-docs/stable/indexing.html#indexing-view-versus-copy\n",
      "  self._setitem_with_indexer(indexer, value)\n"
     ]
    }
   ],
   "source": [
    "dados.V06112.loc[(dados.V06112 == 1)] = 'Sim'\n",
    "dados.V06112.loc[(dados.V06112 == 3)] = 'Não'"
   ]
  },
  {
   "cell_type": "code",
   "execution_count": 45,
   "metadata": {},
   "outputs": [
    {
     "name": "stderr",
     "output_type": "stream",
     "text": [
      "/usr/local/lib/python3.5/dist-packages/pandas/core/indexing.py:194: SettingWithCopyWarning: \n",
      "A value is trying to be set on a copy of a slice from a DataFrame\n",
      "\n",
      "See the caveats in the documentation: http://pandas.pydata.org/pandas-docs/stable/indexing.html#indexing-view-versus-copy\n",
      "  self._setitem_with_indexer(indexer, value)\n"
     ]
    }
   ],
   "source": [
    "dados2.V06112.loc[(dados2.V06112 == 1)] = 'Sim'\n",
    "dados2.V06112.loc[(dados2.V06112 == 3)] = 'Não'"
   ]
  },
  {
   "cell_type": "markdown",
   "metadata": {},
   "source": [
    "__Tratando NaN usando o método__ `.fillna()`"
   ]
  },
  {
   "cell_type": "code",
   "execution_count": 46,
   "metadata": {},
   "outputs": [],
   "source": [
    "dados.V06112 = dados.V06112.fillna(value = 'Não Informado')"
   ]
  },
  {
   "cell_type": "code",
   "execution_count": 47,
   "metadata": {},
   "outputs": [],
   "source": [
    "dados2.V06112 = dados2.V06112.fillna(value = 'Não Informado')"
   ]
  },
  {
   "cell_type": "code",
   "execution_count": 48,
   "metadata": {},
   "outputs": [
    {
     "data": {
      "text/plain": [
       "<matplotlib.axes._subplots.AxesSubplot at 0x7f83958c8e80>"
      ]
     },
     "execution_count": 48,
     "metadata": {},
     "output_type": "execute_result"
    },
    {
     "data": {
      "image/png": "[encoded data removed]",
      "text/plain": [
       "<matplotlib.figure.Figure at 0x7f8399d53e10>"
      ]
     },
     "metadata": {},
     "output_type": "display_data"
    }
   ],
   "source": [
    "e = dados.V06112.value_counts(normalize = 1)\n",
    "e.plot(kind='bar', color=('blue', 'red'), legend=False)"
   ]
  },
  {
   "cell_type": "code",
   "execution_count": 49,
   "metadata": {},
   "outputs": [
    {
     "data": {
      "text/plain": [
       "<matplotlib.axes._subplots.AxesSubplot at 0x7f8395953898>"
      ]
     },
     "execution_count": 49,
     "metadata": {},
     "output_type": "execute_result"
    },
    {
     "data": {
      "image/png": "[encoded data removed]",
      "text/plain": [
       "<matplotlib.figure.Figure at 0x7f83958227b8>"
      ]
     },
     "metadata": {},
     "output_type": "display_data"
    }
   ],
   "source": [
    "f = dados.V06111.value_counts(normalize = 1)\n",
    "f.plot(kind='bar', color=('blue', 'red'), legend=False)"
   ]
  },
  {
   "cell_type": "markdown",
   "metadata": {},
   "source": [
    "# Renomeando colunas:"
   ]
  },
  {
   "cell_type": "code",
   "execution_count": 50,
   "metadata": {},
   "outputs": [],
   "source": [
    "dados.columns = ['Renda11', 'Escolaridade11', 'Internet11', 'Celular11']"
   ]
  },
  {
   "cell_type": "code",
   "execution_count": 51,
   "metadata": {},
   "outputs": [],
   "source": [
    "dados2.columns = ['Renda15', 'Escolaridade15', 'Internet15', 'Celular15']"
   ]
  },
  {
   "cell_type": "code",
   "execution_count": 52,
   "metadata": {},
   "outputs": [
    {
     "data": {
      "text/html": [
       "<div>\n",
       "<style scoped>\n",
       "    .dataframe tbody tr th:only-of-type {\n",
       "        vertical-align: middle;\n",
       "    }\n",
       "\n",
       "    .dataframe tbody tr th {\n",
       "        vertical-align: top;\n",
       "    }\n",
       "\n",
       "    .dataframe thead th {\n",
       "        text-align: right;\n",
       "    }\n",
       "</style>\n",
       "<table border=\"1\" class=\"dataframe\">\n",
       "  <thead>\n",
       "    <tr style=\"text-align: right;\">\n",
       "      <th></th>\n",
       "      <th>Renda11</th>\n",
       "      <th>Escolaridade11</th>\n",
       "      <th>Internet11</th>\n",
       "      <th>Celular11</th>\n",
       "    </tr>\n",
       "  </thead>\n",
       "  <tbody>\n",
       "    <tr>\n",
       "      <th>0</th>\n",
       "      <td>1.000000e+12</td>\n",
       "      <td>Não Informado</td>\n",
       "      <td>Não</td>\n",
       "      <td>Sim</td>\n",
       "    </tr>\n",
       "    <tr>\n",
       "      <th>1</th>\n",
       "      <td>NaN</td>\n",
       "      <td>Ensino Superior, Mestrando ou Doutorando</td>\n",
       "      <td>Sim</td>\n",
       "      <td>Sim</td>\n",
       "    </tr>\n",
       "    <tr>\n",
       "      <th>2</th>\n",
       "      <td>NaN</td>\n",
       "      <td>Ensino Médio em tempo regular</td>\n",
       "      <td>Sim</td>\n",
       "      <td>Não</td>\n",
       "    </tr>\n",
       "    <tr>\n",
       "      <th>3</th>\n",
       "      <td>NaN</td>\n",
       "      <td>Ensino Fundamental I em tempo regular</td>\n",
       "      <td>Não Informado</td>\n",
       "      <td>Não Informado</td>\n",
       "    </tr>\n",
       "    <tr>\n",
       "      <th>4</th>\n",
       "      <td>2.800000e+03</td>\n",
       "      <td>Não Informado</td>\n",
       "      <td>Não</td>\n",
       "      <td>Sim</td>\n",
       "    </tr>\n",
       "  </tbody>\n",
       "</table>\n",
       "</div>"
      ],
      "text/plain": [
       "        Renda11                            Escolaridade11     Internet11  \\\n",
       "0  1.000000e+12                             Não Informado            Não   \n",
       "1           NaN  Ensino Superior, Mestrando ou Doutorando            Sim   \n",
       "2           NaN             Ensino Médio em tempo regular            Sim   \n",
       "3           NaN     Ensino Fundamental I em tempo regular  Não Informado   \n",
       "4  2.800000e+03                             Não Informado            Não   \n",
       "\n",
       "       Celular11  \n",
       "0            Sim  \n",
       "1            Sim  \n",
       "2            Não  \n",
       "3  Não Informado  \n",
       "4            Sim  "
      ]
     },
     "execution_count": 52,
     "metadata": {},
     "output_type": "execute_result"
    }
   ],
   "source": [
    "dados.head()"
   ]
  },
  {
   "cell_type": "code",
   "execution_count": 53,
   "metadata": {},
   "outputs": [
    {
     "data": {
      "text/html": [
       "<div>\n",
       "<style scoped>\n",
       "    .dataframe tbody tr th:only-of-type {\n",
       "        vertical-align: middle;\n",
       "    }\n",
       "\n",
       "    .dataframe tbody tr th {\n",
       "        vertical-align: top;\n",
       "    }\n",
       "\n",
       "    .dataframe thead th {\n",
       "        text-align: right;\n",
       "    }\n",
       "</style>\n",
       "<table border=\"1\" class=\"dataframe\">\n",
       "  <thead>\n",
       "    <tr style=\"text-align: right;\">\n",
       "      <th></th>\n",
       "      <th>Renda15</th>\n",
       "      <th>Escolaridade15</th>\n",
       "      <th>Internet15</th>\n",
       "      <th>Celular15</th>\n",
       "    </tr>\n",
       "  </thead>\n",
       "  <tbody>\n",
       "    <tr>\n",
       "      <th>0</th>\n",
       "      <td>800.0</td>\n",
       "      <td>Não Informado</td>\n",
       "      <td>Sim</td>\n",
       "      <td>Sim</td>\n",
       "    </tr>\n",
       "    <tr>\n",
       "      <th>1</th>\n",
       "      <td>1150.0</td>\n",
       "      <td>Não Informado</td>\n",
       "      <td>Sim</td>\n",
       "      <td>Sim</td>\n",
       "    </tr>\n",
       "    <tr>\n",
       "      <th>2</th>\n",
       "      <td>880.0</td>\n",
       "      <td>Ensino Superior, Mestrando ou Doutorando</td>\n",
       "      <td>Sim</td>\n",
       "      <td>Sim</td>\n",
       "    </tr>\n",
       "    <tr>\n",
       "      <th>3</th>\n",
       "      <td>3000.0</td>\n",
       "      <td>Não Informado</td>\n",
       "      <td>Sim</td>\n",
       "      <td>Sim</td>\n",
       "    </tr>\n",
       "    <tr>\n",
       "      <th>4</th>\n",
       "      <td>NaN</td>\n",
       "      <td>Ensino Fundamental I em tempo regular</td>\n",
       "      <td>Sim</td>\n",
       "      <td>Sim</td>\n",
       "    </tr>\n",
       "  </tbody>\n",
       "</table>\n",
       "</div>"
      ],
      "text/plain": [
       "   Renda15                            Escolaridade15 Internet15 Celular15\n",
       "0    800.0                             Não Informado        Sim       Sim\n",
       "1   1150.0                             Não Informado        Sim       Sim\n",
       "2    880.0  Ensino Superior, Mestrando ou Doutorando        Sim       Sim\n",
       "3   3000.0                             Não Informado        Sim       Sim\n",
       "4      NaN     Ensino Fundamental I em tempo regular        Sim       Sim"
      ]
     },
     "execution_count": 53,
     "metadata": {},
     "output_type": "execute_result"
    }
   ],
   "source": [
    "dados2.head()"
   ]
  },
  {
   "cell_type": "markdown",
   "metadata": {},
   "source": [
    "# __Para Renda: FAZER RESTRIÇÃO DE PLOT__"
   ]
  },
  {
   "cell_type": "code",
   "execution_count": 54,
   "metadata": {},
   "outputs": [
    {
     "data": {
      "text/plain": [
       "count    1.573390e+05\n",
       "mean     3.795626e+10\n",
       "std      1.910911e+11\n",
       "min      1.000000e+00\n",
       "25%      5.450000e+02\n",
       "50%      8.000000e+02\n",
       "75%      1.500000e+03\n",
       "max      1.000000e+12\n",
       "Name: Renda11, dtype: float64"
      ]
     },
     "execution_count": 54,
     "metadata": {},
     "output_type": "execute_result"
    }
   ],
   "source": [
    "dados.Renda11.describe()"
   ]
  },
  {
   "cell_type": "code",
   "execution_count": 61,
   "metadata": {},
   "outputs": [
    {
     "data": {
      "text/plain": [
       "count    1.543850e+05\n",
       "mean     1.353759e+10\n",
       "std      1.155613e+11\n",
       "min      5.000000e+00\n",
       "25%      7.880000e+02\n",
       "50%      1.125000e+03\n",
       "75%      2.000000e+03\n",
       "max      1.000000e+12\n",
       "Name: Renda15, dtype: float64"
      ]
     },
     "execution_count": 61,
     "metadata": {},
     "output_type": "execute_result"
    }
   ],
   "source": [
    "dados2.Renda15.describe()"
   ]
  },
  {
   "cell_type": "markdown",
   "metadata": {},
   "source": [
    "##### Máximo valor está explícito pelo describe()"
   ]
  },
  {
   "cell_type": "markdown",
   "metadata": {},
   "source": [
    "# Criando faixas de Renda:"
   ]
  },
  {
   "cell_type": "code",
   "execution_count": 62,
   "metadata": {},
   "outputs": [
    {
     "name": "stdout",
     "output_type": "stream",
     "text": [
      "11.17334815261554\n"
     ]
    }
   ],
   "source": [
    "step = ((2*(stats.percentileofscore(dados.Renda11, 75) - stats.percentileofscore(dados.Renda11, 25)))/(358918**(1/3)))*1000\n",
    "print(step)"
   ]
  },
  {
   "cell_type": "code",
   "execution_count": 63,
   "metadata": {},
   "outputs": [
    {
     "name": "stdout",
     "output_type": "stream",
     "text": [
      "11.17334815261554\n"
     ]
    }
   ],
   "source": [
    "step2 = ((2*(stats.percentileofscore(dados2.Renda15, 75) - stats.percentileofscore(dados2.Renda15, 25)))/(358918**(1/3)))*1000\n",
    "print(step)"
   ]
  },
  {
   "cell_type": "markdown",
   "metadata": {},
   "source": [
    "`.fillna`:"
   ]
  },
  {
   "cell_type": "code",
   "execution_count": 64,
   "metadata": {},
   "outputs": [
    {
     "data": {
      "text/plain": [
       "0                 1e+12\n",
       "1         Não Informado\n",
       "2         Não Informado\n",
       "3         Não Informado\n",
       "4                  2800\n",
       "5                   545\n",
       "6         Não Informado\n",
       "7         Não Informado\n",
       "8                 1e+12\n",
       "9                    80\n",
       "10        Não Informado\n",
       "11                 3000\n",
       "12        Não Informado\n",
       "13        Não Informado\n",
       "14        Não Informado\n",
       "15        Não Informado\n",
       "16        Não Informado\n",
       "17        Não Informado\n",
       "18                 1500\n",
       "19                  900\n",
       "20                  810\n",
       "21                 1500\n",
       "22        Não Informado\n",
       "23                  700\n",
       "24        Não Informado\n",
       "25                  600\n",
       "26                 1000\n",
       "27                  545\n",
       "28                 1500\n",
       "29                 1800\n",
       "              ...      \n",
       "358889    Não Informado\n",
       "358890    Não Informado\n",
       "358891    Não Informado\n",
       "358892             4000\n",
       "358893    Não Informado\n",
       "358894    Não Informado\n",
       "358895             5000\n",
       "358896             2000\n",
       "358897             1000\n",
       "358898             8000\n",
       "358899    Não Informado\n",
       "358900            12000\n",
       "358901            15000\n",
       "358902    Não Informado\n",
       "358903            10000\n",
       "358904    Não Informado\n",
       "358905            1e+12\n",
       "358906             1000\n",
       "358907    Não Informado\n",
       "358908            19000\n",
       "358909             5000\n",
       "358910    Não Informado\n",
       "358911            16000\n",
       "358912             6000\n",
       "358913    Não Informado\n",
       "358914    Não Informado\n",
       "358915             7000\n",
       "358916             3500\n",
       "358917    Não Informado\n",
       "358918    Não Informado\n",
       "Name: Renda11, Length: 358919, dtype: object"
      ]
     },
     "execution_count": 64,
     "metadata": {},
     "output_type": "execute_result"
    }
   ],
   "source": [
    "dados.Renda11.fillna(value = 'Não Informado')"
   ]
  },
  {
   "cell_type": "code",
   "execution_count": 65,
   "metadata": {},
   "outputs": [
    {
     "data": {
      "text/plain": [
       "0                   800\n",
       "1                  1150\n",
       "2                   880\n",
       "3                  3000\n",
       "4         Não Informado\n",
       "5         Não Informado\n",
       "6         Não Informado\n",
       "7                   880\n",
       "8                  3500\n",
       "9         Não Informado\n",
       "10        Não Informado\n",
       "11                  150\n",
       "12        Não Informado\n",
       "13        Não Informado\n",
       "14                 4000\n",
       "15        Não Informado\n",
       "16                  790\n",
       "17                 2000\n",
       "18                  930\n",
       "19        Não Informado\n",
       "20        Não Informado\n",
       "21                 3150\n",
       "22                 2000\n",
       "23        Não Informado\n",
       "24                 1700\n",
       "25                 1800\n",
       "26                 1000\n",
       "27                 1150\n",
       "28                  850\n",
       "29        Não Informado\n",
       "              ...      \n",
       "356874              160\n",
       "356875    Não Informado\n",
       "356876              800\n",
       "356877    Não Informado\n",
       "356878    Não Informado\n",
       "356879    Não Informado\n",
       "356880              812\n",
       "356881             1500\n",
       "356882    Não Informado\n",
       "356883    Não Informado\n",
       "356884    Não Informado\n",
       "356885             1300\n",
       "356886             1100\n",
       "356887    Não Informado\n",
       "356888    Não Informado\n",
       "356889    Não Informado\n",
       "356890    Não Informado\n",
       "356891    Não Informado\n",
       "356892    Não Informado\n",
       "356893    Não Informado\n",
       "356894    Não Informado\n",
       "356895              800\n",
       "356896              788\n",
       "356897             1500\n",
       "356898    Não Informado\n",
       "356899              900\n",
       "356900    Não Informado\n",
       "356901              300\n",
       "356902    Não Informado\n",
       "356903    Não Informado\n",
       "Name: Renda15, Length: 356904, dtype: object"
      ]
     },
     "execution_count": 65,
     "metadata": {},
     "output_type": "execute_result"
    }
   ],
   "source": [
    "dados2.Renda15.fillna(value = 'Não Informado')"
   ]
  },
  {
   "cell_type": "code",
   "execution_count": 66,
   "metadata": {
    "scrolled": true
   },
   "outputs": [
    {
     "data": {
      "text/plain": [
       "0            [0.0, 1500.0)\n",
       "1            [0.0, 1500.0)\n",
       "2            [0.0, 1500.0)\n",
       "3         [3000.0, 4500.0)\n",
       "4                      NaN\n",
       "5                      NaN\n",
       "6                      NaN\n",
       "7            [0.0, 1500.0)\n",
       "8         [3000.0, 4500.0)\n",
       "9                      NaN\n",
       "10                     NaN\n",
       "11           [0.0, 1500.0)\n",
       "12                     NaN\n",
       "13                     NaN\n",
       "14        [3000.0, 4500.0)\n",
       "15                     NaN\n",
       "16           [0.0, 1500.0)\n",
       "17        [1500.0, 3000.0)\n",
       "18           [0.0, 1500.0)\n",
       "19                     NaN\n",
       "20                     NaN\n",
       "21        [3000.0, 4500.0)\n",
       "22        [1500.0, 3000.0)\n",
       "23                     NaN\n",
       "24        [1500.0, 3000.0)\n",
       "25        [1500.0, 3000.0)\n",
       "26           [0.0, 1500.0)\n",
       "27           [0.0, 1500.0)\n",
       "28           [0.0, 1500.0)\n",
       "29                     NaN\n",
       "                ...       \n",
       "356874       [0.0, 1500.0)\n",
       "356875                 NaN\n",
       "356876       [0.0, 1500.0)\n",
       "356877                 NaN\n",
       "356878                 NaN\n",
       "356879                 NaN\n",
       "356880       [0.0, 1500.0)\n",
       "356881    [1500.0, 3000.0)\n",
       "356882                 NaN\n",
       "356883                 NaN\n",
       "356884                 NaN\n",
       "356885       [0.0, 1500.0)\n",
       "356886       [0.0, 1500.0)\n",
       "356887                 NaN\n",
       "356888                 NaN\n",
       "356889                 NaN\n",
       "356890                 NaN\n",
       "356891                 NaN\n",
       "356892                 NaN\n",
       "356893                 NaN\n",
       "356894                 NaN\n",
       "356895       [0.0, 1500.0)\n",
       "356896       [0.0, 1500.0)\n",
       "356897    [1500.0, 3000.0)\n",
       "356898                 NaN\n",
       "356899       [0.0, 1500.0)\n",
       "356900                 NaN\n",
       "356901       [0.0, 1500.0)\n",
       "356902                 NaN\n",
       "356903                 NaN\n",
       "Name: Renda15, Length: 356904, dtype: category\n",
       "Categories (34, interval[float64]): [[0.0, 1500.0) < [1500.0, 3000.0) < [3000.0, 4500.0) < [4500.0, 6000.0) ... [45000.0, 46500.0) < [46500.0, 48000.0) < [48000.0, 49500.0) < [49500.0, inf)]"
      ]
     },
     "execution_count": 66,
     "metadata": {},
     "output_type": "execute_result"
    }
   ],
   "source": [
    "faixa = np.arange(0, 50000, 1500)\n",
    "pd.cut(dados.Renda11, bins=np.r_[faixa, np.inf], right=False)\n",
    "pd.cut(dados2.Renda15, bins=np.r_[faixa, np.inf], right=False)"
   ]
  },
  {
   "cell_type": "code",
   "execution_count": 70,
   "metadata": {},
   "outputs": [
    {
     "data": {
      "image/png": "[encoded data removed]",
      "text/plain": [
       "<matplotlib.figure.Figure at 0x7f8394bbf4a8>"
      ]
     },
     "metadata": {},
     "output_type": "display_data"
    }
   ],
   "source": [
    "plot = dados.Renda11[dados.Renda11 <= 10000].plot.hist(bins=faixa,title='HISTOGRAMA', normed=1, figsize=(6, 6), alpha=0.5)"
   ]
  },
  {
   "cell_type": "markdown",
   "metadata": {},
   "source": [
    "# __ Realizando Crosstabs: __"
   ]
  },
  {
   "cell_type": "code",
   "execution_count": 71,
   "metadata": {},
   "outputs": [
    {
     "data": {
      "text/html": [
       "<div>\n",
       "<style scoped>\n",
       "    .dataframe tbody tr th:only-of-type {\n",
       "        vertical-align: middle;\n",
       "    }\n",
       "\n",
       "    .dataframe tbody tr th {\n",
       "        vertical-align: top;\n",
       "    }\n",
       "\n",
       "    .dataframe thead th {\n",
       "        text-align: right;\n",
       "    }\n",
       "</style>\n",
       "<table border=\"1\" class=\"dataframe\">\n",
       "  <thead>\n",
       "    <tr style=\"text-align: right;\">\n",
       "      <th></th>\n",
       "      <th>Renda11</th>\n",
       "      <th>Escolaridade11</th>\n",
       "      <th>Internet11</th>\n",
       "      <th>Celular11</th>\n",
       "    </tr>\n",
       "  </thead>\n",
       "  <tbody>\n",
       "    <tr>\n",
       "      <th>0</th>\n",
       "      <td>1.000000e+12</td>\n",
       "      <td>Não Informado</td>\n",
       "      <td>Não</td>\n",
       "      <td>Sim</td>\n",
       "    </tr>\n",
       "    <tr>\n",
       "      <th>1</th>\n",
       "      <td>NaN</td>\n",
       "      <td>Ensino Superior, Mestrando ou Doutorando</td>\n",
       "      <td>Sim</td>\n",
       "      <td>Sim</td>\n",
       "    </tr>\n",
       "    <tr>\n",
       "      <th>2</th>\n",
       "      <td>NaN</td>\n",
       "      <td>Ensino Médio em tempo regular</td>\n",
       "      <td>Sim</td>\n",
       "      <td>Não</td>\n",
       "    </tr>\n",
       "    <tr>\n",
       "      <th>3</th>\n",
       "      <td>NaN</td>\n",
       "      <td>Ensino Fundamental I em tempo regular</td>\n",
       "      <td>Não Informado</td>\n",
       "      <td>Não Informado</td>\n",
       "    </tr>\n",
       "    <tr>\n",
       "      <th>4</th>\n",
       "      <td>2.800000e+03</td>\n",
       "      <td>Não Informado</td>\n",
       "      <td>Não</td>\n",
       "      <td>Sim</td>\n",
       "    </tr>\n",
       "  </tbody>\n",
       "</table>\n",
       "</div>"
      ],
      "text/plain": [
       "        Renda11                            Escolaridade11     Internet11  \\\n",
       "0  1.000000e+12                             Não Informado            Não   \n",
       "1           NaN  Ensino Superior, Mestrando ou Doutorando            Sim   \n",
       "2           NaN             Ensino Médio em tempo regular            Sim   \n",
       "3           NaN     Ensino Fundamental I em tempo regular  Não Informado   \n",
       "4  2.800000e+03                             Não Informado            Não   \n",
       "\n",
       "       Celular11  \n",
       "0            Sim  \n",
       "1            Sim  \n",
       "2            Não  \n",
       "3  Não Informado  \n",
       "4            Sim  "
      ]
     },
     "execution_count": 71,
     "metadata": {},
     "output_type": "execute_result"
    }
   ],
   "source": [
    "dados.head()"
   ]
  },
  {
   "cell_type": "code",
   "execution_count": 72,
   "metadata": {},
   "outputs": [
    {
     "data": {
      "text/plain": [
       "<bound method NDFrame.head of         Renda15                            Escolaridade15     Internet15  \\\n",
       "0         800.0                             Não Informado            Sim   \n",
       "1        1150.0                             Não Informado            Sim   \n",
       "2         880.0  Ensino Superior, Mestrando ou Doutorando            Sim   \n",
       "3        3000.0                             Não Informado            Sim   \n",
       "4           NaN     Ensino Fundamental I em tempo regular            Sim   \n",
       "5           NaN     Ensino Fundamental I em tempo regular  Não Informado   \n",
       "6           NaN                             Não Informado  Não Informado   \n",
       "7         880.0                             Não Informado            Sim   \n",
       "8        3500.0                             Não Informado            Não   \n",
       "9           NaN                             Não Informado            Não   \n",
       "10          NaN                             Não Informado            Sim   \n",
       "11        150.0                             Não Informado            Não   \n",
       "12          NaN                             Não Informado            Sim   \n",
       "13          NaN                             Não Informado            Não   \n",
       "14       4000.0                             Não Informado            Não   \n",
       "15          NaN                             Não Informado  Não Informado   \n",
       "16        790.0                             Não Informado            Sim   \n",
       "17       2000.0                             Não Informado            Sim   \n",
       "18        930.0                             Não Informado            Sim   \n",
       "19          NaN     Ensino Fundamental I em tempo regular            Sim   \n",
       "20          NaN                             Não Informado  Não Informado   \n",
       "21       3150.0                             Não Informado            Sim   \n",
       "22       2000.0                             Não Informado            Sim   \n",
       "23          NaN             Ensino Médio em tempo regular            Sim   \n",
       "24       1700.0                             Não Informado            Sim   \n",
       "25       1800.0  Ensino Superior, Mestrando ou Doutorando            Sim   \n",
       "26       1000.0                             Não Informado            Sim   \n",
       "27       1150.0                             Não Informado            Sim   \n",
       "28        850.0                             Não Informado            Sim   \n",
       "29          NaN                             Não Informado  Não Informado   \n",
       "...         ...                                       ...            ...   \n",
       "356874    160.0     Ensino Fundamental I em tempo regular            Sim   \n",
       "356875      NaN                             Não Informado            Não   \n",
       "356876    800.0                             Não Informado            Não   \n",
       "356877      NaN                             Não Informado            Sim   \n",
       "356878      NaN                             Não Informado            Sim   \n",
       "356879      NaN                             Não Informado            Sim   \n",
       "356880    812.0                             Não Informado            Sim   \n",
       "356881   1500.0                             Não Informado            Sim   \n",
       "356882      NaN                             Não Informado            Sim   \n",
       "356883      NaN     Ensino Fundamental I em tempo regular  Não Informado   \n",
       "356884      NaN                             Não Informado  Não Informado   \n",
       "356885   1300.0                             Não Informado            Sim   \n",
       "356886   1100.0                             Não Informado            Sim   \n",
       "356887      NaN                          Em alfabetização  Não Informado   \n",
       "356888      NaN                             Não Informado  Não Informado   \n",
       "356889      NaN     Ensino Fundamental I em tempo regular            Sim   \n",
       "356890      NaN     Ensino Fundamental I em tempo regular  Não Informado   \n",
       "356891      NaN     Ensino Fundamental I em tempo regular  Não Informado   \n",
       "356892      NaN                          Em alfabetização  Não Informado   \n",
       "356893      NaN                             Não Informado  Não Informado   \n",
       "356894      NaN                             Não Informado            Não   \n",
       "356895    800.0                             Não Informado            Sim   \n",
       "356896    788.0                             Não Informado            Sim   \n",
       "356897   1500.0                             Não Informado            Não   \n",
       "356898      NaN                             Não Informado            Sim   \n",
       "356899    900.0                             Não Informado            Sim   \n",
       "356900      NaN                             Não Informado            Sim   \n",
       "356901    300.0             Ensino Médio em tempo regular            Sim   \n",
       "356902      NaN             Ensino Médio em tempo regular            Sim   \n",
       "356903      NaN     Ensino Fundamental I em tempo regular  Não Informado   \n",
       "\n",
       "            Celular15  \n",
       "0                 Sim  \n",
       "1                 Sim  \n",
       "2                 Sim  \n",
       "3                 Sim  \n",
       "4                 Sim  \n",
       "5       Não Informado  \n",
       "6       Não Informado  \n",
       "7                 Sim  \n",
       "8                 Sim  \n",
       "9                 Não  \n",
       "10                Não  \n",
       "11                Não  \n",
       "12                Sim  \n",
       "13                Não  \n",
       "14                Sim  \n",
       "15      Não Informado  \n",
       "16                Sim  \n",
       "17                Sim  \n",
       "18                Sim  \n",
       "19                Sim  \n",
       "20      Não Informado  \n",
       "21                Sim  \n",
       "22                Sim  \n",
       "23                Sim  \n",
       "24                Sim  \n",
       "25                Sim  \n",
       "26                Sim  \n",
       "27                Sim  \n",
       "28                Sim  \n",
       "29      Não Informado  \n",
       "...               ...  \n",
       "356874            Sim  \n",
       "356875            Sim  \n",
       "356876            Sim  \n",
       "356877            Sim  \n",
       "356878            Sim  \n",
       "356879            Sim  \n",
       "356880            Sim  \n",
       "356881            Sim  \n",
       "356882            Sim  \n",
       "356883  Não Informado  \n",
       "356884  Não Informado  \n",
       "356885            Sim  \n",
       "356886            Sim  \n",
       "356887  Não Informado  \n",
       "356888  Não Informado  \n",
       "356889            Sim  \n",
       "356890  Não Informado  \n",
       "356891  Não Informado  \n",
       "356892  Não Informado  \n",
       "356893  Não Informado  \n",
       "356894            Sim  \n",
       "356895            Sim  \n",
       "356896            Sim  \n",
       "356897            Sim  \n",
       "356898            Sim  \n",
       "356899            Sim  \n",
       "356900            Sim  \n",
       "356901            Sim  \n",
       "356902            Sim  \n",
       "356903  Não Informado  \n",
       "\n",
       "[356904 rows x 4 columns]>"
      ]
     },
     "execution_count": 72,
     "metadata": {},
     "output_type": "execute_result"
    }
   ],
   "source": [
    "dados2.head"
   ]
  },
  {
   "cell_type": "code",
   "execution_count": 73,
   "metadata": {},
   "outputs": [
    {
     "data": {
      "text/html": [
       "<div>\n",
       "<style scoped>\n",
       "    .dataframe tbody tr th:only-of-type {\n",
       "        vertical-align: middle;\n",
       "    }\n",
       "\n",
       "    .dataframe tbody tr th {\n",
       "        vertical-align: top;\n",
       "    }\n",
       "\n",
       "    .dataframe thead th {\n",
       "        text-align: right;\n",
       "    }\n",
       "</style>\n",
       "<table border=\"1\" class=\"dataframe\">\n",
       "  <thead>\n",
       "    <tr style=\"text-align: right;\">\n",
       "      <th>Internet11</th>\n",
       "      <th>Não</th>\n",
       "      <th>Não Informado</th>\n",
       "      <th>Sim</th>\n",
       "    </tr>\n",
       "    <tr>\n",
       "      <th>Escolaridade11</th>\n",
       "      <th></th>\n",
       "      <th></th>\n",
       "      <th></th>\n",
       "    </tr>\n",
       "  </thead>\n",
       "  <tbody>\n",
       "    <tr>\n",
       "      <th>Em alfabetização</th>\n",
       "      <td>0.011423</td>\n",
       "      <td>2.469638</td>\n",
       "      <td>0.004179</td>\n",
       "    </tr>\n",
       "    <tr>\n",
       "      <th>Ensino Fundamental I em tempo regular</th>\n",
       "      <td>4.181445</td>\n",
       "      <td>5.622717</td>\n",
       "      <td>6.567499</td>\n",
       "    </tr>\n",
       "    <tr>\n",
       "      <th>Ensino Médio em tempo regular</th>\n",
       "      <td>0.754209</td>\n",
       "      <td>0.000000</td>\n",
       "      <td>3.805037</td>\n",
       "    </tr>\n",
       "    <tr>\n",
       "      <th>Ensino Superior, Mestrando ou Doutorando</th>\n",
       "      <td>0.071047</td>\n",
       "      <td>0.000000</td>\n",
       "      <td>3.527258</td>\n",
       "    </tr>\n",
       "    <tr>\n",
       "      <th>Jovens e Adultos cursando Ensino Médio</th>\n",
       "      <td>0.114789</td>\n",
       "      <td>0.000000</td>\n",
       "      <td>0.173298</td>\n",
       "    </tr>\n",
       "    <tr>\n",
       "      <th>Jovens e Adultos em alfabetização ou cursando Ensino Fundamental</th>\n",
       "      <td>0.379473</td>\n",
       "      <td>0.000000</td>\n",
       "      <td>0.155188</td>\n",
       "    </tr>\n",
       "    <tr>\n",
       "      <th>Não Informado</th>\n",
       "      <td>40.150842</td>\n",
       "      <td>6.725473</td>\n",
       "      <td>25.199279</td>\n",
       "    </tr>\n",
       "    <tr>\n",
       "      <th>Pré-Vestibulando</th>\n",
       "      <td>0.005851</td>\n",
       "      <td>0.000000</td>\n",
       "      <td>0.081355</td>\n",
       "    </tr>\n",
       "  </tbody>\n",
       "</table>\n",
       "</div>"
      ],
      "text/plain": [
       "Internet11                                                Não  Não Informado  \\\n",
       "Escolaridade11                                                                 \n",
       "Em alfabetização                                     0.011423       2.469638   \n",
       "Ensino Fundamental I em tempo regular                4.181445       5.622717   \n",
       "Ensino Médio em tempo regular                        0.754209       0.000000   \n",
       "Ensino Superior, Mestrando ou Doutorando             0.071047       0.000000   \n",
       "Jovens e Adultos cursando Ensino Médio               0.114789       0.000000   \n",
       "Jovens e Adultos em alfabetização ou cursando E...   0.379473       0.000000   \n",
       "Não Informado                                       40.150842       6.725473   \n",
       "Pré-Vestibulando                                     0.005851       0.000000   \n",
       "\n",
       "Internet11                                                Sim  \n",
       "Escolaridade11                                                 \n",
       "Em alfabetização                                     0.004179  \n",
       "Ensino Fundamental I em tempo regular                6.567499  \n",
       "Ensino Médio em tempo regular                        3.805037  \n",
       "Ensino Superior, Mestrando ou Doutorando             3.527258  \n",
       "Jovens e Adultos cursando Ensino Médio               0.173298  \n",
       "Jovens e Adultos em alfabetização ou cursando E...   0.155188  \n",
       "Não Informado                                       25.199279  \n",
       "Pré-Vestibulando                                     0.081355  "
      ]
     },
     "execution_count": 73,
     "metadata": {},
     "output_type": "execute_result"
    }
   ],
   "source": [
    "escolaridade_internet = pd.crosstab(dados.Escolaridade11, dados.Internet11, normalize = True)*100\n",
    "escolaridade_internet"
   ]
  },
  {
   "cell_type": "code",
   "execution_count": 74,
   "metadata": {},
   "outputs": [
    {
     "data": {
      "text/html": [
       "<div>\n",
       "<style scoped>\n",
       "    .dataframe tbody tr th:only-of-type {\n",
       "        vertical-align: middle;\n",
       "    }\n",
       "\n",
       "    .dataframe tbody tr th {\n",
       "        vertical-align: top;\n",
       "    }\n",
       "\n",
       "    .dataframe thead th {\n",
       "        text-align: right;\n",
       "    }\n",
       "</style>\n",
       "<table border=\"1\" class=\"dataframe\">\n",
       "  <thead>\n",
       "    <tr style=\"text-align: right;\">\n",
       "      <th>Celular11</th>\n",
       "      <th>Não</th>\n",
       "      <th>Não Informado</th>\n",
       "      <th>Sim</th>\n",
       "    </tr>\n",
       "    <tr>\n",
       "      <th>Escolaridade11</th>\n",
       "      <th></th>\n",
       "      <th></th>\n",
       "      <th></th>\n",
       "    </tr>\n",
       "  </thead>\n",
       "  <tbody>\n",
       "    <tr>\n",
       "      <th>Em alfabetização</th>\n",
       "      <td>0.013931</td>\n",
       "      <td>2.469638</td>\n",
       "      <td>0.001672</td>\n",
       "    </tr>\n",
       "    <tr>\n",
       "      <th>Ensino Fundamental I em tempo regular</th>\n",
       "      <td>6.000240</td>\n",
       "      <td>5.622717</td>\n",
       "      <td>4.748704</td>\n",
       "    </tr>\n",
       "    <tr>\n",
       "      <th>Ensino Médio em tempo regular</th>\n",
       "      <td>0.945339</td>\n",
       "      <td>0.000000</td>\n",
       "      <td>3.613907</td>\n",
       "    </tr>\n",
       "    <tr>\n",
       "      <th>Ensino Superior, Mestrando ou Doutorando</th>\n",
       "      <td>0.104480</td>\n",
       "      <td>0.000000</td>\n",
       "      <td>3.493825</td>\n",
       "    </tr>\n",
       "    <tr>\n",
       "      <th>Jovens e Adultos cursando Ensino Médio</th>\n",
       "      <td>0.043185</td>\n",
       "      <td>0.000000</td>\n",
       "      <td>0.244902</td>\n",
       "    </tr>\n",
       "    <tr>\n",
       "      <th>Jovens e Adultos em alfabetização ou cursando Ensino Fundamental</th>\n",
       "      <td>0.213697</td>\n",
       "      <td>0.000000</td>\n",
       "      <td>0.320964</td>\n",
       "    </tr>\n",
       "    <tr>\n",
       "      <th>Não Informado</th>\n",
       "      <td>18.181261</td>\n",
       "      <td>6.725473</td>\n",
       "      <td>47.168860</td>\n",
       "    </tr>\n",
       "    <tr>\n",
       "      <th>Pré-Vestibulando</th>\n",
       "      <td>0.003343</td>\n",
       "      <td>0.000000</td>\n",
       "      <td>0.083863</td>\n",
       "    </tr>\n",
       "  </tbody>\n",
       "</table>\n",
       "</div>"
      ],
      "text/plain": [
       "Celular11                                                 Não  Não Informado  \\\n",
       "Escolaridade11                                                                 \n",
       "Em alfabetização                                     0.013931       2.469638   \n",
       "Ensino Fundamental I em tempo regular                6.000240       5.622717   \n",
       "Ensino Médio em tempo regular                        0.945339       0.000000   \n",
       "Ensino Superior, Mestrando ou Doutorando             0.104480       0.000000   \n",
       "Jovens e Adultos cursando Ensino Médio               0.043185       0.000000   \n",
       "Jovens e Adultos em alfabetização ou cursando E...   0.213697       0.000000   \n",
       "Não Informado                                       18.181261       6.725473   \n",
       "Pré-Vestibulando                                     0.003343       0.000000   \n",
       "\n",
       "Celular11                                                 Sim  \n",
       "Escolaridade11                                                 \n",
       "Em alfabetização                                     0.001672  \n",
       "Ensino Fundamental I em tempo regular                4.748704  \n",
       "Ensino Médio em tempo regular                        3.613907  \n",
       "Ensino Superior, Mestrando ou Doutorando             3.493825  \n",
       "Jovens e Adultos cursando Ensino Médio               0.244902  \n",
       "Jovens e Adultos em alfabetização ou cursando E...   0.320964  \n",
       "Não Informado                                       47.168860  \n",
       "Pré-Vestibulando                                     0.083863  "
      ]
     },
     "execution_count": 74,
     "metadata": {},
     "output_type": "execute_result"
    }
   ],
   "source": [
    "escolaridade_celular = pd.crosstab(dados.Escolaridade11, dados.Celular11, normalize = True)*100\n",
    "escolaridade_celular"
   ]
  },
  {
   "cell_type": "code",
   "execution_count": 75,
   "metadata": {},
   "outputs": [
    {
     "data": {
      "text/html": [
       "<div>\n",
       "<style scoped>\n",
       "    .dataframe tbody tr th:only-of-type {\n",
       "        vertical-align: middle;\n",
       "    }\n",
       "\n",
       "    .dataframe tbody tr th {\n",
       "        vertical-align: top;\n",
       "    }\n",
       "\n",
       "    .dataframe thead th {\n",
       "        text-align: right;\n",
       "    }\n",
       "</style>\n",
       "<table border=\"1\" class=\"dataframe\">\n",
       "  <thead>\n",
       "    <tr style=\"text-align: right;\">\n",
       "      <th>Celular15</th>\n",
       "      <th>Não</th>\n",
       "      <th>Não Informado</th>\n",
       "      <th>Sim</th>\n",
       "    </tr>\n",
       "    <tr>\n",
       "      <th>Escolaridade15</th>\n",
       "      <th></th>\n",
       "      <th></th>\n",
       "      <th></th>\n",
       "    </tr>\n",
       "  </thead>\n",
       "  <tbody>\n",
       "    <tr>\n",
       "      <th>Em alfabetização</th>\n",
       "      <td>0.004203</td>\n",
       "      <td>2.053213</td>\n",
       "      <td>0.001401</td>\n",
       "    </tr>\n",
       "    <tr>\n",
       "      <th>Ensino Fundamental I em tempo regular</th>\n",
       "      <td>4.065239</td>\n",
       "      <td>5.331686</td>\n",
       "      <td>5.173100</td>\n",
       "    </tr>\n",
       "    <tr>\n",
       "      <th>Ensino Médio em tempo regular</th>\n",
       "      <td>0.507980</td>\n",
       "      <td>0.000000</td>\n",
       "      <td>3.859861</td>\n",
       "    </tr>\n",
       "    <tr>\n",
       "      <th>Ensino Superior, Mestrando ou Doutorando</th>\n",
       "      <td>0.055757</td>\n",
       "      <td>0.000000</td>\n",
       "      <td>3.897687</td>\n",
       "    </tr>\n",
       "    <tr>\n",
       "      <th>Jovens e Adultos cursando Ensino Médio</th>\n",
       "      <td>0.022415</td>\n",
       "      <td>0.000000</td>\n",
       "      <td>0.244043</td>\n",
       "    </tr>\n",
       "    <tr>\n",
       "      <th>Jovens e Adultos em alfabetização ou cursando Ensino Fundamental</th>\n",
       "      <td>0.105070</td>\n",
       "      <td>0.000000</td>\n",
       "      <td>0.289434</td>\n",
       "    </tr>\n",
       "    <tr>\n",
       "      <th>Não Informado</th>\n",
       "      <td>13.494385</td>\n",
       "      <td>6.149553</td>\n",
       "      <td>54.704626</td>\n",
       "    </tr>\n",
       "    <tr>\n",
       "      <th>Pré-Vestibulando</th>\n",
       "      <td>0.000560</td>\n",
       "      <td>0.000000</td>\n",
       "      <td>0.039787</td>\n",
       "    </tr>\n",
       "  </tbody>\n",
       "</table>\n",
       "</div>"
      ],
      "text/plain": [
       "Celular15                                                 Não  Não Informado  \\\n",
       "Escolaridade15                                                                 \n",
       "Em alfabetização                                     0.004203       2.053213   \n",
       "Ensino Fundamental I em tempo regular                4.065239       5.331686   \n",
       "Ensino Médio em tempo regular                        0.507980       0.000000   \n",
       "Ensino Superior, Mestrando ou Doutorando             0.055757       0.000000   \n",
       "Jovens e Adultos cursando Ensino Médio               0.022415       0.000000   \n",
       "Jovens e Adultos em alfabetização ou cursando E...   0.105070       0.000000   \n",
       "Não Informado                                       13.494385       6.149553   \n",
       "Pré-Vestibulando                                     0.000560       0.000000   \n",
       "\n",
       "Celular15                                                 Sim  \n",
       "Escolaridade15                                                 \n",
       "Em alfabetização                                     0.001401  \n",
       "Ensino Fundamental I em tempo regular                5.173100  \n",
       "Ensino Médio em tempo regular                        3.859861  \n",
       "Ensino Superior, Mestrando ou Doutorando             3.897687  \n",
       "Jovens e Adultos cursando Ensino Médio               0.244043  \n",
       "Jovens e Adultos em alfabetização ou cursando E...   0.289434  \n",
       "Não Informado                                       54.704626  \n",
       "Pré-Vestibulando                                     0.039787  "
      ]
     },
     "execution_count": 75,
     "metadata": {},
     "output_type": "execute_result"
    }
   ],
   "source": [
    "escolaridade_celular15 = pd.crosstab(dados2.Escolaridade15, dados2.Celular15, normalize = True)*100\n",
    "escolaridade_celular15"
   ]
  },
  {
   "cell_type": "code",
   "execution_count": 76,
   "metadata": {},
   "outputs": [
    {
     "data": {
      "text/html": [
       "<div>\n",
       "<style scoped>\n",
       "    .dataframe tbody tr th:only-of-type {\n",
       "        vertical-align: middle;\n",
       "    }\n",
       "\n",
       "    .dataframe tbody tr th {\n",
       "        vertical-align: top;\n",
       "    }\n",
       "\n",
       "    .dataframe thead th {\n",
       "        text-align: right;\n",
       "    }\n",
       "</style>\n",
       "<table border=\"1\" class=\"dataframe\">\n",
       "  <thead>\n",
       "    <tr style=\"text-align: right;\">\n",
       "      <th>Internet15</th>\n",
       "      <th>Não</th>\n",
       "      <th>Não Informado</th>\n",
       "      <th>Sim</th>\n",
       "    </tr>\n",
       "    <tr>\n",
       "      <th>Escolaridade15</th>\n",
       "      <th></th>\n",
       "      <th></th>\n",
       "      <th></th>\n",
       "    </tr>\n",
       "  </thead>\n",
       "  <tbody>\n",
       "    <tr>\n",
       "      <th>Em alfabetização</th>\n",
       "      <td>0.003923</td>\n",
       "      <td>2.053213</td>\n",
       "      <td>0.001681</td>\n",
       "    </tr>\n",
       "    <tr>\n",
       "      <th>Ensino Fundamental I em tempo regular</th>\n",
       "      <td>2.928238</td>\n",
       "      <td>5.331686</td>\n",
       "      <td>6.310100</td>\n",
       "    </tr>\n",
       "    <tr>\n",
       "      <th>Ensino Médio em tempo regular</th>\n",
       "      <td>0.509941</td>\n",
       "      <td>0.000000</td>\n",
       "      <td>3.857900</td>\n",
       "    </tr>\n",
       "    <tr>\n",
       "      <th>Ensino Superior, Mestrando ou Doutorando</th>\n",
       "      <td>0.071448</td>\n",
       "      <td>0.000000</td>\n",
       "      <td>3.881996</td>\n",
       "    </tr>\n",
       "    <tr>\n",
       "      <th>Jovens e Adultos cursando Ensino Médio</th>\n",
       "      <td>0.063883</td>\n",
       "      <td>0.000000</td>\n",
       "      <td>0.202575</td>\n",
       "    </tr>\n",
       "    <tr>\n",
       "      <th>Jovens e Adultos em alfabetização ou cursando Ensino Fundamental</th>\n",
       "      <td>0.200054</td>\n",
       "      <td>0.000000</td>\n",
       "      <td>0.194450</td>\n",
       "    </tr>\n",
       "    <tr>\n",
       "      <th>Não Informado</th>\n",
       "      <td>32.907449</td>\n",
       "      <td>6.149553</td>\n",
       "      <td>35.291563</td>\n",
       "    </tr>\n",
       "    <tr>\n",
       "      <th>Pré-Vestibulando</th>\n",
       "      <td>0.000560</td>\n",
       "      <td>0.000000</td>\n",
       "      <td>0.039787</td>\n",
       "    </tr>\n",
       "  </tbody>\n",
       "</table>\n",
       "</div>"
      ],
      "text/plain": [
       "Internet15                                                Não  Não Informado  \\\n",
       "Escolaridade15                                                                 \n",
       "Em alfabetização                                     0.003923       2.053213   \n",
       "Ensino Fundamental I em tempo regular                2.928238       5.331686   \n",
       "Ensino Médio em tempo regular                        0.509941       0.000000   \n",
       "Ensino Superior, Mestrando ou Doutorando             0.071448       0.000000   \n",
       "Jovens e Adultos cursando Ensino Médio               0.063883       0.000000   \n",
       "Jovens e Adultos em alfabetização ou cursando E...   0.200054       0.000000   \n",
       "Não Informado                                       32.907449       6.149553   \n",
       "Pré-Vestibulando                                     0.000560       0.000000   \n",
       "\n",
       "Internet15                                                Sim  \n",
       "Escolaridade15                                                 \n",
       "Em alfabetização                                     0.001681  \n",
       "Ensino Fundamental I em tempo regular                6.310100  \n",
       "Ensino Médio em tempo regular                        3.857900  \n",
       "Ensino Superior, Mestrando ou Doutorando             3.881996  \n",
       "Jovens e Adultos cursando Ensino Médio               0.202575  \n",
       "Jovens e Adultos em alfabetização ou cursando E...   0.194450  \n",
       "Não Informado                                       35.291563  \n",
       "Pré-Vestibulando                                     0.039787  "
      ]
     },
     "execution_count": 76,
     "metadata": {},
     "output_type": "execute_result"
    }
   ],
   "source": [
    "escolaridade_internet15 = pd.crosstab(dados2.Escolaridade15, dados2.Internet15, normalize = True)*100\n",
    "escolaridade_internet15"
   ]
  },
  {
   "cell_type": "code",
   "execution_count": 77,
   "metadata": {},
   "outputs": [
    {
     "data": {
      "text/plain": [
       "Em alfabetização                                                      8920\n",
       "Ensino Fundamental I em tempo regular                                58761\n",
       "Ensino Médio em tempo regular                                        16364\n",
       "Ensino Superior, Mestrando ou Doutorando                             12915\n",
       "Jovens e Adultos cursando Ensino Médio                                1034\n",
       "Jovens e Adultos em alfabetização ou cursando Ensino Fundamental      1919\n",
       "Pré-Vestibulando                                                       313\n",
       "Não Informado                                                       258693\n",
       "Name: Escolaridade11, dtype: int64"
      ]
     },
     "execution_count": 77,
     "metadata": {},
     "output_type": "execute_result"
    }
   ],
   "source": [
    "dados.Escolaridade11.value_counts().reindex([\"Em alfabetização\",  \"Ensino Fundamental I em tempo regular\", \"Ensino Médio em tempo regular\", \"Ensino Superior, Mestrando ou Doutorando\", \"Jovens e Adultos cursando Ensino Médio\", \"Jovens e Adultos em alfabetização ou cursando Ensino Fundamental\", \"Pré-Vestibulando\", \"Não Informado\"])"
   ]
  },
  {
   "cell_type": "markdown",
   "metadata": {},
   "source": [
    "O método `reindex` serve para reordenar as linhas de uma tabela.  "
   ]
  },
  {
   "cell_type": "code",
   "execution_count": 78,
   "metadata": {
    "scrolled": false
   },
   "outputs": [],
   "source": [
    "#escolaridade_celular.plot(kind = 'bar', normed = 1)\n",
    "#escolaridade_celular15.plot(kind = 'bar', normed = 1)\n"
   ]
  },
  {
   "cell_type": "code",
   "execution_count": 79,
   "metadata": {},
   "outputs": [],
   "source": [
    "renda_escolaridade11 = pd.crosstab(dados.Renda11, dados.Escolaridade11)\n",
    "renda_escolaridade15 = pd.crosstab(dados2.Renda15, dados2.Escolaridade15)"
   ]
  },
  {
   "cell_type": "code",
   "execution_count": 80,
   "metadata": {},
   "outputs": [],
   "source": [
    "\"\"\"renda_celular11 = pd.crosstab(dados.Renda11, dados.Celular11)\n",
    "renda_celular15 = pd.crosstab(dados2.Renda15, dados2.Celular15)\"\"\""
   ]
  },
  {
   "cell_type": "code",
   "execution_count": null,
   "metadata": {},
   "outputs": [],
   "source": [
    "\"\"\"renda_celular11.plot(kind = 'bar', legend = False, color = 'red')\n",
    "#renda_celular15.plot(kind = 'bar', legend = False, color = 'red')\"\"\""
   ]
  },
  {
   "cell_type": "code",
   "execution_count": null,
   "metadata": {},
   "outputs": [],
   "source": [
    "\"\"\"renda_escolaridade11.plot(kind = 'bar', legend = False, color = 'red')\n",
    "renda_escolaridade15.plot(kind = 'bar', legend = False, color = 'red')\"\"\""
   ]
  },
  {
   "cell_type": "code",
   "execution_count": null,
   "metadata": {},
   "outputs": [],
   "source": [
    "\"\"\"plot = dados.Renda11.plot.hist(bins=faixa,title='GRAFICO DE COLUNAS', figsize=(6, 6), alpha=0.9, normed = True)\n",
    "#plot.hist(dados2.Renda15, normed = 1)\"\"\""
   ]
  },
  {
   "cell_type": "code",
   "execution_count": null,
   "metadata": {},
   "outputs": [],
   "source": []
  }
 ],
 "metadata": {
  "kernelspec": {
   "display_name": "Python 3",
   "language": "python",
   "name": "python3"
  },
  "language_info": {
   "codemirror_mode": {
    "name": "ipython",
    "version": 3
   },
   "file_extension": ".py",
   "mimetype": "text/x-python",
   "name": "python",
   "nbconvert_exporter": "python",
   "pygments_lexer": "ipython3",
   "version": "3.5.2"
  }
 },
 "nbformat": 4,
 "nbformat_minor": 2
}
