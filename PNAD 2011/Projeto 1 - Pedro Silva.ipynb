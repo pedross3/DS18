{
 "cells": [
  {
   "cell_type": "markdown",
   "metadata": {},
   "source": [
    "# _COMO O ACESSO A ESCOLARIDADE INFLUENCIA O INDIVÍDUO A MANTER-SE CONECTADO?_"
   ]
  },
  {
   "cell_type": "markdown",
   "metadata": {},
   "source": [
    "__Bibliotecas importadas:__"
   ]
  },
  {
   "cell_type": "code",
   "execution_count": null,
   "metadata": {
    "collapsed": true
   },
   "outputs": [],
   "source": [
    "%matplotlib inline\n",
    "import matplotlib.pyplot as plt\n",
    "import matplotlib\n",
    "import pandas as pd\n",
    "import numpy as np\n",
    "from math import *\n",
    "from scipy import stats"
   ]
  },
  {
   "cell_type": "markdown",
   "metadata": {},
   "source": [
    "__Checando o diretório:__"
   ]
  },
  {
   "cell_type": "code",
   "execution_count": null,
   "metadata": {},
   "outputs": [],
   "source": [
    "import os\n",
    "print('Esperamos trabalhar no diretório')\n",
    "print(os.getcwd())"
   ]
  },
  {
   "cell_type": "markdown",
   "metadata": {},
   "source": [
    "__Lendo o arquivo PES:__"
   ]
  },
  {
   "cell_type": "code",
   "execution_count": null,
   "metadata": {
    "collapsed": true
   },
   "outputs": [],
   "source": [
    "dados = pd.read_csv('../../Excels/PNAD2011/PES2011.csv')"
   ]
  },
  {
   "cell_type": "code",
   "execution_count": null,
   "metadata": {
    "collapsed": true
   },
   "outputs": [],
   "source": [
    "dados2 = pd.read_csv('../../Excels/PNAD2015/PES2015.csv')"
   ]
  },
  {
   "cell_type": "markdown",
   "metadata": {},
   "source": [
    "Selecionando colunas:"
   ]
  },
  {
   "cell_type": "code",
   "execution_count": null,
   "metadata": {},
   "outputs": [],
   "source": [
    "dados = dados.loc[:, ['V9532', 'V4801', 'V06111', 'V06112']]\n",
    "dados.tail()"
   ]
  },
  {
   "cell_type": "code",
   "execution_count": null,
   "metadata": {},
   "outputs": [],
   "source": [
    "dados2 = dados2.loc[:, ['V9532', 'V4801', 'V06111', 'V06112']]\n",
    "dados2.tail()"
   ]
  },
  {
   "cell_type": "markdown",
   "metadata": {},
   "source": [
    "__Removendo outliers da coluna Renda__"
   ]
  },
  {
   "cell_type": "code",
   "execution_count": null,
   "metadata": {},
   "outputs": [],
   "source": [
    "dados.V9532.loc[(dados.V9532 >= 50000)] = 0\n",
    "dados.V9532.describe()"
   ]
  },
  {
   "cell_type": "code",
   "execution_count": null,
   "metadata": {
    "scrolled": true
   },
   "outputs": [],
   "source": [
    "dados2.V9532.loc[(dados2.V9532 >= 50000)] = 0\n",
    "dados2.V9532.describe()"
   ]
  },
  {
   "cell_type": "markdown",
   "metadata": {},
   "source": [
    "#  __Para escolaridade:__"
   ]
  },
  {
   "cell_type": "markdown",
   "metadata": {},
   "source": [
    "__Escolaridade é a variável categórica ordinal com maior número de categorias. \n",
    "Várias células serão utilizadas em sequência.__"
   ]
  },
  {
   "cell_type": "code",
   "execution_count": null,
   "metadata": {
    "collapsed": true
   },
   "outputs": [],
   "source": [
    "dados.V4801.loc[(dados.V4801 == 1) | (dados.V4801 == 2)] = 'Em alfabetização'"
   ]
  },
  {
   "cell_type": "code",
   "execution_count": null,
   "metadata": {},
   "outputs": [],
   "source": [
    "dados.V4801.loc[(dados.V4801 == 3) | (dados.V4801 == 21)] = 'Jovens e Adultos em alfabetização ou cursando Ensino Fundamental'"
   ]
  },
  {
   "cell_type": "code",
   "execution_count": null,
   "metadata": {
    "scrolled": true
   },
   "outputs": [],
   "source": [
    "dados.V4801.loc[(dados.V4801 == 23)] = 'Jovens e Adultos cursando Ensino Médio'"
   ]
  },
  {
   "cell_type": "code",
   "execution_count": null,
   "metadata": {
    "scrolled": true
   },
   "outputs": [],
   "source": [
    "dados.V4801.loc[(dados.V4801 == 4) | (dados.V4801 == 5) | (dados.V4801 == 6) | (dados.V4801 == 7) | (dados.V4801 == 12) | (dados.V4801 == 13) | (dados.V4801 == 14) | (dados.V4801 == 15)] = 'Ensino Fundamental I em tempo regular'"
   ]
  },
  {
   "cell_type": "code",
   "execution_count": null,
   "metadata": {
    "scrolled": true
   },
   "outputs": [],
   "source": [
    "dados.V4801.loc[(dados.V4801 == 8) | (dados.V4801 == 9) | (dados.V4801 == 10) | (dados.V4801 == 11) | (dados.V4801 == 16) | (dados.V4801 == 17) | (dados.V4801 == 18) | (dados.V4801 == 19) | (dados.V4801 == 20)] = 'Ensino Fundamental I em tempo regular'"
   ]
  },
  {
   "cell_type": "code",
   "execution_count": null,
   "metadata": {
    "scrolled": true
   },
   "outputs": [],
   "source": [
    "dados.V4801.loc[(dados.V4801 == 22)] = 'Ensino Médio em tempo regular'"
   ]
  },
  {
   "cell_type": "code",
   "execution_count": null,
   "metadata": {
    "scrolled": true
   },
   "outputs": [],
   "source": [
    "dados.V4801.loc[(dados.V4801 == 24)] = 'Pré-Vestibulando'"
   ]
  },
  {
   "cell_type": "code",
   "execution_count": null,
   "metadata": {
    "scrolled": true
   },
   "outputs": [],
   "source": [
    "dados.V4801.loc[(dados.V4801 == 25)] = 'Ensino Superior, Mestrando ou Doutorando'"
   ]
  },
  {
   "cell_type": "markdown",
   "metadata": {},
   "source": [
    "## Agora para 2015:"
   ]
  },
  {
   "cell_type": "code",
   "execution_count": null,
   "metadata": {
    "collapsed": true
   },
   "outputs": [],
   "source": [
    "dados2.V4801.loc[(dados2.V4801 == 1) | (dados2.V4801 == 2)] = 'Em alfabetização'"
   ]
  },
  {
   "cell_type": "code",
   "execution_count": null,
   "metadata": {},
   "outputs": [],
   "source": [
    "dados2.V4801.loc[(dados2.V4801 == 3) | (dados2.V4801 == 21)] = 'Jovens e Adultos em alfabetização ou cursando Ensino Fundamental'"
   ]
  },
  {
   "cell_type": "code",
   "execution_count": null,
   "metadata": {
    "scrolled": true
   },
   "outputs": [],
   "source": [
    "dados2.V4801.loc[(dados2.V4801 == 23)] = 'Jovens e Adultos cursando Ensino Médio'"
   ]
  },
  {
   "cell_type": "code",
   "execution_count": null,
   "metadata": {
    "scrolled": true
   },
   "outputs": [],
   "source": [
    "dados2.V4801.loc[(dados2.V4801 == 4) | (dados2.V4801 == 5) | (dados2.V4801 == 6) | (dados2.V4801 == 7) | (dados2.V4801 == 12) | (dados2.V4801 == 13) | (dados2.V4801 == 14) | (dados2.V4801 == 15)] = 'Ensino Fundamental I em tempo regular'"
   ]
  },
  {
   "cell_type": "code",
   "execution_count": null,
   "metadata": {
    "scrolled": true
   },
   "outputs": [],
   "source": [
    "dados2.V4801.loc[(dados2.V4801 == 8) | (dados2.V4801 == 9) | (dados2.V4801 == 10) | (dados2.V4801 == 11) | (dados2.V4801 == 16) | (dados2.V4801 == 17) | (dados2.V4801 == 18) | (dados2.V4801 == 19) | (dados2.V4801 == 20)] = 'Ensino Fundamental I em tempo regular'"
   ]
  },
  {
   "cell_type": "code",
   "execution_count": null,
   "metadata": {
    "scrolled": true
   },
   "outputs": [],
   "source": [
    "dados2.V4801.loc[(dados2.V4801 == 22)] = 'Ensino Médio em tempo regular'"
   ]
  },
  {
   "cell_type": "code",
   "execution_count": null,
   "metadata": {
    "scrolled": true
   },
   "outputs": [],
   "source": [
    "dados2.V4801.loc[(dados2.V4801 == 24)] = 'Pré-Vestibulando'"
   ]
  },
  {
   "cell_type": "code",
   "execution_count": null,
   "metadata": {
    "scrolled": true
   },
   "outputs": [],
   "source": [
    "dados2.V4801.loc[(dados2.V4801 == 25)] = 'Ensino Superior, Mestrando ou Doutorando'"
   ]
  },
  {
   "cell_type": "markdown",
   "metadata": {},
   "source": [
    "__Tratando NaN usando o método__ `.fillna()`"
   ]
  },
  {
   "cell_type": "code",
   "execution_count": null,
   "metadata": {
    "collapsed": true
   },
   "outputs": [],
   "source": [
    "dados.V4801 = dados.V4801.fillna(value = 'Não Informado')\n",
    "dados2.V4801 = dados2.V4801.fillna(value = 'Não Informado')"
   ]
  },
  {
   "cell_type": "markdown",
   "metadata": {},
   "source": [
    "__Checando resultados:__"
   ]
  },
  {
   "cell_type": "code",
   "execution_count": null,
   "metadata": {},
   "outputs": [],
   "source": [
    "dados.head()"
   ]
  },
  {
   "cell_type": "code",
   "execution_count": null,
   "metadata": {
    "scrolled": true
   },
   "outputs": [],
   "source": [
    "dados2.head()"
   ]
  },
  {
   "cell_type": "code",
   "execution_count": null,
   "metadata": {
    "scrolled": true
   },
   "outputs": [],
   "source": [
    "a = dados.V4801.value_counts(normalize = 1)\n",
    "a.plot(kind='bar', color=('blue', 'red'), legend=False)"
   ]
  },
  {
   "cell_type": "code",
   "execution_count": null,
   "metadata": {},
   "outputs": [],
   "source": [
    "b = dados2.V4801.value_counts(normalize = 1)\n",
    "b.plot(kind='bar', color=('blue', 'red'), legend=False)"
   ]
  },
  {
   "cell_type": "markdown",
   "metadata": {},
   "source": [
    "# __Para Internet__:"
   ]
  },
  {
   "cell_type": "markdown",
   "metadata": {},
   "source": [
    "__Atribuindo valores categóricos:__"
   ]
  },
  {
   "cell_type": "code",
   "execution_count": null,
   "metadata": {},
   "outputs": [],
   "source": [
    "dados.V06111.loc[(dados.V06111 == 1)] = 'Sim'\n",
    "dados.V06111.loc[(dados.V06111 == 3)] = 'Não'"
   ]
  },
  {
   "cell_type": "markdown",
   "metadata": {},
   "source": [
    "## Agora para 2015"
   ]
  },
  {
   "cell_type": "code",
   "execution_count": null,
   "metadata": {},
   "outputs": [],
   "source": [
    "dados2.V06111.loc[(dados2.V06111 == 1)] = 'Sim'\n",
    "dados2.V06111.loc[(dados2.V06111 == 3)] = 'Não'"
   ]
  },
  {
   "cell_type": "markdown",
   "metadata": {},
   "source": [
    "__Tratando NaN usando o método__ `.fillna()`"
   ]
  },
  {
   "cell_type": "code",
   "execution_count": null,
   "metadata": {
    "collapsed": true
   },
   "outputs": [],
   "source": [
    "dados.V06111 = dados.V06111.fillna(value = 'Não Informado')"
   ]
  },
  {
   "cell_type": "code",
   "execution_count": null,
   "metadata": {
    "collapsed": true
   },
   "outputs": [],
   "source": [
    "dados2.V06111 = dados2.V06111.fillna(value = 'Não Informado')"
   ]
  },
  {
   "cell_type": "markdown",
   "metadata": {},
   "source": [
    "__Checando resultados:__"
   ]
  },
  {
   "cell_type": "code",
   "execution_count": null,
   "metadata": {},
   "outputs": [],
   "source": [
    "dados.head()"
   ]
  },
  {
   "cell_type": "code",
   "execution_count": null,
   "metadata": {},
   "outputs": [],
   "source": [
    "dados2.head()"
   ]
  },
  {
   "cell_type": "code",
   "execution_count": null,
   "metadata": {},
   "outputs": [],
   "source": [
    "c = dados.V06111.value_counts(normalize = 1)\n",
    "c.plot(kind='pie')\n",
    "plt.title('Acesso a Internet nos últimos 3 meses em 2011')"
   ]
  },
  {
   "cell_type": "code",
   "execution_count": null,
   "metadata": {},
   "outputs": [],
   "source": [
    "d = dados2.V06111.value_counts(normalize = 1)\n",
    "d.plot(kind='pie')\n",
    "plt.title('Acesso a Internet nos últimos 3 meses em 2015')"
   ]
  },
  {
   "cell_type": "markdown",
   "metadata": {},
   "source": [
    "# __Para celular pessoal:__"
   ]
  },
  {
   "cell_type": "markdown",
   "metadata": {},
   "source": [
    "__Atribuindo valores categóricos:__"
   ]
  },
  {
   "cell_type": "code",
   "execution_count": null,
   "metadata": {},
   "outputs": [],
   "source": [
    "dados.V06112.loc[(dados.V06112 == 1)] = 'Sim'\n",
    "dados.V06112.loc[(dados.V06112 == 3)] = 'Não'"
   ]
  },
  {
   "cell_type": "code",
   "execution_count": null,
   "metadata": {},
   "outputs": [],
   "source": [
    "dados2.V06112.loc[(dados2.V06112 == 1)] = 'Sim'\n",
    "dados2.V06112.loc[(dados2.V06112 == 3)] = 'Não'"
   ]
  },
  {
   "cell_type": "markdown",
   "metadata": {},
   "source": [
    "__Tratando NaN usando o método__ `.fillna()`"
   ]
  },
  {
   "cell_type": "code",
   "execution_count": null,
   "metadata": {
    "collapsed": true
   },
   "outputs": [],
   "source": [
    "dados.V06112 = dados.V06112.fillna(value = 'Não Informado')"
   ]
  },
  {
   "cell_type": "code",
   "execution_count": null,
   "metadata": {
    "collapsed": true
   },
   "outputs": [],
   "source": [
    "dados2.V06112 = dados2.V06112.fillna(value = 'Não Informado')"
   ]
  },
  {
   "cell_type": "markdown",
   "metadata": {},
   "source": [
    "__Checando a base de dados para Celular em 2011:__"
   ]
  },
  {
   "cell_type": "code",
   "execution_count": null,
   "metadata": {},
   "outputs": [],
   "source": [
    "e = dados.V06112.value_counts(normalize = 1)\n",
    "e.plot(kind='pie',  legend=False, stacked = True)"
   ]
  },
  {
   "cell_type": "markdown",
   "metadata": {},
   "source": [
    "__Agora para 2015:__"
   ]
  },
  {
   "cell_type": "code",
   "execution_count": null,
   "metadata": {},
   "outputs": [],
   "source": [
    "f = dados2.V06111.value_counts(normalize = 1)\n",
    "f.plot(kind='pie',  legend=False, stacked = True)"
   ]
  },
  {
   "cell_type": "markdown",
   "metadata": {},
   "source": [
    "# Renomeando colunas:"
   ]
  },
  {
   "cell_type": "code",
   "execution_count": null,
   "metadata": {
    "collapsed": true
   },
   "outputs": [],
   "source": [
    "dados.columns = ['Renda11', 'Escolaridade11', 'Internet11', 'Celular11']"
   ]
  },
  {
   "cell_type": "code",
   "execution_count": null,
   "metadata": {
    "collapsed": true
   },
   "outputs": [],
   "source": [
    "dados2.columns = ['Renda15', 'Escolaridade15', 'Internet15', 'Celular15']"
   ]
  },
  {
   "cell_type": "code",
   "execution_count": null,
   "metadata": {},
   "outputs": [],
   "source": [
    "dados.head()"
   ]
  },
  {
   "cell_type": "code",
   "execution_count": null,
   "metadata": {},
   "outputs": [],
   "source": [
    "dados2.head()"
   ]
  },
  {
   "cell_type": "markdown",
   "metadata": {},
   "source": [
    "# __Para Renda:__"
   ]
  },
  {
   "cell_type": "code",
   "execution_count": null,
   "metadata": {},
   "outputs": [],
   "source": [
    "dados.Renda11.describe()"
   ]
  },
  {
   "cell_type": "markdown",
   "metadata": {},
   "source": [
    "##### Máximo e máximo valor está explícito pelo describe()"
   ]
  },
  {
   "cell_type": "markdown",
   "metadata": {},
   "source": [
    "#### Criando faixas de Renda:"
   ]
  },
  {
   "cell_type": "code",
   "execution_count": null,
   "metadata": {},
   "outputs": [],
   "source": [
    "step = ((2*(stats.percentileofscore(dados.Renda11, 75) - stats.percentileofscore(dados.Renda11, 25)))/(358918**(1/3)))*1000\n",
    "print(step)"
   ]
  },
  {
   "cell_type": "code",
   "execution_count": null,
   "metadata": {},
   "outputs": [],
   "source": [
    "step2 = ((2*(stats.percentileofscore(dados2.Renda15, 75) - stats.percentileofscore(dados2.Renda15, 25)))/(358918**(1/3)))*1000\n",
    "print(step)"
   ]
  },
  {
   "cell_type": "markdown",
   "metadata": {},
   "source": [
    "Tomando uso do `.fillna`"
   ]
  },
  {
   "cell_type": "code",
   "execution_count": null,
   "metadata": {},
   "outputs": [],
   "source": [
    "dados.Renda11.fillna(value = 'Não Informado')\n",
    "print('')"
   ]
  },
  {
   "cell_type": "code",
   "execution_count": null,
   "metadata": {},
   "outputs": [],
   "source": [
    "dados2.Renda15.fillna(value = 'Não Informado')\n",
    "print('')"
   ]
  },
  {
   "cell_type": "code",
   "execution_count": null,
   "metadata": {
    "scrolled": true
   },
   "outputs": [],
   "source": [
    "faixa = np.arange(0, 50000, 1500)\n",
    "pd.cut(dados.Renda11, bins=np.r_[faixa, np.inf], right=False)\n",
    "pd.cut(dados2.Renda15, bins=np.r_[faixa, np.inf], right=False)\n",
    "print('')"
   ]
  },
  {
   "cell_type": "markdown",
   "metadata": {},
   "source": [
    "__Usando__ `boxplot` __e__ `histograma` __para checar a base de dados em 2011, depois para 2015:__"
   ]
  },
  {
   "cell_type": "code",
   "execution_count": null,
   "metadata": {},
   "outputs": [],
   "source": [
    "dados.Renda11.plot.box()"
   ]
  },
  {
   "cell_type": "code",
   "execution_count": null,
   "metadata": {},
   "outputs": [],
   "source": [
    "dados2.Renda15.plot.box()"
   ]
  },
  {
   "cell_type": "markdown",
   "metadata": {},
   "source": [
    "### Vamos subdividir o grupo de renda em grupos menores usando o método `loc`"
   ]
  },
  {
   "cell_type": "code",
   "execution_count": null,
   "metadata": {},
   "outputs": [],
   "source": [
    "faixa1 = np.arange(0, 1000, 50)\n",
    "grupo1_renda11 = dados.Renda11.loc[(dados.Renda11 < 1000)]\n",
    "grupo1_renda15 = dados2.Renda15.loc[(dados2.Renda15 < 1000)]"
   ]
  },
  {
   "cell_type": "code",
   "execution_count": null,
   "metadata": {},
   "outputs": [],
   "source": [
    "faixa2 = np.arange(1000, 2000, 50)\n",
    "grupo2_renda11 = dados.Renda11.loc[(dados.Renda11 > 1000) & (dados.Renda11 <= 2000)]\n",
    "grupo2_renda15 = dados2.Renda15.loc[(dados2.Renda15 > 1000) & (dados2.Renda15 <= 2000)]"
   ]
  },
  {
   "cell_type": "code",
   "execution_count": null,
   "metadata": {},
   "outputs": [],
   "source": [
    "faixa3 = np.arange(2000, 3000, 50)\n",
    "grupo3_renda11 = dados.Renda11.loc[(dados.Renda11 > 2000) & (dados.Renda11 <= 3000)]\n",
    "grupo3_renda15 = dados2.Renda15.loc[(dados2.Renda15 > 2000) & (dados2.Renda15 <= 3000)]"
   ]
  },
  {
   "cell_type": "code",
   "execution_count": null,
   "metadata": {},
   "outputs": [],
   "source": [
    "faixa4 = np.arange(3000, 4000, 50)\n",
    "grupo4_renda11 = dados.Renda11.loc[(dados.Renda11 > 3000) & (dados.Renda11 <= 4000)]\n",
    "grupo4_renda15 = dados2.Renda15.loc[(dados2.Renda15 > 3000) & (dados2.Renda15 <= 4000)]"
   ]
  },
  {
   "cell_type": "code",
   "execution_count": null,
   "metadata": {},
   "outputs": [],
   "source": [
    "faixa5 = np.arange(4000, 5000, 50)\n",
    "grupo5_renda11 = dados.Renda11.loc[(dados.Renda11 > 4000) & (dados.Renda11 <= 5000)]\n",
    "grupo5_renda15 = dados2.Renda15.loc[(dados2.Renda15 > 4000) & (dados2.Renda15 <= 5000)]"
   ]
  },
  {
   "cell_type": "code",
   "execution_count": null,
   "metadata": {},
   "outputs": [],
   "source": [
    "faixa6 = np.arange(5000, 6000, 50)\n",
    "grupo6_renda11 = dados.Renda11.loc[(dados.Renda11 > 5000) & (dados.Renda11 <= 6000)]\n",
    "grupo6_renda15 = dados2.Renda15.loc[(dados2.Renda15 > 5000) & (dados2.Renda15 <= 6000)]"
   ]
  },
  {
   "cell_type": "code",
   "execution_count": null,
   "metadata": {},
   "outputs": [],
   "source": [
    "faixa7 = np.arange(6000, 7000, 50)\n",
    "grupo7_renda11 = dados.Renda11.loc[(dados.Renda11 > 6000) & (dados.Renda11 <= 7000)]\n",
    "grupo7_renda15 = dados2.Renda15.loc[(dados2.Renda15 > 6000) & (dados2.Renda15 <= 7000)]"
   ]
  },
  {
   "cell_type": "code",
   "execution_count": null,
   "metadata": {},
   "outputs": [],
   "source": [
    "faixa8 = np.arange(7000, 8000, 50)\n",
    "grupo8_renda11 = dados.Renda11.loc[(dados.Renda11 > 7000) & (dados.Renda11 <= 8000)]\n",
    "grupo8_renda15 = dados2.Renda15.loc[(dados2.Renda15 > 7000) & (dados2.Renda15 <= 8000)]"
   ]
  },
  {
   "cell_type": "code",
   "execution_count": null,
   "metadata": {},
   "outputs": [],
   "source": [
    "faixa9 = np.arange(8000, 9000, 50)\n",
    "grupo9_renda11 = dados.Renda11.loc[(dados.Renda11 > 8000) & (dados.Renda11 <= 9000)]\n",
    "grupo9_renda15 = dados2.Renda15.loc[(dados2.Renda15 > 8000) & (dados2.Renda15 <= 9000)]"
   ]
  },
  {
   "cell_type": "code",
   "execution_count": null,
   "metadata": {},
   "outputs": [],
   "source": [
    "faixa10 = np.arange(9000, 10000, 50)\n",
    "grupo10_renda11 = dados.Renda11.loc[(dados.Renda11 > 9000) & (dados.Renda11 <= 10000)]\n",
    "grupo10_renda15 = dados2.Renda15.loc[(dados2.Renda15 > 9000) & (dados2.Renda15 <= 10000)]"
   ]
  },
  {
   "cell_type": "code",
   "execution_count": null,
   "metadata": {
    "collapsed": true
   },
   "outputs": [],
   "source": [
    "faixaL = np.arange(10000, 30000, 500)\n",
    "grupoL_renda11 = dados.Renda11.loc[(dados.Renda11 > 10000) & (dados.Renda11 <= 30000)]\n",
    "grupoL_renda15 = dados2.Renda15.loc[(dados2.Renda15 > 10000) & (dados2.Renda15 <= 30000)]"
   ]
  },
  {
   "cell_type": "markdown",
   "metadata": {},
   "source": [
    "# Exibição de cada grupo:"
   ]
  },
  {
   "cell_type": "markdown",
   "metadata": {},
   "source": [
    "Grupo 1:"
   ]
  },
  {
   "cell_type": "code",
   "execution_count": null,
   "metadata": {},
   "outputs": [],
   "source": [
    "plt.figure(figsize = (10, 5))\n",
    "plt.subplot(121)\n",
    "grupo1_renda11.plot.hist(bins=faixa1,title='', alpha=0.9, figsize = (5,5))\n",
    "plt.subplot(122)\n",
    "grupo1_renda15.plot.hist(bins=faixa1,title='', alpha=0.9, figsize = (5,5))\n",
    "plt.show()"
   ]
  },
  {
   "cell_type": "markdown",
   "metadata": {},
   "source": [
    "Grupo 2:"
   ]
  },
  {
   "cell_type": "code",
   "execution_count": null,
   "metadata": {},
   "outputs": [],
   "source": [
    "plt.figure(figsize = (10, 5))\n",
    "plt.subplot(121)\n",
    "grupo1_renda11.plot.hist(bins=faixa1,title='', alpha=0.9, figsize = (5,5))\n",
    "plt.subplot(122)\n",
    "grupo1_renda15.plot.hist(bins=faixa1,title='', alpha=0.9, figsize = (5,5))\n",
    "plt.show()"
   ]
  },
  {
   "cell_type": "code",
   "execution_count": null,
   "metadata": {},
   "outputs": [],
   "source": [
    "grupo3_renda11.plot.hist(bins=faixa3,title='', alpha=0.9)"
   ]
  },
  {
   "cell_type": "code",
   "execution_count": null,
   "metadata": {},
   "outputs": [],
   "source": [
    "grupo4_renda11.plot.hist(bins=faixa4,title='', alpha=0.9)"
   ]
  },
  {
   "cell_type": "code",
   "execution_count": null,
   "metadata": {},
   "outputs": [],
   "source": [
    "grupo5_renda11.plot.hist(bins=faixa5,title='', alpha=0.9)"
   ]
  },
  {
   "cell_type": "code",
   "execution_count": null,
   "metadata": {},
   "outputs": [],
   "source": [
    "grupo6_renda11.plot.hist(bins=faixa6,title='', alpha=0.9)"
   ]
  },
  {
   "cell_type": "code",
   "execution_count": null,
   "metadata": {},
   "outputs": [],
   "source": [
    "grupo7_renda11.plot.hist(bins=faixa7,title='', alpha=0.9)"
   ]
  },
  {
   "cell_type": "code",
   "execution_count": null,
   "metadata": {},
   "outputs": [],
   "source": [
    "grupo8_renda11.plot.hist(bins=faixa8,title='', alpha=0.9)"
   ]
  },
  {
   "cell_type": "code",
   "execution_count": null,
   "metadata": {},
   "outputs": [],
   "source": [
    "grupo9_renda11.plot.hist(bins=faixa9,title='', alpha=0.9)"
   ]
  },
  {
   "cell_type": "code",
   "execution_count": null,
   "metadata": {},
   "outputs": [],
   "source": [
    "grupo10_renda11.plot.hist(bins=faixa10,title='', alpha=0.9)"
   ]
  },
  {
   "cell_type": "markdown",
   "metadata": {},
   "source": [
    "Denota-se que existem muitos outliers que estão atrapalhando"
   ]
  },
  {
   "cell_type": "markdown",
   "metadata": {},
   "source": [
    "# __ Realizando Crosstabs: __"
   ]
  },
  {
   "cell_type": "code",
   "execution_count": null,
   "metadata": {},
   "outputs": [],
   "source": [
    "dados.head()"
   ]
  },
  {
   "cell_type": "code",
   "execution_count": null,
   "metadata": {},
   "outputs": [],
   "source": [
    "dados2.head"
   ]
  },
  {
   "cell_type": "code",
   "execution_count": 254,
   "metadata": {},
   "outputs": [
    {
     "data": {
      "text/html": [
       "<div>\n",
       "<style>\n",
       "    .dataframe thead tr:only-child th {\n",
       "        text-align: right;\n",
       "    }\n",
       "\n",
       "    .dataframe thead th {\n",
       "        text-align: left;\n",
       "    }\n",
       "\n",
       "    .dataframe tbody tr th {\n",
       "        vertical-align: top;\n",
       "    }\n",
       "</style>\n",
       "<table border=\"1\" class=\"dataframe\">\n",
       "  <thead>\n",
       "    <tr style=\"text-align: right;\">\n",
       "      <th>Internet11</th>\n",
       "      <th>Não</th>\n",
       "      <th>Não Informado</th>\n",
       "      <th>Sim</th>\n",
       "    </tr>\n",
       "    <tr>\n",
       "      <th>Escolaridade11</th>\n",
       "      <th></th>\n",
       "      <th></th>\n",
       "      <th></th>\n",
       "    </tr>\n",
       "  </thead>\n",
       "  <tbody>\n",
       "    <tr>\n",
       "      <th>Em alfabetização</th>\n",
       "      <td>0.011423</td>\n",
       "      <td>2.469638</td>\n",
       "      <td>0.004179</td>\n",
       "    </tr>\n",
       "    <tr>\n",
       "      <th>Ensino Fundamental I em tempo regular</th>\n",
       "      <td>4.181445</td>\n",
       "      <td>5.622717</td>\n",
       "      <td>6.567499</td>\n",
       "    </tr>\n",
       "    <tr>\n",
       "      <th>Ensino Médio em tempo regular</th>\n",
       "      <td>0.754209</td>\n",
       "      <td>0.000000</td>\n",
       "      <td>3.805037</td>\n",
       "    </tr>\n",
       "    <tr>\n",
       "      <th>Ensino Superior, Mestrando ou Doutorando</th>\n",
       "      <td>0.071047</td>\n",
       "      <td>0.000000</td>\n",
       "      <td>3.527258</td>\n",
       "    </tr>\n",
       "    <tr>\n",
       "      <th>Jovens e Adultos cursando Ensino Médio</th>\n",
       "      <td>0.114789</td>\n",
       "      <td>0.000000</td>\n",
       "      <td>0.173298</td>\n",
       "    </tr>\n",
       "    <tr>\n",
       "      <th>Jovens e Adultos em alfabetização ou cursando Ensino Fundamental</th>\n",
       "      <td>0.379473</td>\n",
       "      <td>0.000000</td>\n",
       "      <td>0.155188</td>\n",
       "    </tr>\n",
       "    <tr>\n",
       "      <th>Não Informado</th>\n",
       "      <td>40.150842</td>\n",
       "      <td>6.725473</td>\n",
       "      <td>25.199279</td>\n",
       "    </tr>\n",
       "    <tr>\n",
       "      <th>Pré-Vestibulando</th>\n",
       "      <td>0.005851</td>\n",
       "      <td>0.000000</td>\n",
       "      <td>0.081355</td>\n",
       "    </tr>\n",
       "  </tbody>\n",
       "</table>\n",
       "</div>"
      ],
      "text/plain": [
       "Internet11                                                Não  Não Informado  \\\n",
       "Escolaridade11                                                                 \n",
       "Em alfabetização                                     0.011423       2.469638   \n",
       "Ensino Fundamental I em tempo regular                4.181445       5.622717   \n",
       "Ensino Médio em tempo regular                        0.754209       0.000000   \n",
       "Ensino Superior, Mestrando ou Doutorando             0.071047       0.000000   \n",
       "Jovens e Adultos cursando Ensino Médio               0.114789       0.000000   \n",
       "Jovens e Adultos em alfabetização ou cursando E...   0.379473       0.000000   \n",
       "Não Informado                                       40.150842       6.725473   \n",
       "Pré-Vestibulando                                     0.005851       0.000000   \n",
       "\n",
       "Internet11                                                Sim  \n",
       "Escolaridade11                                                 \n",
       "Em alfabetização                                     0.004179  \n",
       "Ensino Fundamental I em tempo regular                6.567499  \n",
       "Ensino Médio em tempo regular                        3.805037  \n",
       "Ensino Superior, Mestrando ou Doutorando             3.527258  \n",
       "Jovens e Adultos cursando Ensino Médio               0.173298  \n",
       "Jovens e Adultos em alfabetização ou cursando E...   0.155188  \n",
       "Não Informado                                       25.199279  \n",
       "Pré-Vestibulando                                     0.081355  "
      ]
     },
     "execution_count": 254,
     "metadata": {},
     "output_type": "execute_result"
    }
   ],
   "source": [
    "escolaridade_internet = pd.crosstab(dados.Escolaridade11, dados.Internet11, normalize = True)*100\n",
    "escolaridade_internet"
   ]
  },
  {
   "cell_type": "code",
   "execution_count": 255,
   "metadata": {},
   "outputs": [
    {
     "data": {
      "text/html": [
       "<div>\n",
       "<style>\n",
       "    .dataframe thead tr:only-child th {\n",
       "        text-align: right;\n",
       "    }\n",
       "\n",
       "    .dataframe thead th {\n",
       "        text-align: left;\n",
       "    }\n",
       "\n",
       "    .dataframe tbody tr th {\n",
       "        vertical-align: top;\n",
       "    }\n",
       "</style>\n",
       "<table border=\"1\" class=\"dataframe\">\n",
       "  <thead>\n",
       "    <tr style=\"text-align: right;\">\n",
       "      <th>Celular11</th>\n",
       "      <th>Não</th>\n",
       "      <th>Não Informado</th>\n",
       "      <th>Sim</th>\n",
       "    </tr>\n",
       "    <tr>\n",
       "      <th>Escolaridade11</th>\n",
       "      <th></th>\n",
       "      <th></th>\n",
       "      <th></th>\n",
       "    </tr>\n",
       "  </thead>\n",
       "  <tbody>\n",
       "    <tr>\n",
       "      <th>Em alfabetização</th>\n",
       "      <td>0.013931</td>\n",
       "      <td>2.469638</td>\n",
       "      <td>0.001672</td>\n",
       "    </tr>\n",
       "    <tr>\n",
       "      <th>Ensino Fundamental I em tempo regular</th>\n",
       "      <td>6.000240</td>\n",
       "      <td>5.622717</td>\n",
       "      <td>4.748704</td>\n",
       "    </tr>\n",
       "    <tr>\n",
       "      <th>Ensino Médio em tempo regular</th>\n",
       "      <td>0.945339</td>\n",
       "      <td>0.000000</td>\n",
       "      <td>3.613907</td>\n",
       "    </tr>\n",
       "    <tr>\n",
       "      <th>Ensino Superior, Mestrando ou Doutorando</th>\n",
       "      <td>0.104480</td>\n",
       "      <td>0.000000</td>\n",
       "      <td>3.493825</td>\n",
       "    </tr>\n",
       "    <tr>\n",
       "      <th>Jovens e Adultos cursando Ensino Médio</th>\n",
       "      <td>0.043185</td>\n",
       "      <td>0.000000</td>\n",
       "      <td>0.244902</td>\n",
       "    </tr>\n",
       "    <tr>\n",
       "      <th>Jovens e Adultos em alfabetização ou cursando Ensino Fundamental</th>\n",
       "      <td>0.213697</td>\n",
       "      <td>0.000000</td>\n",
       "      <td>0.320964</td>\n",
       "    </tr>\n",
       "    <tr>\n",
       "      <th>Não Informado</th>\n",
       "      <td>18.181261</td>\n",
       "      <td>6.725473</td>\n",
       "      <td>47.168860</td>\n",
       "    </tr>\n",
       "    <tr>\n",
       "      <th>Pré-Vestibulando</th>\n",
       "      <td>0.003343</td>\n",
       "      <td>0.000000</td>\n",
       "      <td>0.083863</td>\n",
       "    </tr>\n",
       "  </tbody>\n",
       "</table>\n",
       "</div>"
      ],
      "text/plain": [
       "Celular11                                                 Não  Não Informado  \\\n",
       "Escolaridade11                                                                 \n",
       "Em alfabetização                                     0.013931       2.469638   \n",
       "Ensino Fundamental I em tempo regular                6.000240       5.622717   \n",
       "Ensino Médio em tempo regular                        0.945339       0.000000   \n",
       "Ensino Superior, Mestrando ou Doutorando             0.104480       0.000000   \n",
       "Jovens e Adultos cursando Ensino Médio               0.043185       0.000000   \n",
       "Jovens e Adultos em alfabetização ou cursando E...   0.213697       0.000000   \n",
       "Não Informado                                       18.181261       6.725473   \n",
       "Pré-Vestibulando                                     0.003343       0.000000   \n",
       "\n",
       "Celular11                                                 Sim  \n",
       "Escolaridade11                                                 \n",
       "Em alfabetização                                     0.001672  \n",
       "Ensino Fundamental I em tempo regular                4.748704  \n",
       "Ensino Médio em tempo regular                        3.613907  \n",
       "Ensino Superior, Mestrando ou Doutorando             3.493825  \n",
       "Jovens e Adultos cursando Ensino Médio               0.244902  \n",
       "Jovens e Adultos em alfabetização ou cursando E...   0.320964  \n",
       "Não Informado                                       47.168860  \n",
       "Pré-Vestibulando                                     0.083863  "
      ]
     },
     "execution_count": 255,
     "metadata": {},
     "output_type": "execute_result"
    }
   ],
   "source": [
    "escolaridade_celular = pd.crosstab(dados.Escolaridade11, dados.Celular11, normalize = True)*100\n",
    "escolaridade_celular"
   ]
  },
  {
   "cell_type": "code",
   "execution_count": 256,
   "metadata": {},
   "outputs": [
    {
     "data": {
      "text/html": [
       "<div>\n",
       "<style>\n",
       "    .dataframe thead tr:only-child th {\n",
       "        text-align: right;\n",
       "    }\n",
       "\n",
       "    .dataframe thead th {\n",
       "        text-align: left;\n",
       "    }\n",
       "\n",
       "    .dataframe tbody tr th {\n",
       "        vertical-align: top;\n",
       "    }\n",
       "</style>\n",
       "<table border=\"1\" class=\"dataframe\">\n",
       "  <thead>\n",
       "    <tr style=\"text-align: right;\">\n",
       "      <th>Celular15</th>\n",
       "      <th>Não</th>\n",
       "      <th>Não Informado</th>\n",
       "      <th>Sim</th>\n",
       "    </tr>\n",
       "    <tr>\n",
       "      <th>Escolaridade15</th>\n",
       "      <th></th>\n",
       "      <th></th>\n",
       "      <th></th>\n",
       "    </tr>\n",
       "  </thead>\n",
       "  <tbody>\n",
       "    <tr>\n",
       "      <th>Em alfabetização</th>\n",
       "      <td>0.004203</td>\n",
       "      <td>2.053213</td>\n",
       "      <td>0.001401</td>\n",
       "    </tr>\n",
       "    <tr>\n",
       "      <th>Ensino Fundamental I em tempo regular</th>\n",
       "      <td>4.065239</td>\n",
       "      <td>5.331686</td>\n",
       "      <td>5.173100</td>\n",
       "    </tr>\n",
       "    <tr>\n",
       "      <th>Ensino Médio em tempo regular</th>\n",
       "      <td>0.507980</td>\n",
       "      <td>0.000000</td>\n",
       "      <td>3.859861</td>\n",
       "    </tr>\n",
       "    <tr>\n",
       "      <th>Ensino Superior, Mestrando ou Doutorando</th>\n",
       "      <td>0.055757</td>\n",
       "      <td>0.000000</td>\n",
       "      <td>3.897687</td>\n",
       "    </tr>\n",
       "    <tr>\n",
       "      <th>Jovens e Adultos cursando Ensino Médio</th>\n",
       "      <td>0.022415</td>\n",
       "      <td>0.000000</td>\n",
       "      <td>0.244043</td>\n",
       "    </tr>\n",
       "    <tr>\n",
       "      <th>Jovens e Adultos em alfabetização ou cursando Ensino Fundamental</th>\n",
       "      <td>0.105070</td>\n",
       "      <td>0.000000</td>\n",
       "      <td>0.289434</td>\n",
       "    </tr>\n",
       "    <tr>\n",
       "      <th>Não Informado</th>\n",
       "      <td>13.494385</td>\n",
       "      <td>6.149553</td>\n",
       "      <td>54.704626</td>\n",
       "    </tr>\n",
       "    <tr>\n",
       "      <th>Pré-Vestibulando</th>\n",
       "      <td>0.000560</td>\n",
       "      <td>0.000000</td>\n",
       "      <td>0.039787</td>\n",
       "    </tr>\n",
       "  </tbody>\n",
       "</table>\n",
       "</div>"
      ],
      "text/plain": [
       "Celular15                                                 Não  Não Informado  \\\n",
       "Escolaridade15                                                                 \n",
       "Em alfabetização                                     0.004203       2.053213   \n",
       "Ensino Fundamental I em tempo regular                4.065239       5.331686   \n",
       "Ensino Médio em tempo regular                        0.507980       0.000000   \n",
       "Ensino Superior, Mestrando ou Doutorando             0.055757       0.000000   \n",
       "Jovens e Adultos cursando Ensino Médio               0.022415       0.000000   \n",
       "Jovens e Adultos em alfabetização ou cursando E...   0.105070       0.000000   \n",
       "Não Informado                                       13.494385       6.149553   \n",
       "Pré-Vestibulando                                     0.000560       0.000000   \n",
       "\n",
       "Celular15                                                 Sim  \n",
       "Escolaridade15                                                 \n",
       "Em alfabetização                                     0.001401  \n",
       "Ensino Fundamental I em tempo regular                5.173100  \n",
       "Ensino Médio em tempo regular                        3.859861  \n",
       "Ensino Superior, Mestrando ou Doutorando             3.897687  \n",
       "Jovens e Adultos cursando Ensino Médio               0.244043  \n",
       "Jovens e Adultos em alfabetização ou cursando E...   0.289434  \n",
       "Não Informado                                       54.704626  \n",
       "Pré-Vestibulando                                     0.039787  "
      ]
     },
     "execution_count": 256,
     "metadata": {},
     "output_type": "execute_result"
    }
   ],
   "source": [
    "escolaridade_celular15 = pd.crosstab(dados2.Escolaridade15, dados2.Celular15, normalize = True)*100\n",
    "escolaridade_celular15"
   ]
  },
  {
   "cell_type": "code",
   "execution_count": 257,
   "metadata": {},
   "outputs": [
    {
     "data": {
      "text/html": [
       "<div>\n",
       "<style>\n",
       "    .dataframe thead tr:only-child th {\n",
       "        text-align: right;\n",
       "    }\n",
       "\n",
       "    .dataframe thead th {\n",
       "        text-align: left;\n",
       "    }\n",
       "\n",
       "    .dataframe tbody tr th {\n",
       "        vertical-align: top;\n",
       "    }\n",
       "</style>\n",
       "<table border=\"1\" class=\"dataframe\">\n",
       "  <thead>\n",
       "    <tr style=\"text-align: right;\">\n",
       "      <th>Internet15</th>\n",
       "      <th>Não</th>\n",
       "      <th>Não Informado</th>\n",
       "      <th>Sim</th>\n",
       "    </tr>\n",
       "    <tr>\n",
       "      <th>Escolaridade15</th>\n",
       "      <th></th>\n",
       "      <th></th>\n",
       "      <th></th>\n",
       "    </tr>\n",
       "  </thead>\n",
       "  <tbody>\n",
       "    <tr>\n",
       "      <th>Em alfabetização</th>\n",
       "      <td>0.003923</td>\n",
       "      <td>2.053213</td>\n",
       "      <td>0.001681</td>\n",
       "    </tr>\n",
       "    <tr>\n",
       "      <th>Ensino Fundamental I em tempo regular</th>\n",
       "      <td>2.928238</td>\n",
       "      <td>5.331686</td>\n",
       "      <td>6.310100</td>\n",
       "    </tr>\n",
       "    <tr>\n",
       "      <th>Ensino Médio em tempo regular</th>\n",
       "      <td>0.509941</td>\n",
       "      <td>0.000000</td>\n",
       "      <td>3.857900</td>\n",
       "    </tr>\n",
       "    <tr>\n",
       "      <th>Ensino Superior, Mestrando ou Doutorando</th>\n",
       "      <td>0.071448</td>\n",
       "      <td>0.000000</td>\n",
       "      <td>3.881996</td>\n",
       "    </tr>\n",
       "    <tr>\n",
       "      <th>Jovens e Adultos cursando Ensino Médio</th>\n",
       "      <td>0.063883</td>\n",
       "      <td>0.000000</td>\n",
       "      <td>0.202575</td>\n",
       "    </tr>\n",
       "    <tr>\n",
       "      <th>Jovens e Adultos em alfabetização ou cursando Ensino Fundamental</th>\n",
       "      <td>0.200054</td>\n",
       "      <td>0.000000</td>\n",
       "      <td>0.194450</td>\n",
       "    </tr>\n",
       "    <tr>\n",
       "      <th>Não Informado</th>\n",
       "      <td>32.907449</td>\n",
       "      <td>6.149553</td>\n",
       "      <td>35.291563</td>\n",
       "    </tr>\n",
       "    <tr>\n",
       "      <th>Pré-Vestibulando</th>\n",
       "      <td>0.000560</td>\n",
       "      <td>0.000000</td>\n",
       "      <td>0.039787</td>\n",
       "    </tr>\n",
       "  </tbody>\n",
       "</table>\n",
       "</div>"
      ],
      "text/plain": [
       "Internet15                                                Não  Não Informado  \\\n",
       "Escolaridade15                                                                 \n",
       "Em alfabetização                                     0.003923       2.053213   \n",
       "Ensino Fundamental I em tempo regular                2.928238       5.331686   \n",
       "Ensino Médio em tempo regular                        0.509941       0.000000   \n",
       "Ensino Superior, Mestrando ou Doutorando             0.071448       0.000000   \n",
       "Jovens e Adultos cursando Ensino Médio               0.063883       0.000000   \n",
       "Jovens e Adultos em alfabetização ou cursando E...   0.200054       0.000000   \n",
       "Não Informado                                       32.907449       6.149553   \n",
       "Pré-Vestibulando                                     0.000560       0.000000   \n",
       "\n",
       "Internet15                                                Sim  \n",
       "Escolaridade15                                                 \n",
       "Em alfabetização                                     0.001681  \n",
       "Ensino Fundamental I em tempo regular                6.310100  \n",
       "Ensino Médio em tempo regular                        3.857900  \n",
       "Ensino Superior, Mestrando ou Doutorando             3.881996  \n",
       "Jovens e Adultos cursando Ensino Médio               0.202575  \n",
       "Jovens e Adultos em alfabetização ou cursando E...   0.194450  \n",
       "Não Informado                                       35.291563  \n",
       "Pré-Vestibulando                                     0.039787  "
      ]
     },
     "execution_count": 257,
     "metadata": {},
     "output_type": "execute_result"
    }
   ],
   "source": [
    "escolaridade_internet15 = pd.crosstab(dados2.Escolaridade15, dados2.Internet15, normalize = True)*100\n",
    "escolaridade_internet15"
   ]
  },
  {
   "cell_type": "markdown",
   "metadata": {},
   "source": [
    "__Filtrando os que não opinaram na escolaridade:__"
   ]
  },
  {
   "cell_type": "code",
   "execution_count": 258,
   "metadata": {},
   "outputs": [
    {
     "data": {
      "text/plain": [
       "Em alfabetização                                                      8920\n",
       "Ensino Fundamental I em tempo regular                                58761\n",
       "Ensino Médio em tempo regular                                        16364\n",
       "Ensino Superior, Mestrando ou Doutorando                             12915\n",
       "Jovens e Adultos cursando Ensino Médio                                1034\n",
       "Jovens e Adultos em alfabetização ou cursando Ensino Fundamental      1919\n",
       "Pré-Vestibulando                                                       313\n",
       "Não Informado                                                       258693\n",
       "Name: Escolaridade11, dtype: int64"
      ]
     },
     "execution_count": 258,
     "metadata": {},
     "output_type": "execute_result"
    }
   ],
   "source": [
    "dados.Escolaridade11.value_counts().reindex([\"Em alfabetização\",  \"Ensino Fundamental I em tempo regular\", \"Ensino Médio em tempo regular\", \"Ensino Superior, Mestrando ou Doutorando\", \"Jovens e Adultos cursando Ensino Médio\", \"Jovens e Adultos em alfabetização ou cursando Ensino Fundamental\", \"Pré-Vestibulando\", \"Não Informado\"])\n",
    "dados.Escolaridade11.loc"
   ]
  },
  {
   "cell_type": "markdown",
   "metadata": {},
   "source": [
    "O método `reindex` serve para reordenar as linhas de uma tabela.  "
   ]
  },
  {
   "cell_type": "code",
   "execution_count": 259,
   "metadata": {
    "collapsed": true,
    "scrolled": false
   },
   "outputs": [],
   "source": [
    "#escolaridade_celular.plot(kind = 'bar', normed = 1)\n",
    "#escolaridade_celular15.plot(kind = 'bar', normed = 1)\n"
   ]
  },
  {
   "cell_type": "code",
   "execution_count": 252,
   "metadata": {},
   "outputs": [
    {
     "data": {
      "text/plain": [
       "<matplotlib.axes._subplots.AxesSubplot at 0x1f7d8910550>"
      ]
     },
     "execution_count": 252,
     "metadata": {},
     "output_type": "execute_result"
    },
    {
     "data": {
      "image/png": "[encoded data removed]",
      "text/plain": [
       "<matplotlib.figure.Figure at 0x1f7d9f274e0>"
      ]
     },
     "metadata": {},
     "output_type": "display_data"
    }
   ],
   "source": [
    "renda1_escolaridade11 = pd.crosstab(dados.Escolaridade11, grupo1_renda11)\n",
    "renda1_escolaridade15 = pd.crosstab(dados2.Escolaridade15, grupo1_renda15)\n",
    "\n",
    "#plt.figure(figsize = (10, 5))\n",
    "#plt.subplot(121)\n",
    "renda1_escolaridade11.plot(kind='bar', legend = False)\n",
    "\n",
    "#plt.subplot(122)\n",
    "\n",
    "#plt.show()"
   ]
  },
  {
   "cell_type": "code",
   "execution_count": 253,
   "metadata": {},
   "outputs": [
    {
     "data": {
      "text/plain": [
       "<matplotlib.axes._subplots.AxesSubplot at 0x1f7e0e53278>"
      ]
     },
     "execution_count": 253,
     "metadata": {},
     "output_type": "execute_result"
    },
    {
     "data": {
      "image/png": "[encoded data removed]",
      "text/plain": [
       "<matplotlib.figure.Figure at 0x1f7df7bda20>"
      ]
     },
     "metadata": {},
     "output_type": "display_data"
    }
   ],
   "source": [
    "renda1_escolaridade15.plot(kind='bar', legend = False)\n"
   ]
  },
  {
   "cell_type": "code",
   "execution_count": null,
   "metadata": {
    "collapsed": true
   },
   "outputs": [],
   "source": []
  }
 ],
 "metadata": {
  "kernelspec": {
   "display_name": "Python 3",
   "language": "python",
   "name": "python3"
  },
  "language_info": {
   "codemirror_mode": {
    "name": "ipython",
    "version": 3
   },
   "file_extension": ".py",
   "mimetype": "text/x-python",
   "name": "python",
   "nbconvert_exporter": "python",
   "pygments_lexer": "ipython3",
   "version": "3.6.1"
  }
 },
 "nbformat": 4,
 "nbformat_minor": 2
}
