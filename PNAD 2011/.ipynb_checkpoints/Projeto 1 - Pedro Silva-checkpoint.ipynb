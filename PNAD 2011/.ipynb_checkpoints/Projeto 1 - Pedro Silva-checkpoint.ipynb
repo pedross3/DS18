{
 "cells": [
  {
   "cell_type": "markdown",
   "metadata": {},
   "source": [
    "# _COMO O ACESSO A ESCOLARIDADE INFLUENCIA O INDIVÍDUO A MANTER-SE CONECTADO?_"
   ]
  },
  {
   "cell_type": "code",
   "execution_count": 29,
   "metadata": {
    "collapsed": true
   },
   "outputs": [],
   "source": [
    "%matplotlib inline\n",
    "import matplotlib.pyplot as plt\n",
    "import matplotlib\n",
    "import pandas as pd\n",
    "import numpy as np\n",
    "from math import *\n",
    "from scipy import stats"
   ]
  },
  {
   "cell_type": "code",
   "execution_count": 30,
   "metadata": {},
   "outputs": [
    {
     "name": "stdout",
     "output_type": "stream",
     "text": [
      "Esperamos trabalhar no diretório\n",
      "C:\\Users\\Dell\\Documents\\Insper\\2A\\Dados\\DS18\\PNAD 2011\n"
     ]
    }
   ],
   "source": [
    "import os\n",
    "print('Esperamos trabalhar no diretório')\n",
    "print(os.getcwd())"
   ]
  },
  {
   "cell_type": "code",
   "execution_count": 31,
   "metadata": {},
   "outputs": [],
   "source": [
    "dados = pd.read_csv('../../Excels/PNAD2011/PES2011.csv')"
   ]
  },
  {
   "cell_type": "code",
   "execution_count": 32,
   "metadata": {},
   "outputs": [
    {
     "data": {
      "text/html": [
       "<div>\n",
       "<style>\n",
       "    .dataframe thead tr:only-child th {\n",
       "        text-align: right;\n",
       "    }\n",
       "\n",
       "    .dataframe thead th {\n",
       "        text-align: left;\n",
       "    }\n",
       "\n",
       "    .dataframe tbody tr th {\n",
       "        vertical-align: top;\n",
       "    }\n",
       "</style>\n",
       "<table border=\"1\" class=\"dataframe\">\n",
       "  <thead>\n",
       "    <tr style=\"text-align: right;\">\n",
       "      <th></th>\n",
       "      <th>V9532</th>\n",
       "      <th>V4801</th>\n",
       "      <th>V06111</th>\n",
       "      <th>V06112</th>\n",
       "    </tr>\n",
       "  </thead>\n",
       "  <tbody>\n",
       "    <tr>\n",
       "      <th>358914</th>\n",
       "      <td>NaN</td>\n",
       "      <td>15.0</td>\n",
       "      <td>NaN</td>\n",
       "      <td>NaN</td>\n",
       "    </tr>\n",
       "    <tr>\n",
       "      <th>358915</th>\n",
       "      <td>7000.0</td>\n",
       "      <td>NaN</td>\n",
       "      <td>1.0</td>\n",
       "      <td>1.0</td>\n",
       "    </tr>\n",
       "    <tr>\n",
       "      <th>358916</th>\n",
       "      <td>3500.0</td>\n",
       "      <td>NaN</td>\n",
       "      <td>1.0</td>\n",
       "      <td>1.0</td>\n",
       "    </tr>\n",
       "    <tr>\n",
       "      <th>358917</th>\n",
       "      <td>NaN</td>\n",
       "      <td>22.0</td>\n",
       "      <td>1.0</td>\n",
       "      <td>1.0</td>\n",
       "    </tr>\n",
       "    <tr>\n",
       "      <th>358918</th>\n",
       "      <td>NaN</td>\n",
       "      <td>13.0</td>\n",
       "      <td>NaN</td>\n",
       "      <td>NaN</td>\n",
       "    </tr>\n",
       "  </tbody>\n",
       "</table>\n",
       "</div>"
      ],
      "text/plain": [
       "         V9532  V4801  V06111  V06112\n",
       "358914     NaN   15.0     NaN     NaN\n",
       "358915  7000.0    NaN     1.0     1.0\n",
       "358916  3500.0    NaN     1.0     1.0\n",
       "358917     NaN   22.0     1.0     1.0\n",
       "358918     NaN   13.0     NaN     NaN"
      ]
     },
     "execution_count": 32,
     "metadata": {},
     "output_type": "execute_result"
    }
   ],
   "source": [
    "dados = dados.loc[:, ['V9532', 'V4801', 'V06111', 'V06112']]\n",
    "dados.tail()"
   ]
  },
  {
   "cell_type": "markdown",
   "metadata": {},
   "source": [
    "#  __Para escolaridade:__"
   ]
  },
  {
   "cell_type": "code",
   "execution_count": 33,
   "metadata": {
    "collapsed": true
   },
   "outputs": [],
   "source": [
    "dados.V4801.loc[(dados.V4801 == 1) | (dados.V4801 == 2)] = 'Em alfabetização'"
   ]
  },
  {
   "cell_type": "code",
   "execution_count": 34,
   "metadata": {},
   "outputs": [
    {
     "name": "stderr",
     "output_type": "stream",
     "text": [
      "C:\\Insper\\Anaconda3\\lib\\site-packages\\pandas\\core\\indexing.py:179: SettingWithCopyWarning: \n",
      "A value is trying to be set on a copy of a slice from a DataFrame\n",
      "\n",
      "See the caveats in the documentation: http://pandas.pydata.org/pandas-docs/stable/indexing.html#indexing-view-versus-copy\n",
      "  self._setitem_with_indexer(indexer, value)\n"
     ]
    }
   ],
   "source": [
    "dados.V4801.loc[(dados.V4801 == 3) | (dados.V4801 == 21)] = 'Jovens e Adultos em alfabetização ou cursando Ensino Fundamental'"
   ]
  },
  {
   "cell_type": "code",
   "execution_count": 35,
   "metadata": {},
   "outputs": [
    {
     "name": "stderr",
     "output_type": "stream",
     "text": [
      "C:\\Insper\\Anaconda3\\lib\\site-packages\\pandas\\core\\indexing.py:179: SettingWithCopyWarning: \n",
      "A value is trying to be set on a copy of a slice from a DataFrame\n",
      "\n",
      "See the caveats in the documentation: http://pandas.pydata.org/pandas-docs/stable/indexing.html#indexing-view-versus-copy\n",
      "  self._setitem_with_indexer(indexer, value)\n"
     ]
    }
   ],
   "source": [
    "dados.V4801.loc[(dados.V4801 == 23)] = 'Jovens e Adultos cursando Ensino Médio'"
   ]
  },
  {
   "cell_type": "code",
   "execution_count": 36,
   "metadata": {},
   "outputs": [
    {
     "name": "stderr",
     "output_type": "stream",
     "text": [
      "C:\\Insper\\Anaconda3\\lib\\site-packages\\pandas\\core\\indexing.py:179: SettingWithCopyWarning: \n",
      "A value is trying to be set on a copy of a slice from a DataFrame\n",
      "\n",
      "See the caveats in the documentation: http://pandas.pydata.org/pandas-docs/stable/indexing.html#indexing-view-versus-copy\n",
      "  self._setitem_with_indexer(indexer, value)\n"
     ]
    }
   ],
   "source": [
    "dados.V4801.loc[(dados.V4801 == 4) | (dados.V4801 == 5) | (dados.V4801 == 6) | (dados.V4801 == 7) | (dados.V4801 == 12) | (dados.V4801 == 13) | (dados.V4801 == 14) | (dados.V4801 == 15)] = 'Ensino Fundamental I em tempo regular'"
   ]
  },
  {
   "cell_type": "code",
   "execution_count": 37,
   "metadata": {},
   "outputs": [
    {
     "name": "stderr",
     "output_type": "stream",
     "text": [
      "C:\\Insper\\Anaconda3\\lib\\site-packages\\pandas\\core\\indexing.py:179: SettingWithCopyWarning: \n",
      "A value is trying to be set on a copy of a slice from a DataFrame\n",
      "\n",
      "See the caveats in the documentation: http://pandas.pydata.org/pandas-docs/stable/indexing.html#indexing-view-versus-copy\n",
      "  self._setitem_with_indexer(indexer, value)\n"
     ]
    }
   ],
   "source": [
    "dados.V4801.loc[(dados.V4801 == 8) | (dados.V4801 == 9) | (dados.V4801 == 10) | (dados.V4801 == 11) | (dados.V4801 == 16) | (dados.V4801 == 17) | (dados.V4801 == 18) | (dados.V4801 == 19) | (dados.V4801 == 20)] = 'Ensino Fundamental I em tempo regular'"
   ]
  },
  {
   "cell_type": "code",
   "execution_count": 38,
   "metadata": {},
   "outputs": [
    {
     "name": "stderr",
     "output_type": "stream",
     "text": [
      "C:\\Insper\\Anaconda3\\lib\\site-packages\\pandas\\core\\indexing.py:179: SettingWithCopyWarning: \n",
      "A value is trying to be set on a copy of a slice from a DataFrame\n",
      "\n",
      "See the caveats in the documentation: http://pandas.pydata.org/pandas-docs/stable/indexing.html#indexing-view-versus-copy\n",
      "  self._setitem_with_indexer(indexer, value)\n"
     ]
    }
   ],
   "source": [
    "dados.V4801.loc[(dados.V4801 == 22)] = 'Ensino Médio em tempo regular'"
   ]
  },
  {
   "cell_type": "code",
   "execution_count": 39,
   "metadata": {},
   "outputs": [
    {
     "name": "stderr",
     "output_type": "stream",
     "text": [
      "C:\\Insper\\Anaconda3\\lib\\site-packages\\pandas\\core\\indexing.py:179: SettingWithCopyWarning: \n",
      "A value is trying to be set on a copy of a slice from a DataFrame\n",
      "\n",
      "See the caveats in the documentation: http://pandas.pydata.org/pandas-docs/stable/indexing.html#indexing-view-versus-copy\n",
      "  self._setitem_with_indexer(indexer, value)\n"
     ]
    }
   ],
   "source": [
    "dados.V4801.loc[(dados.V4801 == 24)] = 'Pré-Vestibulando'"
   ]
  },
  {
   "cell_type": "code",
   "execution_count": 40,
   "metadata": {},
   "outputs": [
    {
     "name": "stderr",
     "output_type": "stream",
     "text": [
      "C:\\Insper\\Anaconda3\\lib\\site-packages\\pandas\\core\\indexing.py:179: SettingWithCopyWarning: \n",
      "A value is trying to be set on a copy of a slice from a DataFrame\n",
      "\n",
      "See the caveats in the documentation: http://pandas.pydata.org/pandas-docs/stable/indexing.html#indexing-view-versus-copy\n",
      "  self._setitem_with_indexer(indexer, value)\n"
     ]
    }
   ],
   "source": [
    "dados.V4801.loc[(dados.V4801 == 25)] = 'Ensino Superior, Mestrando ou Doutorando'"
   ]
  },
  {
   "cell_type": "code",
   "execution_count": 41,
   "metadata": {
    "collapsed": true
   },
   "outputs": [],
   "source": [
    "dados.V4801 = dados.V4801.fillna(value = 'Não Informado')"
   ]
  },
  {
   "cell_type": "code",
   "execution_count": 42,
   "metadata": {},
   "outputs": [
    {
     "data": {
      "text/html": [
       "<div>\n",
       "<style>\n",
       "    .dataframe thead tr:only-child th {\n",
       "        text-align: right;\n",
       "    }\n",
       "\n",
       "    .dataframe thead th {\n",
       "        text-align: left;\n",
       "    }\n",
       "\n",
       "    .dataframe tbody tr th {\n",
       "        vertical-align: top;\n",
       "    }\n",
       "</style>\n",
       "<table border=\"1\" class=\"dataframe\">\n",
       "  <thead>\n",
       "    <tr style=\"text-align: right;\">\n",
       "      <th></th>\n",
       "      <th>V9532</th>\n",
       "      <th>V4801</th>\n",
       "      <th>V06111</th>\n",
       "      <th>V06112</th>\n",
       "    </tr>\n",
       "  </thead>\n",
       "  <tbody>\n",
       "    <tr>\n",
       "      <th>0</th>\n",
       "      <td>1.000000e+12</td>\n",
       "      <td>Não Informado</td>\n",
       "      <td>3.0</td>\n",
       "      <td>1.0</td>\n",
       "    </tr>\n",
       "    <tr>\n",
       "      <th>1</th>\n",
       "      <td>NaN</td>\n",
       "      <td>Ensino Superior, Mestrando ou Doutorando</td>\n",
       "      <td>1.0</td>\n",
       "      <td>1.0</td>\n",
       "    </tr>\n",
       "    <tr>\n",
       "      <th>2</th>\n",
       "      <td>NaN</td>\n",
       "      <td>Ensino Médio em tempo regular</td>\n",
       "      <td>1.0</td>\n",
       "      <td>3.0</td>\n",
       "    </tr>\n",
       "    <tr>\n",
       "      <th>3</th>\n",
       "      <td>NaN</td>\n",
       "      <td>Ensino Fundamental I em tempo regular</td>\n",
       "      <td>NaN</td>\n",
       "      <td>NaN</td>\n",
       "    </tr>\n",
       "    <tr>\n",
       "      <th>4</th>\n",
       "      <td>2.800000e+03</td>\n",
       "      <td>Não Informado</td>\n",
       "      <td>3.0</td>\n",
       "      <td>1.0</td>\n",
       "    </tr>\n",
       "  </tbody>\n",
       "</table>\n",
       "</div>"
      ],
      "text/plain": [
       "          V9532                                     V4801  V06111  V06112\n",
       "0  1.000000e+12                             Não Informado     3.0     1.0\n",
       "1           NaN  Ensino Superior, Mestrando ou Doutorando     1.0     1.0\n",
       "2           NaN             Ensino Médio em tempo regular     1.0     3.0\n",
       "3           NaN     Ensino Fundamental I em tempo regular     NaN     NaN\n",
       "4  2.800000e+03                             Não Informado     3.0     1.0"
      ]
     },
     "execution_count": 42,
     "metadata": {},
     "output_type": "execute_result"
    }
   ],
   "source": [
    "dados.head()"
   ]
  },
  {
   "cell_type": "markdown",
   "metadata": {},
   "source": [
    "# __Para Internet__:"
   ]
  },
  {
   "cell_type": "code",
   "execution_count": 43,
   "metadata": {},
   "outputs": [
    {
     "name": "stderr",
     "output_type": "stream",
     "text": [
      "C:\\Insper\\Anaconda3\\lib\\site-packages\\pandas\\core\\indexing.py:179: SettingWithCopyWarning: \n",
      "A value is trying to be set on a copy of a slice from a DataFrame\n",
      "\n",
      "See the caveats in the documentation: http://pandas.pydata.org/pandas-docs/stable/indexing.html#indexing-view-versus-copy\n",
      "  self._setitem_with_indexer(indexer, value)\n"
     ]
    }
   ],
   "source": [
    "dados.V06111.loc[(dados.V06111 == 1)] = 'Sim'\n",
    "dados.V06111.loc[(dados.V06111 == 3)] = 'Não'"
   ]
  },
  {
   "cell_type": "code",
   "execution_count": 44,
   "metadata": {
    "collapsed": true
   },
   "outputs": [],
   "source": [
    "dados.V06111 = dados.V06111.fillna(value = 'Não Informado')"
   ]
  },
  {
   "cell_type": "code",
   "execution_count": 45,
   "metadata": {},
   "outputs": [
    {
     "data": {
      "text/html": [
       "<div>\n",
       "<style>\n",
       "    .dataframe thead tr:only-child th {\n",
       "        text-align: right;\n",
       "    }\n",
       "\n",
       "    .dataframe thead th {\n",
       "        text-align: left;\n",
       "    }\n",
       "\n",
       "    .dataframe tbody tr th {\n",
       "        vertical-align: top;\n",
       "    }\n",
       "</style>\n",
       "<table border=\"1\" class=\"dataframe\">\n",
       "  <thead>\n",
       "    <tr style=\"text-align: right;\">\n",
       "      <th></th>\n",
       "      <th>V9532</th>\n",
       "      <th>V4801</th>\n",
       "      <th>V06111</th>\n",
       "      <th>V06112</th>\n",
       "    </tr>\n",
       "  </thead>\n",
       "  <tbody>\n",
       "    <tr>\n",
       "      <th>0</th>\n",
       "      <td>1.000000e+12</td>\n",
       "      <td>Não Informado</td>\n",
       "      <td>Não</td>\n",
       "      <td>1.0</td>\n",
       "    </tr>\n",
       "    <tr>\n",
       "      <th>1</th>\n",
       "      <td>NaN</td>\n",
       "      <td>Ensino Superior, Mestrando ou Doutorando</td>\n",
       "      <td>Sim</td>\n",
       "      <td>1.0</td>\n",
       "    </tr>\n",
       "    <tr>\n",
       "      <th>2</th>\n",
       "      <td>NaN</td>\n",
       "      <td>Ensino Médio em tempo regular</td>\n",
       "      <td>Sim</td>\n",
       "      <td>3.0</td>\n",
       "    </tr>\n",
       "    <tr>\n",
       "      <th>3</th>\n",
       "      <td>NaN</td>\n",
       "      <td>Ensino Fundamental I em tempo regular</td>\n",
       "      <td>Não Informado</td>\n",
       "      <td>NaN</td>\n",
       "    </tr>\n",
       "    <tr>\n",
       "      <th>4</th>\n",
       "      <td>2.800000e+03</td>\n",
       "      <td>Não Informado</td>\n",
       "      <td>Não</td>\n",
       "      <td>1.0</td>\n",
       "    </tr>\n",
       "  </tbody>\n",
       "</table>\n",
       "</div>"
      ],
      "text/plain": [
       "          V9532                                     V4801         V06111  \\\n",
       "0  1.000000e+12                             Não Informado            Não   \n",
       "1           NaN  Ensino Superior, Mestrando ou Doutorando            Sim   \n",
       "2           NaN             Ensino Médio em tempo regular            Sim   \n",
       "3           NaN     Ensino Fundamental I em tempo regular  Não Informado   \n",
       "4  2.800000e+03                             Não Informado            Não   \n",
       "\n",
       "   V06112  \n",
       "0     1.0  \n",
       "1     1.0  \n",
       "2     3.0  \n",
       "3     NaN  \n",
       "4     1.0  "
      ]
     },
     "execution_count": 45,
     "metadata": {},
     "output_type": "execute_result"
    }
   ],
   "source": [
    "dados.head()"
   ]
  },
  {
   "cell_type": "markdown",
   "metadata": {},
   "source": [
    "# __Para celular pessoal:___"
   ]
  },
  {
   "cell_type": "code",
   "execution_count": 46,
   "metadata": {},
   "outputs": [
    {
     "name": "stderr",
     "output_type": "stream",
     "text": [
      "C:\\Insper\\Anaconda3\\lib\\site-packages\\pandas\\core\\indexing.py:179: SettingWithCopyWarning: \n",
      "A value is trying to be set on a copy of a slice from a DataFrame\n",
      "\n",
      "See the caveats in the documentation: http://pandas.pydata.org/pandas-docs/stable/indexing.html#indexing-view-versus-copy\n",
      "  self._setitem_with_indexer(indexer, value)\n"
     ]
    }
   ],
   "source": [
    "dados.V06112.loc[(dados.V06112 == 1)] = 'Sim'\n",
    "dados.V06112.loc[(dados.V06112 == 3)] = 'Não'"
   ]
  },
  {
   "cell_type": "code",
   "execution_count": 47,
   "metadata": {
    "collapsed": true
   },
   "outputs": [],
   "source": [
    "dados.V06112 = dados.V06112.fillna(value = 'Não Informado')"
   ]
  },
  {
   "cell_type": "code",
   "execution_count": 48,
   "metadata": {
    "collapsed": true
   },
   "outputs": [],
   "source": [
    "dados.columns = ['Renda', 'Escolaridade', 'Internet', 'Celular']"
   ]
  },
  {
   "cell_type": "code",
   "execution_count": 49,
   "metadata": {},
   "outputs": [
    {
     "data": {
      "text/html": [
       "<div>\n",
       "<style>\n",
       "    .dataframe thead tr:only-child th {\n",
       "        text-align: right;\n",
       "    }\n",
       "\n",
       "    .dataframe thead th {\n",
       "        text-align: left;\n",
       "    }\n",
       "\n",
       "    .dataframe tbody tr th {\n",
       "        vertical-align: top;\n",
       "    }\n",
       "</style>\n",
       "<table border=\"1\" class=\"dataframe\">\n",
       "  <thead>\n",
       "    <tr style=\"text-align: right;\">\n",
       "      <th></th>\n",
       "      <th>Renda</th>\n",
       "      <th>Escolaridade</th>\n",
       "      <th>Internet</th>\n",
       "      <th>Celular</th>\n",
       "    </tr>\n",
       "  </thead>\n",
       "  <tbody>\n",
       "    <tr>\n",
       "      <th>0</th>\n",
       "      <td>1.000000e+12</td>\n",
       "      <td>Não Informado</td>\n",
       "      <td>Não</td>\n",
       "      <td>Sim</td>\n",
       "    </tr>\n",
       "    <tr>\n",
       "      <th>1</th>\n",
       "      <td>NaN</td>\n",
       "      <td>Ensino Superior, Mestrando ou Doutorando</td>\n",
       "      <td>Sim</td>\n",
       "      <td>Sim</td>\n",
       "    </tr>\n",
       "    <tr>\n",
       "      <th>2</th>\n",
       "      <td>NaN</td>\n",
       "      <td>Ensino Médio em tempo regular</td>\n",
       "      <td>Sim</td>\n",
       "      <td>Não</td>\n",
       "    </tr>\n",
       "    <tr>\n",
       "      <th>3</th>\n",
       "      <td>NaN</td>\n",
       "      <td>Ensino Fundamental I em tempo regular</td>\n",
       "      <td>Não Informado</td>\n",
       "      <td>Não Informado</td>\n",
       "    </tr>\n",
       "    <tr>\n",
       "      <th>4</th>\n",
       "      <td>2.800000e+03</td>\n",
       "      <td>Não Informado</td>\n",
       "      <td>Não</td>\n",
       "      <td>Sim</td>\n",
       "    </tr>\n",
       "  </tbody>\n",
       "</table>\n",
       "</div>"
      ],
      "text/plain": [
       "          Renda                              Escolaridade       Internet  \\\n",
       "0  1.000000e+12                             Não Informado            Não   \n",
       "1           NaN  Ensino Superior, Mestrando ou Doutorando            Sim   \n",
       "2           NaN             Ensino Médio em tempo regular            Sim   \n",
       "3           NaN     Ensino Fundamental I em tempo regular  Não Informado   \n",
       "4  2.800000e+03                             Não Informado            Não   \n",
       "\n",
       "         Celular  \n",
       "0            Sim  \n",
       "1            Sim  \n",
       "2            Não  \n",
       "3  Não Informado  \n",
       "4            Sim  "
      ]
     },
     "execution_count": 49,
     "metadata": {},
     "output_type": "execute_result"
    }
   ],
   "source": [
    "dados.head()"
   ]
  },
  {
   "cell_type": "markdown",
   "metadata": {},
   "source": [
    "# __Para Renda:__"
   ]
  },
  {
   "cell_type": "code",
   "execution_count": 50,
   "metadata": {},
   "outputs": [
    {
     "data": {
      "text/plain": [
       "0.45873860118856902"
      ]
     },
     "execution_count": 50,
     "metadata": {},
     "output_type": "execute_result"
    }
   ],
   "source": [
    "stats.percentileofscore(dados.Renda, 75)"
   ]
  },
  {
   "cell_type": "code",
   "execution_count": 51,
   "metadata": {},
   "outputs": [
    {
     "data": {
      "text/plain": [
       "count    1.573390e+05\n",
       "mean     3.795626e+10\n",
       "std      1.910911e+11\n",
       "min      1.000000e+00\n",
       "25%      5.450000e+02\n",
       "50%      8.000000e+02\n",
       "75%      1.500000e+03\n",
       "max      1.000000e+12\n",
       "Name: Renda, dtype: float64"
      ]
     },
     "execution_count": 51,
     "metadata": {},
     "output_type": "execute_result"
    }
   ],
   "source": [
    "dados.Renda.describe()"
   ]
  },
  {
   "cell_type": "markdown",
   "metadata": {},
   "source": [
    "##### Máximo valor está explícito pelo describe()"
   ]
  },
  {
   "cell_type": "code",
   "execution_count": 52,
   "metadata": {},
   "outputs": [
    {
     "name": "stdout",
     "output_type": "stream",
     "text": [
      "11.1733481526\n"
     ]
    }
   ],
   "source": [
    "step = ((2*(stats.percentileofscore(dados.Renda, 75) - stats.percentileofscore(dados.Renda, 25)))/(358918**(1/3)))*1000\n",
    "print(step)"
   ]
  },
  {
   "cell_type": "code",
   "execution_count": 53,
   "metadata": {},
   "outputs": [
    {
     "data": {
      "text/plain": [
       "'def faixas():\\n    faixa = np.arange(0, 50000, 1000)\\n    for t in faixa:\\n        if t == 49000:\\n            faixa = list(faixa)\\n            faixa.append(51e+3)\\n    return faixa\\nprint(faixas())'"
      ]
     },
     "execution_count": 53,
     "metadata": {},
     "output_type": "execute_result"
    }
   ],
   "source": [
    "\"\"\"def faixas():\n",
    "    faixa = np.arange(0, 50000, 1000)\n",
    "    for t in faixa:\n",
    "        if t == 49000:\n",
    "            faixa = list(faixa)\n",
    "            faixa.append(51e+3)\n",
    "    return faixa\n",
    "print(faixas())\"\"\""
   ]
  },
  {
   "cell_type": "code",
   "execution_count": 54,
   "metadata": {},
   "outputs": [
    {
     "name": "stdout",
     "output_type": "stream",
     "text": [
      "11.1733481526\n"
     ]
    }
   ],
   "source": [
    "faixa = np.arange(0, 50000, 1000)\n",
    "dados_renda = pd.cut(dados.Renda, bins=np.r_[faixa, np.inf], right=False)\n",
    "print(step)"
   ]
  },
  {
   "cell_type": "code",
   "execution_count": 55,
   "metadata": {},
   "outputs": [
    {
     "data": {
      "text/plain": [
       "0                 1e+12\n",
       "1         Não Informado\n",
       "2         Não Informado\n",
       "3         Não Informado\n",
       "4                  2800\n",
       "5                   545\n",
       "6         Não Informado\n",
       "7         Não Informado\n",
       "8                 1e+12\n",
       "9                    80\n",
       "10        Não Informado\n",
       "11                 3000\n",
       "12        Não Informado\n",
       "13        Não Informado\n",
       "14        Não Informado\n",
       "15        Não Informado\n",
       "16        Não Informado\n",
       "17        Não Informado\n",
       "18                 1500\n",
       "19                  900\n",
       "20                  810\n",
       "21                 1500\n",
       "22        Não Informado\n",
       "23                  700\n",
       "24        Não Informado\n",
       "25                  600\n",
       "26                 1000\n",
       "27                  545\n",
       "28                 1500\n",
       "29                 1800\n",
       "              ...      \n",
       "358889    Não Informado\n",
       "358890    Não Informado\n",
       "358891    Não Informado\n",
       "358892             4000\n",
       "358893    Não Informado\n",
       "358894    Não Informado\n",
       "358895             5000\n",
       "358896             2000\n",
       "358897             1000\n",
       "358898             8000\n",
       "358899    Não Informado\n",
       "358900            12000\n",
       "358901            15000\n",
       "358902    Não Informado\n",
       "358903            10000\n",
       "358904    Não Informado\n",
       "358905            1e+12\n",
       "358906             1000\n",
       "358907    Não Informado\n",
       "358908            19000\n",
       "358909             5000\n",
       "358910    Não Informado\n",
       "358911            16000\n",
       "358912             6000\n",
       "358913    Não Informado\n",
       "358914    Não Informado\n",
       "358915             7000\n",
       "358916             3500\n",
       "358917    Não Informado\n",
       "358918    Não Informado\n",
       "Name: Renda, Length: 358919, dtype: object"
      ]
     },
     "execution_count": 55,
     "metadata": {},
     "output_type": "execute_result"
    }
   ],
   "source": [
    "dados.Renda.fillna(value = 'Não Informado')"
   ]
  },
  {
   "cell_type": "code",
   "execution_count": 56,
   "metadata": {
    "scrolled": true
   },
   "outputs": [
    {
     "data": {
      "text/html": [
       "<div>\n",
       "<style>\n",
       "    .dataframe thead tr:only-child th {\n",
       "        text-align: right;\n",
       "    }\n",
       "\n",
       "    .dataframe thead th {\n",
       "        text-align: left;\n",
       "    }\n",
       "\n",
       "    .dataframe tbody tr th {\n",
       "        vertical-align: top;\n",
       "    }\n",
       "</style>\n",
       "<table border=\"1\" class=\"dataframe\">\n",
       "  <thead>\n",
       "    <tr style=\"text-align: right;\">\n",
       "      <th></th>\n",
       "      <th>Renda</th>\n",
       "      <th>Renda</th>\n",
       "    </tr>\n",
       "  </thead>\n",
       "  <tbody>\n",
       "    <tr>\n",
       "      <th>0</th>\n",
       "      <td>1e+12</td>\n",
       "      <td>[49000.0, inf)</td>\n",
       "    </tr>\n",
       "    <tr>\n",
       "      <th>1</th>\n",
       "      <td>NaN</td>\n",
       "      <td>NaN</td>\n",
       "    </tr>\n",
       "    <tr>\n",
       "      <th>2</th>\n",
       "      <td>NaN</td>\n",
       "      <td>NaN</td>\n",
       "    </tr>\n",
       "    <tr>\n",
       "      <th>3</th>\n",
       "      <td>NaN</td>\n",
       "      <td>NaN</td>\n",
       "    </tr>\n",
       "    <tr>\n",
       "      <th>4</th>\n",
       "      <td>2800</td>\n",
       "      <td>[2000.0, 3000.0)</td>\n",
       "    </tr>\n",
       "    <tr>\n",
       "      <th>5</th>\n",
       "      <td>545</td>\n",
       "      <td>[0.0, 1000.0)</td>\n",
       "    </tr>\n",
       "    <tr>\n",
       "      <th>6</th>\n",
       "      <td>NaN</td>\n",
       "      <td>NaN</td>\n",
       "    </tr>\n",
       "    <tr>\n",
       "      <th>7</th>\n",
       "      <td>NaN</td>\n",
       "      <td>NaN</td>\n",
       "    </tr>\n",
       "    <tr>\n",
       "      <th>8</th>\n",
       "      <td>1e+12</td>\n",
       "      <td>[49000.0, inf)</td>\n",
       "    </tr>\n",
       "    <tr>\n",
       "      <th>9</th>\n",
       "      <td>80</td>\n",
       "      <td>[0.0, 1000.0)</td>\n",
       "    </tr>\n",
       "    <tr>\n",
       "      <th>10</th>\n",
       "      <td>NaN</td>\n",
       "      <td>NaN</td>\n",
       "    </tr>\n",
       "    <tr>\n",
       "      <th>11</th>\n",
       "      <td>3000</td>\n",
       "      <td>[3000.0, 4000.0)</td>\n",
       "    </tr>\n",
       "    <tr>\n",
       "      <th>12</th>\n",
       "      <td>NaN</td>\n",
       "      <td>NaN</td>\n",
       "    </tr>\n",
       "    <tr>\n",
       "      <th>13</th>\n",
       "      <td>NaN</td>\n",
       "      <td>NaN</td>\n",
       "    </tr>\n",
       "    <tr>\n",
       "      <th>14</th>\n",
       "      <td>NaN</td>\n",
       "      <td>NaN</td>\n",
       "    </tr>\n",
       "    <tr>\n",
       "      <th>15</th>\n",
       "      <td>NaN</td>\n",
       "      <td>NaN</td>\n",
       "    </tr>\n",
       "    <tr>\n",
       "      <th>16</th>\n",
       "      <td>NaN</td>\n",
       "      <td>NaN</td>\n",
       "    </tr>\n",
       "    <tr>\n",
       "      <th>17</th>\n",
       "      <td>NaN</td>\n",
       "      <td>NaN</td>\n",
       "    </tr>\n",
       "    <tr>\n",
       "      <th>18</th>\n",
       "      <td>1500</td>\n",
       "      <td>[1000.0, 2000.0)</td>\n",
       "    </tr>\n",
       "    <tr>\n",
       "      <th>19</th>\n",
       "      <td>900</td>\n",
       "      <td>[0.0, 1000.0)</td>\n",
       "    </tr>\n",
       "    <tr>\n",
       "      <th>20</th>\n",
       "      <td>810</td>\n",
       "      <td>[0.0, 1000.0)</td>\n",
       "    </tr>\n",
       "    <tr>\n",
       "      <th>21</th>\n",
       "      <td>1500</td>\n",
       "      <td>[1000.0, 2000.0)</td>\n",
       "    </tr>\n",
       "    <tr>\n",
       "      <th>22</th>\n",
       "      <td>NaN</td>\n",
       "      <td>NaN</td>\n",
       "    </tr>\n",
       "    <tr>\n",
       "      <th>23</th>\n",
       "      <td>700</td>\n",
       "      <td>[0.0, 1000.0)</td>\n",
       "    </tr>\n",
       "    <tr>\n",
       "      <th>24</th>\n",
       "      <td>NaN</td>\n",
       "      <td>NaN</td>\n",
       "    </tr>\n",
       "    <tr>\n",
       "      <th>25</th>\n",
       "      <td>600</td>\n",
       "      <td>[0.0, 1000.0)</td>\n",
       "    </tr>\n",
       "    <tr>\n",
       "      <th>26</th>\n",
       "      <td>1000</td>\n",
       "      <td>[1000.0, 2000.0)</td>\n",
       "    </tr>\n",
       "    <tr>\n",
       "      <th>27</th>\n",
       "      <td>545</td>\n",
       "      <td>[0.0, 1000.0)</td>\n",
       "    </tr>\n",
       "    <tr>\n",
       "      <th>28</th>\n",
       "      <td>1500</td>\n",
       "      <td>[1000.0, 2000.0)</td>\n",
       "    </tr>\n",
       "    <tr>\n",
       "      <th>29</th>\n",
       "      <td>1800</td>\n",
       "      <td>[1000.0, 2000.0)</td>\n",
       "    </tr>\n",
       "    <tr>\n",
       "      <th>...</th>\n",
       "      <td>...</td>\n",
       "      <td>...</td>\n",
       "    </tr>\n",
       "    <tr>\n",
       "      <th>358889</th>\n",
       "      <td>NaN</td>\n",
       "      <td>NaN</td>\n",
       "    </tr>\n",
       "    <tr>\n",
       "      <th>358890</th>\n",
       "      <td>NaN</td>\n",
       "      <td>NaN</td>\n",
       "    </tr>\n",
       "    <tr>\n",
       "      <th>358891</th>\n",
       "      <td>NaN</td>\n",
       "      <td>NaN</td>\n",
       "    </tr>\n",
       "    <tr>\n",
       "      <th>358892</th>\n",
       "      <td>4000</td>\n",
       "      <td>[4000.0, 5000.0)</td>\n",
       "    </tr>\n",
       "    <tr>\n",
       "      <th>358893</th>\n",
       "      <td>NaN</td>\n",
       "      <td>NaN</td>\n",
       "    </tr>\n",
       "    <tr>\n",
       "      <th>358894</th>\n",
       "      <td>NaN</td>\n",
       "      <td>NaN</td>\n",
       "    </tr>\n",
       "    <tr>\n",
       "      <th>358895</th>\n",
       "      <td>5000</td>\n",
       "      <td>[5000.0, 6000.0)</td>\n",
       "    </tr>\n",
       "    <tr>\n",
       "      <th>358896</th>\n",
       "      <td>2000</td>\n",
       "      <td>[2000.0, 3000.0)</td>\n",
       "    </tr>\n",
       "    <tr>\n",
       "      <th>358897</th>\n",
       "      <td>1000</td>\n",
       "      <td>[1000.0, 2000.0)</td>\n",
       "    </tr>\n",
       "    <tr>\n",
       "      <th>358898</th>\n",
       "      <td>8000</td>\n",
       "      <td>[8000.0, 9000.0)</td>\n",
       "    </tr>\n",
       "    <tr>\n",
       "      <th>358899</th>\n",
       "      <td>NaN</td>\n",
       "      <td>NaN</td>\n",
       "    </tr>\n",
       "    <tr>\n",
       "      <th>358900</th>\n",
       "      <td>12000</td>\n",
       "      <td>[12000.0, 13000.0)</td>\n",
       "    </tr>\n",
       "    <tr>\n",
       "      <th>358901</th>\n",
       "      <td>15000</td>\n",
       "      <td>[15000.0, 16000.0)</td>\n",
       "    </tr>\n",
       "    <tr>\n",
       "      <th>358902</th>\n",
       "      <td>NaN</td>\n",
       "      <td>NaN</td>\n",
       "    </tr>\n",
       "    <tr>\n",
       "      <th>358903</th>\n",
       "      <td>10000</td>\n",
       "      <td>[10000.0, 11000.0)</td>\n",
       "    </tr>\n",
       "    <tr>\n",
       "      <th>358904</th>\n",
       "      <td>NaN</td>\n",
       "      <td>NaN</td>\n",
       "    </tr>\n",
       "    <tr>\n",
       "      <th>358905</th>\n",
       "      <td>1e+12</td>\n",
       "      <td>[49000.0, inf)</td>\n",
       "    </tr>\n",
       "    <tr>\n",
       "      <th>358906</th>\n",
       "      <td>1000</td>\n",
       "      <td>[1000.0, 2000.0)</td>\n",
       "    </tr>\n",
       "    <tr>\n",
       "      <th>358907</th>\n",
       "      <td>NaN</td>\n",
       "      <td>NaN</td>\n",
       "    </tr>\n",
       "    <tr>\n",
       "      <th>358908</th>\n",
       "      <td>19000</td>\n",
       "      <td>[19000.0, 20000.0)</td>\n",
       "    </tr>\n",
       "    <tr>\n",
       "      <th>358909</th>\n",
       "      <td>5000</td>\n",
       "      <td>[5000.0, 6000.0)</td>\n",
       "    </tr>\n",
       "    <tr>\n",
       "      <th>358910</th>\n",
       "      <td>NaN</td>\n",
       "      <td>NaN</td>\n",
       "    </tr>\n",
       "    <tr>\n",
       "      <th>358911</th>\n",
       "      <td>16000</td>\n",
       "      <td>[16000.0, 17000.0)</td>\n",
       "    </tr>\n",
       "    <tr>\n",
       "      <th>358912</th>\n",
       "      <td>6000</td>\n",
       "      <td>[6000.0, 7000.0)</td>\n",
       "    </tr>\n",
       "    <tr>\n",
       "      <th>358913</th>\n",
       "      <td>NaN</td>\n",
       "      <td>NaN</td>\n",
       "    </tr>\n",
       "    <tr>\n",
       "      <th>358914</th>\n",
       "      <td>NaN</td>\n",
       "      <td>NaN</td>\n",
       "    </tr>\n",
       "    <tr>\n",
       "      <th>358915</th>\n",
       "      <td>7000</td>\n",
       "      <td>[7000.0, 8000.0)</td>\n",
       "    </tr>\n",
       "    <tr>\n",
       "      <th>358916</th>\n",
       "      <td>3500</td>\n",
       "      <td>[3000.0, 4000.0)</td>\n",
       "    </tr>\n",
       "    <tr>\n",
       "      <th>358917</th>\n",
       "      <td>NaN</td>\n",
       "      <td>NaN</td>\n",
       "    </tr>\n",
       "    <tr>\n",
       "      <th>358918</th>\n",
       "      <td>NaN</td>\n",
       "      <td>NaN</td>\n",
       "    </tr>\n",
       "  </tbody>\n",
       "</table>\n",
       "<p>358919 rows × 2 columns</p>\n",
       "</div>"
      ],
      "text/plain": [
       "        Renda               Renda\n",
       "0       1e+12      [49000.0, inf)\n",
       "1         NaN                 NaN\n",
       "2         NaN                 NaN\n",
       "3         NaN                 NaN\n",
       "4        2800    [2000.0, 3000.0)\n",
       "5         545       [0.0, 1000.0)\n",
       "6         NaN                 NaN\n",
       "7         NaN                 NaN\n",
       "8       1e+12      [49000.0, inf)\n",
       "9          80       [0.0, 1000.0)\n",
       "10        NaN                 NaN\n",
       "11       3000    [3000.0, 4000.0)\n",
       "12        NaN                 NaN\n",
       "13        NaN                 NaN\n",
       "14        NaN                 NaN\n",
       "15        NaN                 NaN\n",
       "16        NaN                 NaN\n",
       "17        NaN                 NaN\n",
       "18       1500    [1000.0, 2000.0)\n",
       "19        900       [0.0, 1000.0)\n",
       "20        810       [0.0, 1000.0)\n",
       "21       1500    [1000.0, 2000.0)\n",
       "22        NaN                 NaN\n",
       "23        700       [0.0, 1000.0)\n",
       "24        NaN                 NaN\n",
       "25        600       [0.0, 1000.0)\n",
       "26       1000    [1000.0, 2000.0)\n",
       "27        545       [0.0, 1000.0)\n",
       "28       1500    [1000.0, 2000.0)\n",
       "29       1800    [1000.0, 2000.0)\n",
       "...       ...                 ...\n",
       "358889    NaN                 NaN\n",
       "358890    NaN                 NaN\n",
       "358891    NaN                 NaN\n",
       "358892   4000    [4000.0, 5000.0)\n",
       "358893    NaN                 NaN\n",
       "358894    NaN                 NaN\n",
       "358895   5000    [5000.0, 6000.0)\n",
       "358896   2000    [2000.0, 3000.0)\n",
       "358897   1000    [1000.0, 2000.0)\n",
       "358898   8000    [8000.0, 9000.0)\n",
       "358899    NaN                 NaN\n",
       "358900  12000  [12000.0, 13000.0)\n",
       "358901  15000  [15000.0, 16000.0)\n",
       "358902    NaN                 NaN\n",
       "358903  10000  [10000.0, 11000.0)\n",
       "358904    NaN                 NaN\n",
       "358905  1e+12      [49000.0, inf)\n",
       "358906   1000    [1000.0, 2000.0)\n",
       "358907    NaN                 NaN\n",
       "358908  19000  [19000.0, 20000.0)\n",
       "358909   5000    [5000.0, 6000.0)\n",
       "358910    NaN                 NaN\n",
       "358911  16000  [16000.0, 17000.0)\n",
       "358912   6000    [6000.0, 7000.0)\n",
       "358913    NaN                 NaN\n",
       "358914    NaN                 NaN\n",
       "358915   7000    [7000.0, 8000.0)\n",
       "358916   3500    [3000.0, 4000.0)\n",
       "358917    NaN                 NaN\n",
       "358918    NaN                 NaN\n",
       "\n",
       "[358919 rows x 2 columns]"
      ]
     },
     "execution_count": 56,
     "metadata": {},
     "output_type": "execute_result"
    }
   ],
   "source": [
    "pd.DataFrame([dados.Renda, dados_renda]).T"
   ]
  },
  {
   "cell_type": "code",
   "execution_count": null,
   "metadata": {
    "collapsed": true
   },
   "outputs": [],
   "source": []
  }
 ],
 "metadata": {
  "kernelspec": {
   "display_name": "Python 3",
   "language": "python",
   "name": "python3"
  },
  "language_info": {
   "codemirror_mode": {
    "name": "ipython",
    "version": 3
   },
   "file_extension": ".py",
   "mimetype": "text/x-python",
   "name": "python",
   "nbconvert_exporter": "python",
   "pygments_lexer": "ipython3",
   "version": "3.6.1"
  }
 },
 "nbformat": 4,
 "nbformat_minor": 2
}
