{
 "cells": [
  {
   "cell_type": "markdown",
   "metadata": {},
   "source": [
    "# _COMO O ACESSO A ESCOLARIDADE INFLUENCIA O INDIVÍDUO A MANTER-SE CONECTADO?_"
   ]
  },
  {
   "cell_type": "markdown",
   "metadata": {},
   "source": [
    "__Bibliotecas importadas:__"
   ]
  },
  {
   "cell_type": "code",
   "execution_count": null,
   "metadata": {
    "collapsed": true
   },
   "outputs": [],
   "source": [
    "%matplotlib inline\n",
    "import matplotlib.pyplot as plt\n",
    "import matplotlib\n",
    "import pandas as pd\n",
    "import numpy as np\n",
    "from math import *\n",
    "from scipy import stats"
   ]
  },
  {
   "cell_type": "markdown",
   "metadata": {},
   "source": [
    "__Checando o diretório:__"
   ]
  },
  {
   "cell_type": "code",
   "execution_count": null,
   "metadata": {},
   "outputs": [],
   "source": [
    "import os\n",
    "print('Esperamos trabalhar no diretório')\n",
    "print(os.getcwd())"
   ]
  },
  {
   "cell_type": "markdown",
   "metadata": {},
   "source": [
    "__Lendo o arquivo PES:__"
   ]
  },
  {
   "cell_type": "code",
   "execution_count": null,
   "metadata": {
    "collapsed": true
   },
   "outputs": [],
   "source": [
    "dados = pd.read_csv('../../Excels/PNAD2011/PES2011.csv')"
   ]
  },
  {
   "cell_type": "code",
   "execution_count": null,
   "metadata": {
    "collapsed": true
   },
   "outputs": [],
   "source": [
    "dados2 = pd.read_csv('../../Excels/PNAD2015/PES2015.csv')"
   ]
  },
  {
   "cell_type": "markdown",
   "metadata": {},
   "source": [
    "Selecionando colunas:"
   ]
  },
  {
   "cell_type": "code",
   "execution_count": null,
   "metadata": {},
   "outputs": [],
   "source": [
    "dados = dados.loc[:, ['V9532', 'V4801', 'V06111', 'V06112']]\n",
    "dados.tail()"
   ]
  },
  {
   "cell_type": "code",
   "execution_count": null,
   "metadata": {},
   "outputs": [],
   "source": [
    "dados2 = dados2.loc[:, ['V9532', 'V4801', 'V06111', 'V06112']]\n",
    "dados2.tail()"
   ]
  },
  {
   "cell_type": "markdown",
   "metadata": {},
   "source": [
    "__Removendo outliers da coluna Renda__"
   ]
  },
  {
   "cell_type": "code",
   "execution_count": null,
   "metadata": {},
   "outputs": [],
   "source": [
    "dados.V9532.loc[(dados.V9532 >= 50000)] = 0\n",
    "dados.V9532.describe()"
   ]
  },
  {
   "cell_type": "code",
   "execution_count": null,
   "metadata": {
    "scrolled": true
   },
   "outputs": [],
   "source": [
    "dados2.V9532.loc[(dados2.V9532 >= 50000)] = 0\n",
    "dados2.V9532.describe()"
   ]
  },
  {
   "cell_type": "markdown",
   "metadata": {},
   "source": [
    "#  __Para escolaridade:__"
   ]
  },
  {
   "cell_type": "markdown",
   "metadata": {},
   "source": [
    "__Escolaridade é a variável categórica ordinal com maior número de categorias. \n",
    "Várias células serão utilizadas em sequência.__"
   ]
  },
  {
   "cell_type": "code",
   "execution_count": null,
   "metadata": {
    "collapsed": true
   },
   "outputs": [],
   "source": [
    "dados.V4801.loc[(dados.V4801 == 1) | (dados.V4801 == 2)] = 1#'Em alfabetização'"
   ]
  },
  {
   "cell_type": "code",
   "execution_count": null,
   "metadata": {
    "collapsed": true
   },
   "outputs": [],
   "source": [
    "dados.V4801.loc[(dados.V4801 == 3) | (dados.V4801 == 21)] = 2#'Jovens e Adultos em alfabetização ou cursando Ensino Fundamental'"
   ]
  },
  {
   "cell_type": "code",
   "execution_count": null,
   "metadata": {
    "collapsed": true,
    "scrolled": true
   },
   "outputs": [],
   "source": [
    "dados.V4801.loc[(dados.V4801 == 23)] = 3#'Jovens e Adultos cursando Ensino Médio'"
   ]
  },
  {
   "cell_type": "code",
   "execution_count": null,
   "metadata": {
    "collapsed": true,
    "scrolled": true
   },
   "outputs": [],
   "source": [
    "dados.V4801.loc[(dados.V4801 == 4) | (dados.V4801 == 5) | (dados.V4801 == 6) | (dados.V4801 == 7) | (dados.V4801 == 12) | (dados.V4801 == 13) | (dados.V4801 == 14) | (dados.V4801 == 15)] = 4#'Ensino Fundamental I em tempo regular'"
   ]
  },
  {
   "cell_type": "code",
   "execution_count": null,
   "metadata": {
    "collapsed": true,
    "scrolled": true
   },
   "outputs": [],
   "source": [
    "dados.V4801.loc[(dados.V4801 == 8) | (dados.V4801 == 9) | (dados.V4801 == 10) | (dados.V4801 == 11) | (dados.V4801 == 16) | (dados.V4801 == 17) | (dados.V4801 == 18) | (dados.V4801 == 19) | (dados.V4801 == 20)] = 5#'Ensino Fundamental I em tempo regular'"
   ]
  },
  {
   "cell_type": "code",
   "execution_count": null,
   "metadata": {
    "collapsed": true,
    "scrolled": true
   },
   "outputs": [],
   "source": [
    "dados.V4801.loc[(dados.V4801 == 22)] = 6#'Ensino Médio em tempo regular'"
   ]
  },
  {
   "cell_type": "code",
   "execution_count": null,
   "metadata": {
    "collapsed": true,
    "scrolled": true
   },
   "outputs": [],
   "source": [
    "dados.V4801.loc[(dados.V4801 == 24)] = 7#'Pré-Vestibulando'"
   ]
  },
  {
   "cell_type": "code",
   "execution_count": null,
   "metadata": {
    "collapsed": true,
    "scrolled": true
   },
   "outputs": [],
   "source": [
    "dados.V4801.loc[(dados.V4801 == 25)] = 8#'Ensino Superior, Mestrando ou Doutorando'"
   ]
  },
  {
   "cell_type": "markdown",
   "metadata": {},
   "source": [
    "## Agora para 2015:"
   ]
  },
  {
   "cell_type": "code",
   "execution_count": null,
   "metadata": {
    "collapsed": true
   },
   "outputs": [],
   "source": [
    "dados2.V4801.loc[(dados2.V4801 == 1) | (dados2.V4801 == 2)] = 'Em alfabetização'"
   ]
  },
  {
   "cell_type": "code",
   "execution_count": null,
   "metadata": {},
   "outputs": [],
   "source": [
    "dados2.V4801.loc[(dados2.V4801 == 3) | (dados2.V4801 == 21)] = 'Jovens e Adultos em alfabetização ou cursando Ensino Fundamental'"
   ]
  },
  {
   "cell_type": "code",
   "execution_count": null,
   "metadata": {
    "scrolled": true
   },
   "outputs": [],
   "source": [
    "dados2.V4801.loc[(dados2.V4801 == 23)] = 'Jovens e Adultos cursando Ensino Médio'"
   ]
  },
  {
   "cell_type": "code",
   "execution_count": null,
   "metadata": {
    "scrolled": true
   },
   "outputs": [],
   "source": [
    "dados2.V4801.loc[(dados2.V4801 == 4) | (dados2.V4801 == 5) | (dados2.V4801 == 6) | (dados2.V4801 == 7) | (dados2.V4801 == 12) | (dados2.V4801 == 13) | (dados2.V4801 == 14) | (dados2.V4801 == 15)] = 'Ensino Fundamental I em tempo regular'"
   ]
  },
  {
   "cell_type": "code",
   "execution_count": null,
   "metadata": {
    "scrolled": true
   },
   "outputs": [],
   "source": [
    "dados2.V4801.loc[(dados2.V4801 == 8) | (dados2.V4801 == 9) | (dados2.V4801 == 10) | (dados2.V4801 == 11) | (dados2.V4801 == 16) | (dados2.V4801 == 17) | (dados2.V4801 == 18) | (dados2.V4801 == 19) | (dados2.V4801 == 20)] = 'Ensino Fundamental I em tempo regular'"
   ]
  },
  {
   "cell_type": "code",
   "execution_count": null,
   "metadata": {
    "scrolled": true
   },
   "outputs": [],
   "source": [
    "dados2.V4801.loc[(dados2.V4801 == 22)] = 'Ensino Médio em tempo regular'"
   ]
  },
  {
   "cell_type": "code",
   "execution_count": null,
   "metadata": {
    "scrolled": true
   },
   "outputs": [],
   "source": [
    "dados2.V4801.loc[(dados2.V4801 == 24)] = 'Pré-Vestibulando'"
   ]
  },
  {
   "cell_type": "code",
   "execution_count": null,
   "metadata": {
    "scrolled": true
   },
   "outputs": [],
   "source": [
    "dados2.V4801.loc[(dados2.V4801 == 25)] = 'Ensino Superior, Mestrando ou Doutorando'"
   ]
  },
  {
   "cell_type": "markdown",
   "metadata": {},
   "source": [
    "__Tratando NaN usando o método__ `.fillna()`"
   ]
  },
  {
   "cell_type": "code",
   "execution_count": null,
   "metadata": {
    "collapsed": true
   },
   "outputs": [],
   "source": [
    "dados.V4801 = dados.V4801.fillna(value = 0)#'Não Informado')\n",
    "dados2.V4801 = dados2.V4801.fillna(value = 'Não Informado')"
   ]
  },
  {
   "cell_type": "markdown",
   "metadata": {},
   "source": [
    "__Checando resultados:__"
   ]
  },
  {
   "cell_type": "code",
   "execution_count": null,
   "metadata": {},
   "outputs": [],
   "source": [
    "dados.head()"
   ]
  },
  {
   "cell_type": "code",
   "execution_count": null,
   "metadata": {
    "scrolled": true
   },
   "outputs": [],
   "source": [
    "dados2.head()"
   ]
  },
  {
   "cell_type": "code",
   "execution_count": null,
   "metadata": {
    "scrolled": true
   },
   "outputs": [],
   "source": [
    "a = dados.V4801.value_counts(normalize = 1)\n",
    "a.plot(kind='bar', color=('blue', 'red'), legend=False)"
   ]
  },
  {
   "cell_type": "code",
   "execution_count": null,
   "metadata": {},
   "outputs": [],
   "source": [
    "b = dados2.V4801.value_counts(normalize = 1)\n",
    "b.plot(kind='bar', color=('blue', 'red'), legend=False)"
   ]
  },
  {
   "cell_type": "markdown",
   "metadata": {},
   "source": [
    "# __Para Internet__:"
   ]
  },
  {
   "cell_type": "markdown",
   "metadata": {},
   "source": [
    "__Atribuindo valores categóricos:__"
   ]
  },
  {
   "cell_type": "code",
   "execution_count": null,
   "metadata": {},
   "outputs": [],
   "source": [
    "dados.V06111.loc[(dados.V06111 == 1)] = 'Sim'\n",
    "dados.V06111.loc[(dados.V06111 == 3)] = 'Não'"
   ]
  },
  {
   "cell_type": "markdown",
   "metadata": {},
   "source": [
    "## Agora para 2015"
   ]
  },
  {
   "cell_type": "code",
   "execution_count": null,
   "metadata": {},
   "outputs": [],
   "source": [
    "dados2.V06111.loc[(dados2.V06111 == 1)] = 'Sim'\n",
    "dados2.V06111.loc[(dados2.V06111 == 3)] = 'Não'"
   ]
  },
  {
   "cell_type": "markdown",
   "metadata": {},
   "source": [
    "__Tratando NaN usando o método__ `.fillna()`"
   ]
  },
  {
   "cell_type": "code",
   "execution_count": null,
   "metadata": {
    "collapsed": true
   },
   "outputs": [],
   "source": [
    "dados.V06111 = dados.V06111.fillna(value = 'Não Informado')"
   ]
  },
  {
   "cell_type": "code",
   "execution_count": null,
   "metadata": {
    "collapsed": true
   },
   "outputs": [],
   "source": [
    "dados2.V06111 = dados2.V06111.fillna(value = 'Não Informado')"
   ]
  },
  {
   "cell_type": "markdown",
   "metadata": {},
   "source": [
    "__Checando resultados:__"
   ]
  },
  {
   "cell_type": "code",
   "execution_count": null,
   "metadata": {},
   "outputs": [],
   "source": [
    "dados.head()"
   ]
  },
  {
   "cell_type": "code",
   "execution_count": null,
   "metadata": {},
   "outputs": [],
   "source": [
    "dados2.head()"
   ]
  },
  {
   "cell_type": "code",
   "execution_count": null,
   "metadata": {},
   "outputs": [],
   "source": [
    "c = dados.V06111.value_counts(normalize = 1)\n",
    "c.plot(kind='pie', autopct=\"%0.2f\")\n",
    "plt.title('Acesso a Internet nos últimos 3 meses em 2011')"
   ]
  },
  {
   "cell_type": "code",
   "execution_count": null,
   "metadata": {
    "collapsed": true
   },
   "outputs": [],
   "source": []
  },
  {
   "cell_type": "code",
   "execution_count": null,
   "metadata": {},
   "outputs": [],
   "source": [
    "d = dados2.V06111.value_counts(normalize = 1)\n",
    "d.plot(kind='bar')\n",
    "#plt.xlim([0,1])\n",
    "plt.grid()\n",
    "plt.title('Acesso a Internet nos últimos 3 meses em 2015')\n",
    "#, autopct=\"%0.2f\""
   ]
  },
  {
   "cell_type": "markdown",
   "metadata": {},
   "source": [
    "# __Para celular pessoal:__"
   ]
  },
  {
   "cell_type": "markdown",
   "metadata": {},
   "source": [
    "__Atribuindo valores categóricos:__"
   ]
  },
  {
   "cell_type": "code",
   "execution_count": null,
   "metadata": {},
   "outputs": [],
   "source": [
    "dados.V06112.loc[(dados.V06112 == 1)] = 'Sim'\n",
    "dados.V06112.loc[(dados.V06112 == 3)] = 'Não'"
   ]
  },
  {
   "cell_type": "code",
   "execution_count": null,
   "metadata": {},
   "outputs": [],
   "source": [
    "dados2.V06112.loc[(dados2.V06112 == 1)] = 'Sim'\n",
    "dados2.V06112.loc[(dados2.V06112 == 3)] = 'Não'"
   ]
  },
  {
   "cell_type": "markdown",
   "metadata": {},
   "source": [
    "__Tratando NaN usando o método__ `.fillna()`"
   ]
  },
  {
   "cell_type": "code",
   "execution_count": null,
   "metadata": {
    "collapsed": true
   },
   "outputs": [],
   "source": [
    "dados.V06112 = dados.V06112.fillna(value = 'Não Informado')"
   ]
  },
  {
   "cell_type": "code",
   "execution_count": null,
   "metadata": {
    "collapsed": true
   },
   "outputs": [],
   "source": [
    "dados2.V06112 = dados2.V06112.fillna(value = 'Não Informado')"
   ]
  },
  {
   "cell_type": "markdown",
   "metadata": {},
   "source": [
    "__Checando a base de dados para Celular em 2011:__"
   ]
  },
  {
   "cell_type": "code",
   "execution_count": null,
   "metadata": {},
   "outputs": [],
   "source": [
    "e = dados.V06112.value_counts(normalize = 1)\n",
    "e.plot(kind='pie',  legend=False, autopct=\"%0.2f\")"
   ]
  },
  {
   "cell_type": "markdown",
   "metadata": {},
   "source": [
    "__Agora para 2015:__"
   ]
  },
  {
   "cell_type": "code",
   "execution_count": null,
   "metadata": {},
   "outputs": [],
   "source": [
    "f = dados2.V06111.value_counts(normalize = 1)\n",
    "f.plot(kind='pie',  legend=False, autopct=\"%0.2f\")"
   ]
  },
  {
   "cell_type": "markdown",
   "metadata": {},
   "source": [
    "# Renomeando colunas:"
   ]
  },
  {
   "cell_type": "code",
   "execution_count": null,
   "metadata": {
    "collapsed": true
   },
   "outputs": [],
   "source": [
    "dados.columns = ['Renda11', 'Escolaridade11', 'Internet11', 'Celular11']"
   ]
  },
  {
   "cell_type": "code",
   "execution_count": null,
   "metadata": {
    "collapsed": true
   },
   "outputs": [],
   "source": [
    "dados2.columns = ['Renda15', 'Escolaridade15', 'Internet15', 'Celular15']"
   ]
  },
  {
   "cell_type": "code",
   "execution_count": null,
   "metadata": {},
   "outputs": [],
   "source": [
    "dados.head()"
   ]
  },
  {
   "cell_type": "code",
   "execution_count": null,
   "metadata": {},
   "outputs": [],
   "source": [
    "dados2.head()"
   ]
  },
  {
   "cell_type": "markdown",
   "metadata": {},
   "source": [
    "# __Para Renda: SEPARAR EM SALÁRIOS MÍNIMON__"
   ]
  },
  {
   "cell_type": "code",
   "execution_count": null,
   "metadata": {},
   "outputs": [],
   "source": [
    "dados.Renda11.describe()"
   ]
  },
  {
   "cell_type": "markdown",
   "metadata": {},
   "source": [
    "##### Máximo e máximo valor está explícito pelo describe()"
   ]
  },
  {
   "cell_type": "markdown",
   "metadata": {},
   "source": [
    "#### Criando faixas de Renda:"
   ]
  },
  {
   "cell_type": "code",
   "execution_count": null,
   "metadata": {},
   "outputs": [],
   "source": [
    "step = ((2*(stats.percentileofscore(dados.Renda11, 75) - stats.percentileofscore(dados.Renda11, 25)))/(358918**(1/3)))*1000\n",
    "print(step)"
   ]
  },
  {
   "cell_type": "code",
   "execution_count": null,
   "metadata": {},
   "outputs": [],
   "source": [
    "step2 = ((2*(stats.percentileofscore(dados2.Renda15, 75) - stats.percentileofscore(dados2.Renda15, 25)))/(358918**(1/3)))*1000\n",
    "print(step)"
   ]
  },
  {
   "cell_type": "markdown",
   "metadata": {},
   "source": [
    "Tomando uso do `.fillna`"
   ]
  },
  {
   "cell_type": "code",
   "execution_count": null,
   "metadata": {},
   "outputs": [],
   "source": [
    "dados.Renda11.fillna(value = 'Não Informado')\n",
    "print('')"
   ]
  },
  {
   "cell_type": "code",
   "execution_count": null,
   "metadata": {},
   "outputs": [],
   "source": [
    "dados2.Renda15.fillna(value = 'Não Informado')\n",
    "print('')"
   ]
  },
  {
   "cell_type": "markdown",
   "metadata": {},
   "source": [
    "__Usando__ `boxplot` __e__ `histograma` __para checar a base de dados em 2011, depois para 2015:__"
   ]
  },
  {
   "cell_type": "code",
   "execution_count": null,
   "metadata": {},
   "outputs": [],
   "source": [
    "dados.Renda11.plot.box()"
   ]
  },
  {
   "cell_type": "code",
   "execution_count": null,
   "metadata": {},
   "outputs": [],
   "source": [
    "dados2.Renda15.plot.box()"
   ]
  },
  {
   "cell_type": "markdown",
   "metadata": {},
   "source": [
    "### Vamos subdividir o grupo de renda em grupos menores usando o método `loc`"
   ]
  },
  {
   "cell_type": "code",
   "execution_count": null,
   "metadata": {
    "collapsed": true
   },
   "outputs": [],
   "source": [
    "faixa1 = np.arange(0, 1000, 50)\n",
    "grupo1_renda11 = dados.Renda11.loc[(dados.Renda11 > 1) & (dados.Renda11 < 1000)]\n",
    "grupo1_renda15 = dados2.Renda15.loc[(dados2.Renda15 > 1) & (dados2.Renda15 < 1000)]"
   ]
  },
  {
   "cell_type": "code",
   "execution_count": null,
   "metadata": {
    "collapsed": true
   },
   "outputs": [],
   "source": [
    "def qcut (t, fx):\n",
    "    transformacao = pd.cut(t, bins=np.r_[fx, np.inf], right=False)\n",
    "    return transformacao"
   ]
  },
  {
   "cell_type": "code",
   "execution_count": null,
   "metadata": {
    "collapsed": true
   },
   "outputs": [],
   "source": [
    "faixa2 = np.arange(1000, 2000, 50)\n",
    "grupo2_renda11 = dados.Renda11.loc[(dados.Renda11 > 1000) & (dados.Renda11 <= 2000)]\n",
    "grupo2_renda15 = dados2.Renda15.loc[(dados2.Renda15 > 1000) & (dados2.Renda15 <= 2000)]"
   ]
  },
  {
   "cell_type": "code",
   "execution_count": null,
   "metadata": {
    "collapsed": true
   },
   "outputs": [],
   "source": [
    "faixa3 = np.arange(2000, 3000, 50)\n",
    "grupo3_renda11 = dados.Renda11.loc[(dados.Renda11 > 2000) & (dados.Renda11 <= 3000)]\n",
    "grupo3_renda15 = dados2.Renda15.loc[(dados2.Renda15 > 2000) & (dados2.Renda15 <= 3000)]"
   ]
  },
  {
   "cell_type": "code",
   "execution_count": null,
   "metadata": {
    "collapsed": true
   },
   "outputs": [],
   "source": [
    "faixa4 = np.arange(3000, 4000, 50)\n",
    "grupo4_renda11 = dados.Renda11.loc[(dados.Renda11 > 3000) & (dados.Renda11 <= 4000)]\n",
    "grupo4_renda15 = dados2.Renda15.loc[(dados2.Renda15 > 3000) & (dados2.Renda15 <= 4000)]"
   ]
  },
  {
   "cell_type": "code",
   "execution_count": null,
   "metadata": {
    "collapsed": true
   },
   "outputs": [],
   "source": [
    "faixa5 = np.arange(4000, 5000, 50)\n",
    "grupo5_renda11 = dados.Renda11.loc[(dados.Renda11 > 4000) & (dados.Renda11 <= 5000)]\n",
    "grupo5_renda15 = dados2.Renda15.loc[(dados2.Renda15 > 4000) & (dados2.Renda15 <= 5000)]"
   ]
  },
  {
   "cell_type": "code",
   "execution_count": null,
   "metadata": {
    "collapsed": true
   },
   "outputs": [],
   "source": [
    "faixa6 = np.arange(5000, 6000, 50)\n",
    "grupo6_renda11 = dados.Renda11.loc[(dados.Renda11 > 5000) & (dados.Renda11 <= 6000)]\n",
    "grupo6_renda15 = dados2.Renda15.loc[(dados2.Renda15 > 5000) & (dados2.Renda15 <= 6000)]"
   ]
  },
  {
   "cell_type": "code",
   "execution_count": null,
   "metadata": {
    "collapsed": true
   },
   "outputs": [],
   "source": [
    "faixa7 = np.arange(6000, 7000, 50)\n",
    "grupo7_renda11 = dados.Renda11.loc[(dados.Renda11 > 6000) & (dados.Renda11 <= 7000)]\n",
    "grupo7_renda15 = dados2.Renda15.loc[(dados2.Renda15 > 6000) & (dados2.Renda15 <= 7000)]"
   ]
  },
  {
   "cell_type": "code",
   "execution_count": null,
   "metadata": {
    "collapsed": true
   },
   "outputs": [],
   "source": [
    "faixa8 = np.arange(7000, 8000, 50)\n",
    "grupo8_renda11 = dados.Renda11.loc[(dados.Renda11 > 7000) & (dados.Renda11 <= 8000)]\n",
    "grupo8_renda15 = dados2.Renda15.loc[(dados2.Renda15 > 7000) & (dados2.Renda15 <= 8000)]"
   ]
  },
  {
   "cell_type": "code",
   "execution_count": null,
   "metadata": {
    "collapsed": true
   },
   "outputs": [],
   "source": [
    "faixa9 = np.arange(8000, 9000, 50)\n",
    "grupo9_renda11 = dados.Renda11.loc[(dados.Renda11 > 8000) & (dados.Renda11 <= 9000)]\n",
    "grupo9_renda15 = dados2.Renda15.loc[(dados2.Renda15 > 8000) & (dados2.Renda15 <= 9000)]"
   ]
  },
  {
   "cell_type": "code",
   "execution_count": null,
   "metadata": {
    "collapsed": true
   },
   "outputs": [],
   "source": [
    "faixa10 = np.arange(9000, 10000, 50)\n",
    "grupo10_renda11 = dados.Renda11.loc[(dados.Renda11 > 9000) & (dados.Renda11 <= 10000)]\n",
    "grupo10_renda15 = dados2.Renda15.loc[(dados2.Renda15 > 9000) & (dados2.Renda15 <= 10000)]"
   ]
  },
  {
   "cell_type": "code",
   "execution_count": null,
   "metadata": {
    "collapsed": true
   },
   "outputs": [],
   "source": [
    "faixaL = np.arange(10000, 30000, 500)\n",
    "grupoL_renda11 = dados.Renda11.loc[(dados.Renda11 > 10000) & (dados.Renda11 <= 30000)]\n",
    "grupoL_renda15 = dados2.Renda15.loc[(dados2.Renda15 > 10000) & (dados2.Renda15 <= 30000)]"
   ]
  },
  {
   "cell_type": "markdown",
   "metadata": {},
   "source": [
    "# Criando faixas com `qcut` para cada grupo de renda:"
   ]
  },
  {
   "cell_type": "code",
   "execution_count": null,
   "metadata": {
    "collapsed": true
   },
   "outputs": [],
   "source": [
    "um_renda11 = qcut(grupo1_renda11, faixa1)\n",
    "um_renda15 = qcut(grupo1_renda15, faixa1)"
   ]
  },
  {
   "cell_type": "code",
   "execution_count": null,
   "metadata": {
    "collapsed": true
   },
   "outputs": [],
   "source": [
    "dois_renda11 = qcut(grupo2_renda11, faixa2)\n",
    "dois_renda15 = qcut(grupo2_renda15, faixa2)"
   ]
  },
  {
   "cell_type": "code",
   "execution_count": null,
   "metadata": {
    "collapsed": true
   },
   "outputs": [],
   "source": [
    "tres_renda11 = qcut(grupo3_renda11, faixa3)\n",
    "tres_renda15 = qcut(grupo3_renda15, faixa3)"
   ]
  },
  {
   "cell_type": "code",
   "execution_count": null,
   "metadata": {
    "collapsed": true
   },
   "outputs": [],
   "source": [
    "quatro_renda11 = qcut(grupo4_renda11, faixa4)\n",
    "quatro_renda15 = qcut(grupo4_renda15, faixa4)"
   ]
  },
  {
   "cell_type": "code",
   "execution_count": null,
   "metadata": {
    "collapsed": true
   },
   "outputs": [],
   "source": [
    "cinco_renda11 = qcut(grupo5_renda11, faixa5)\n",
    "cinco_renda15 = qcut(grupo5_renda15, faixa5)"
   ]
  },
  {
   "cell_type": "code",
   "execution_count": null,
   "metadata": {
    "collapsed": true
   },
   "outputs": [],
   "source": [
    "seis_renda11 = qcut(grupo6_renda11, faixa6)\n",
    "seis_renda15 = qcut(grupo6_renda15, faixa6)"
   ]
  },
  {
   "cell_type": "code",
   "execution_count": null,
   "metadata": {
    "collapsed": true
   },
   "outputs": [],
   "source": [
    "sete_renda11 = qcut(grupo7_renda15, faixa7)\n",
    "sete_renda15 = qcut(grupo7_renda15, faixa7)"
   ]
  },
  {
   "cell_type": "code",
   "execution_count": null,
   "metadata": {
    "collapsed": true
   },
   "outputs": [],
   "source": [
    "oito_renda11 = qcut(grupo8_renda11, faixa8)\n",
    "oito_renda15 = qcut(grupo8_renda15, faixa8)"
   ]
  },
  {
   "cell_type": "code",
   "execution_count": null,
   "metadata": {
    "collapsed": true
   },
   "outputs": [],
   "source": [
    "nove_renda11 = qcut(grupo9_renda11, faixa9)\n",
    "nove_renda15 = qcut(grupo9_renda15, faixa9)"
   ]
  },
  {
   "cell_type": "code",
   "execution_count": null,
   "metadata": {
    "collapsed": true
   },
   "outputs": [],
   "source": [
    "dez_renda11 = qcut(grupo10_renda11, faixa10)\n",
    "dez_renda15 = qcut(grupo10_renda15, faixa10)"
   ]
  },
  {
   "cell_type": "code",
   "execution_count": null,
   "metadata": {
    "collapsed": true
   },
   "outputs": [],
   "source": [
    "large_renda11 = qcut(grupoL_renda11, faixaL)\n",
    "large_renda15 = qcut(grupoL_renda11, faixaL)"
   ]
  },
  {
   "cell_type": "markdown",
   "metadata": {},
   "source": [
    "# Exibição de cada grupo:"
   ]
  },
  {
   "cell_type": "markdown",
   "metadata": {},
   "source": [
    "Grupo 1:"
   ]
  },
  {
   "cell_type": "code",
   "execution_count": 103,
   "metadata": {},
   "outputs": [
    {
     "data": {
      "image/png": "[encoded data removed]",
      "text/plain": [
       "<matplotlib.figure.Figure at 0x1f786a1cda0>"
      ]
     },
     "metadata": {},
     "output_type": "display_data"
    }
   ],
   "source": [
    "plt.figure(figsize = (10, 5))\n",
    "\n",
    "plt.subplot(121)\n",
    "plt.hist(grupo1_renda11, bins=faixa1, alpha=0.9)\n",
    "plt.title(\"Renda em 2011\")\n",
    "plt.grid()\n",
    "\n",
    "plt.subplot(122)\n",
    "plt.hist(grupo1_renda15, bins=faixa1, alpha=0.9)\n",
    "plt.title(\"Renda em 2015\")\n",
    "plt.grid()\n",
    "\n",
    "plt.show()"
   ]
  },
  {
   "cell_type": "markdown",
   "metadata": {},
   "source": [
    "Grupo 2:"
   ]
  },
  {
   "cell_type": "code",
   "execution_count": 104,
   "metadata": {},
   "outputs": [
    {
     "data": {
      "image/png": "[encoded data removed]",
      "text/plain": [
       "<matplotlib.figure.Figure at 0x1f7876752e8>"
      ]
     },
     "metadata": {},
     "output_type": "display_data"
    }
   ],
   "source": [
    "plt.figure(figsize = (10, 5))\n",
    "\n",
    "plt.subplot(121)\n",
    "plt.hist(grupo2_renda11, bins=faixa2, alpha=0.9)\n",
    "plt.title(\"Renda em 2011\")\n",
    "plt.grid()\n",
    "\n",
    "plt.subplot(122)\n",
    "plt.hist(grupo2_renda15, bins=faixa2, alpha=0.9)\n",
    "plt.title(\"Renda em 2015\")\n",
    "plt.grid()\n",
    "\n",
    "plt.show()"
   ]
  },
  {
   "cell_type": "markdown",
   "metadata": {},
   "source": [
    "Grupo 3:"
   ]
  },
  {
   "cell_type": "code",
   "execution_count": 105,
   "metadata": {},
   "outputs": [
    {
     "data": {
      "image/png": "[encoded data removed]",
      "text/plain": [
       "<matplotlib.figure.Figure at 0x1f7b06610f0>"
      ]
     },
     "metadata": {},
     "output_type": "display_data"
    }
   ],
   "source": [
    "plt.figure(figsize = (10, 5))\n",
    "\n",
    "plt.subplot(121)\n",
    "plt.hist(grupo3_renda11, bins=faixa3, alpha=0.9)\n",
    "plt.title(\"Renda em 2011\")\n",
    "plt.grid()\n",
    "\n",
    "plt.subplot(122)\n",
    "plt.hist(grupo3_renda15, bins=faixa3, alpha=0.9)\n",
    "plt.title(\"Renda em 2015\")\n",
    "plt.grid()\n",
    "\n",
    "plt.show()"
   ]
  },
  {
   "cell_type": "markdown",
   "metadata": {},
   "source": [
    "Grupo 4:"
   ]
  },
  {
   "cell_type": "code",
   "execution_count": 106,
   "metadata": {},
   "outputs": [
    {
     "data": {
      "image/png": "[encoded data removed]",
      "text/plain": [
       "<matplotlib.figure.Figure at 0x1f788df3668>"
      ]
     },
     "metadata": {},
     "output_type": "display_data"
    }
   ],
   "source": [
    "plt.figure(figsize = (10, 5))\n",
    "plt.subplot(121)\n",
    "\n",
    "plt.hist(grupo4_renda11, bins=faixa4, alpha=0.9)\n",
    "plt.title(\"Renda em 2011\")\n",
    "plt.grid()\n",
    "plt.subplot(122)\n",
    "\n",
    "plt.hist(grupo4_renda15, bins=faixa4, alpha=0.9)\n",
    "plt.title(\"Renda em 2015\")\n",
    "plt.grid()\n",
    "plt.show()"
   ]
  },
  {
   "cell_type": "markdown",
   "metadata": {},
   "source": [
    "Grupo 5:"
   ]
  },
  {
   "cell_type": "code",
   "execution_count": 107,
   "metadata": {},
   "outputs": [
    {
     "data": {
      "image/png": "[encoded data removed]",
      "text/plain": [
       "<matplotlib.figure.Figure at 0x1f784c844e0>"
      ]
     },
     "metadata": {},
     "output_type": "display_data"
    }
   ],
   "source": [
    "plt.figure(figsize = (10, 5))\n",
    "\n",
    "plt.subplot(121)\n",
    "plt.hist(grupo5_renda11, bins=faixa5, alpha=0.9)\n",
    "plt.title(\"Renda em 2011\")\n",
    "plt.grid()\n",
    "\n",
    "plt.subplot(122)\n",
    "plt.hist(grupo5_renda15, bins=faixa5, alpha=0.9)\n",
    "plt.title(\"Renda em 2015\")\n",
    "plt.grid()\n",
    "\n",
    "plt.show()"
   ]
  },
  {
   "cell_type": "markdown",
   "metadata": {},
   "source": [
    "Grupo 6:"
   ]
  },
  {
   "cell_type": "code",
   "execution_count": 108,
   "metadata": {},
   "outputs": [
    {
     "data": {
      "image/png": "[encoded data removed]",
      "text/plain": [
       "<matplotlib.figure.Figure at 0x1f78af68c88>"
      ]
     },
     "metadata": {},
     "output_type": "display_data"
    }
   ],
   "source": [
    "plt.figure(figsize = (10, 5))\n",
    "\n",
    "plt.subplot(121)\n",
    "plt.hist(grupo6_renda11, bins=faixa6, alpha=0.9)\n",
    "plt.title(\"Renda em 2011\")\n",
    "plt.grid()\n",
    "\n",
    "plt.subplot(122)\n",
    "plt.hist(grupo6_renda15, bins=faixa6, alpha=0.9)\n",
    "plt.title(\"Renda em 2015\")\n",
    "plt.grid()\n",
    "\n",
    "plt.show()"
   ]
  },
  {
   "cell_type": "markdown",
   "metadata": {},
   "source": [
    "Grupo 7:"
   ]
  },
  {
   "cell_type": "code",
   "execution_count": 109,
   "metadata": {},
   "outputs": [
    {
     "data": {
      "image/png": "[encoded data removed]",
      "text/plain": [
       "<matplotlib.figure.Figure at 0x1f785e3bdd8>"
      ]
     },
     "metadata": {},
     "output_type": "display_data"
    }
   ],
   "source": [
    "plt.figure(figsize = (10, 5))\n",
    "\n",
    "plt.subplot(121)\n",
    "plt.hist(grupo7_renda11, bins=faixa7, alpha=0.9)\n",
    "plt.title(\"Renda em 2011\")\n",
    "plt.grid()\n",
    "\n",
    "plt.subplot(122)\n",
    "plt.hist(grupo7_renda15, bins=faixa7, alpha=0.9)\n",
    "plt.title(\"Renda em 2015\")\n",
    "plt.grid()\n",
    "\n",
    "plt.show()"
   ]
  },
  {
   "cell_type": "markdown",
   "metadata": {},
   "source": [
    "Grupo 8:"
   ]
  },
  {
   "cell_type": "code",
   "execution_count": 110,
   "metadata": {},
   "outputs": [
    {
     "data": {
      "image/png": "[encoded data removed]",
      "text/plain": [
       "<matplotlib.figure.Figure at 0x1f7869ced30>"
      ]
     },
     "metadata": {},
     "output_type": "display_data"
    }
   ],
   "source": [
    "plt.figure(figsize = (10, 5))\n",
    "\n",
    "plt.subplot(121)\n",
    "plt.hist(grupo8_renda11, bins=faixa8, alpha=0.9)\n",
    "plt.title(\"Renda em 2011\")\n",
    "plt.grid()\n",
    "\n",
    "plt.subplot(122)\n",
    "plt.hist(grupo8_renda15, bins=faixa8, alpha=0.9)\n",
    "plt.title(\"Renda em 2015\")\n",
    "plt.grid()\n",
    "\n",
    "plt.show()"
   ]
  },
  {
   "cell_type": "markdown",
   "metadata": {},
   "source": [
    "Grupo 9:"
   ]
  },
  {
   "cell_type": "code",
   "execution_count": 111,
   "metadata": {},
   "outputs": [
    {
     "data": {
      "image/png": "[encoded data removed]",
      "text/plain": [
       "<matplotlib.figure.Figure at 0x1f7803466d8>"
      ]
     },
     "metadata": {},
     "output_type": "display_data"
    }
   ],
   "source": [
    "plt.figure(figsize = (10, 5))\n",
    "\n",
    "plt.subplot(121)\n",
    "plt.hist(grupo9_renda11, bins=faixa9, alpha=0.9)\n",
    "plt.title(\"Renda em 2011\")\n",
    "plt.grid()\n",
    "\n",
    "plt.subplot(122)\n",
    "plt.hist(grupo9_renda15, bins=faixa9, alpha=0.9)\n",
    "plt.title(\"Renda em 2015\")\n",
    "plt.grid()\n",
    "\n",
    "plt.show()"
   ]
  },
  {
   "cell_type": "markdown",
   "metadata": {},
   "source": [
    "Grupo 10:"
   ]
  },
  {
   "cell_type": "code",
   "execution_count": 112,
   "metadata": {},
   "outputs": [
    {
     "data": {
      "image/png": "[encoded data removed]",
      "text/plain": [
       "<matplotlib.figure.Figure at 0x1f785f33f98>"
      ]
     },
     "metadata": {},
     "output_type": "display_data"
    }
   ],
   "source": [
    "plt.figure(figsize = (10, 5))\n",
    "\n",
    "plt.subplot(121)\n",
    "plt.hist(grupo10_renda11, bins=faixa10, alpha=0.9)\n",
    "plt.title(\"Renda em 2011\")\n",
    "plt.grid()\n",
    "\n",
    "plt.subplot(122)\n",
    "plt.hist(grupo10_renda15, bins=faixa10, alpha=0.9)\n",
    "plt.title(\"Renda em 2015\")\n",
    "plt.grid()\n",
    "\n",
    "plt.show()"
   ]
  },
  {
   "cell_type": "markdown",
   "metadata": {},
   "source": [
    "Grupo Large:"
   ]
  },
  {
   "cell_type": "code",
   "execution_count": 113,
   "metadata": {},
   "outputs": [
    {
     "data": {
      "image/png": "[encoded data removed]",
      "text/plain": [
       "<matplotlib.figure.Figure at 0x1f788eb1dd8>"
      ]
     },
     "metadata": {},
     "output_type": "display_data"
    }
   ],
   "source": [
    "plt.figure(figsize = (10, 5))\n",
    "\n",
    "plt.subplot(121)\n",
    "plt.hist(grupoL_renda11, bins=faixaL, alpha=0.9)\n",
    "plt.title(\"Renda em 2011\")\n",
    "plt.grid()\n",
    "\n",
    "plt.subplot(122)\n",
    "plt.hist(grupoL_renda15, bins=faixaL, alpha=0.9)\n",
    "plt.title(\"Renda em 2015\")\n",
    "plt.grid()\n",
    "\n",
    "plt.show()"
   ]
  },
  {
   "cell_type": "markdown",
   "metadata": {},
   "source": [
    "Denota-se que existem muitos outliers que estão atrapalhando"
   ]
  },
  {
   "cell_type": "markdown",
   "metadata": {},
   "source": [
    "# __ Realizando Crosstabs: __"
   ]
  },
  {
   "cell_type": "markdown",
   "metadata": {},
   "source": [
    "Escolaridade com Internet:"
   ]
  },
  {
   "cell_type": "code",
   "execution_count": null,
   "metadata": {
    "collapsed": true
   },
   "outputs": [],
   "source": [
    "escolaridade_internet11 = pd.crosstab(dados.Escolaridade11, dados.Internet11, normalize = True)*100\n",
    "escolaridade_internet15 = pd.crosstab(dados2.Escolaridade15, dados2.Internet15, normalize = True)*100"
   ]
  },
  {
   "cell_type": "markdown",
   "metadata": {},
   "source": [
    "Escolaridade com celular:"
   ]
  },
  {
   "cell_type": "code",
   "execution_count": null,
   "metadata": {
    "collapsed": true
   },
   "outputs": [],
   "source": [
    "escolaridade_celular11 = pd.crosstab(dados.Escolaridade11, dados.Celular11, normalize = True)*100\n",
    "escolaridade_celular15 = pd.crosstab(dados2.Escolaridade15, dados2.Celular15, normalize = True)*100"
   ]
  },
  {
   "cell_type": "markdown",
   "metadata": {},
   "source": [
    "Renda com Escolaridade, separando para cada grupo:"
   ]
  },
  {
   "cell_type": "code",
   "execution_count": null,
   "metadata": {
    "collapsed": true
   },
   "outputs": [],
   "source": [
    "renda1_escolaridade11 = pd.crosstab(um_renda11, dados.Escolaridade11)\n",
    "renda1_escolaridade15 = pd.crosstab(dados2.Escolaridade15, um_renda15)"
   ]
  },
  {
   "cell_type": "code",
   "execution_count": null,
   "metadata": {
    "collapsed": true
   },
   "outputs": [],
   "source": [
    "renda2_escolaridade11 = pd.crosstab(dados.Escolaridade11, dois_renda11)\n",
    "renda2_escolaridade15 = pd.crosstab(dados2.Escolaridade15, dois_renda15)"
   ]
  },
  {
   "cell_type": "code",
   "execution_count": null,
   "metadata": {
    "collapsed": true
   },
   "outputs": [],
   "source": [
    "renda3_escolaridade11 = pd.crosstab(dados.Escolaridade11, tres_renda11)\n",
    "renda3_escolaridade15 = pd.crosstab(dados2.Escolaridade15, tres_renda15)"
   ]
  },
  {
   "cell_type": "code",
   "execution_count": null,
   "metadata": {
    "collapsed": true
   },
   "outputs": [],
   "source": [
    "renda4_escolaridade11 = pd.crosstab(dados.Escolaridade11, quatro_renda11)\n",
    "renda4_escolaridade15 = pd.crosstab(dados2.Escolaridade15, quatro_renda15)"
   ]
  },
  {
   "cell_type": "code",
   "execution_count": null,
   "metadata": {
    "collapsed": true
   },
   "outputs": [],
   "source": [
    "renda5_escolaridade11 = pd.crosstab(dados.Escolaridade11, cinco_renda11)\n",
    "renda5_escolaridade15 = pd.crosstab(dados2.Escolaridade15, cinco_renda15)"
   ]
  },
  {
   "cell_type": "code",
   "execution_count": null,
   "metadata": {
    "collapsed": true
   },
   "outputs": [],
   "source": [
    "renda6_escolaridade11 = pd.crosstab(dados.Escolaridade11, seis_renda11)\n",
    "renda6_escolaridade15 = pd.crosstab(dados2.Escolaridade15, seis_renda15)"
   ]
  },
  {
   "cell_type": "code",
   "execution_count": null,
   "metadata": {
    "collapsed": true
   },
   "outputs": [],
   "source": [
    "renda7_escolaridade11 = pd.crosstab(dados.Escolaridade11, sete_renda11)\n",
    "renda7_escolaridade15 = pd.crosstab(dados2.Escolaridade15, sete_renda15)"
   ]
  },
  {
   "cell_type": "code",
   "execution_count": null,
   "metadata": {
    "collapsed": true
   },
   "outputs": [],
   "source": [
    "renda8_escolaridade11 = pd.crosstab(dados.Escolaridade11, oito_renda11)\n",
    "renda8_escolaridade15 = pd.crosstab(dados2.Escolaridade15, oito_renda15)"
   ]
  },
  {
   "cell_type": "code",
   "execution_count": null,
   "metadata": {
    "collapsed": true
   },
   "outputs": [],
   "source": [
    "renda9_escolaridade11 = pd.crosstab(dados.Escolaridade11, nove_renda11)\n",
    "renda9_escolaridade15 = pd.crosstab(dados2.Escolaridade15, nove_renda15)"
   ]
  },
  {
   "cell_type": "code",
   "execution_count": null,
   "metadata": {
    "collapsed": true
   },
   "outputs": [],
   "source": [
    "renda10_escolaridade11 = pd.crosstab(dados.Escolaridade11, dez_renda11)\n",
    "renda10_escolaridade15 = pd.crosstab(dados2.Escolaridade15, dez_renda15)"
   ]
  },
  {
   "cell_type": "code",
   "execution_count": null,
   "metadata": {
    "collapsed": true
   },
   "outputs": [],
   "source": [
    "rendaL_escolaridade11 = pd.crosstab(dados.Escolaridade11, large_renda11)\n",
    "rendaL_escolaridade15 = pd.crosstab(dados2.Escolaridade15, large_renda15)"
   ]
  },
  {
   "cell_type": "code",
   "execution_count": null,
   "metadata": {},
   "outputs": [],
   "source": [
    "plt.figure(figsize = (20, 15))\n",
    "\n",
    "plt.subplot(4,3,1)\n",
    "plt.hist(grupo1_renda11, bins=faixa1, alpha=0.9)\n",
    "plt.title(\"Grupo 1\")\n",
    "plt.grid()\n",
    "\n",
    "plt.subplot(4,3,2)\n",
    "plt.hist(grupo2_renda15, bins=faixa2, alpha=0.9)\n",
    "plt.title(\"Grupo 2\")\n",
    "plt.grid()\n",
    "\n",
    "plt.subplot(4,3,3)\n",
    "plt.hist(grupo3_renda11, bins=faixa3, alpha=0.9)\n",
    "plt.title(\"Grupo 3\")\n",
    "plt.grid()\n",
    "\n",
    "plt.subplot(4,3,4)\n",
    "plt.hist(grupo4_renda15, bins=faixa4, alpha=0.9)\n",
    "plt.title(\"Grupo 4\")\n",
    "plt.grid()\n",
    "\n",
    "plt.subplot(4,3,5)\n",
    "plt.hist(grupo5_renda11, bins=faixa5, alpha=0.9)\n",
    "plt.title(\"Grupo 5\")\n",
    "plt.grid()\n",
    "\n",
    "plt.subplot(4,3,6)\n",
    "plt.hist(grupo6_renda15, bins=faixa6, alpha=0.9)\n",
    "plt.title(\"Grupo 6\")\n",
    "plt.grid()\n",
    "\n",
    "plt.subplot(4,3,7)\n",
    "plt.hist(grupo7_renda11, bins=faixa7, alpha=0.9)\n",
    "plt.title(\"Grupo 7\")\n",
    "plt.grid()\n",
    "\n",
    "plt.subplot(4,3,8)\n",
    "plt.hist(grupo8_renda15, bins=faixa8, alpha=0.9)\n",
    "plt.title(\"Grupo 8\")\n",
    "plt.grid()\n",
    "\n",
    "plt.subplot(4,3,9)\n",
    "plt.hist(grupo9_renda11, bins=faixa9, alpha=0.9)\n",
    "plt.title(\"Grupo 9\")\n",
    "plt.grid()\n",
    "\n",
    "plt.subplot(4,3,10)\n",
    "plt.hist(grupo10_renda15, bins=faixa10, alpha=0.9)\n",
    "plt.title(\"Grupo 10\")\n",
    "plt.grid()\n",
    "\n",
    "plt.subplot(4,3,11)\n",
    "plt.hist(grupoL_renda15, bins=faixaL, alpha=0.9)\n",
    "plt.title(\"Grupo L\")\n",
    "plt.grid()\n",
    "\n",
    "plt.show()"
   ]
  },
  {
   "cell_type": "code",
   "execution_count": null,
   "metadata": {
    "collapsed": true
   },
   "outputs": [],
   "source": [
    "#dados2.Renda15.plot.box(by = \"dados2.Escolaridade15\")"
   ]
  },
  {
   "cell_type": "code",
   "execution_count": 141,
   "metadata": {},
   "outputs": [
    {
     "data": {
      "text/plain": [
       "0.0       Axes(0.125,0.125;0.0824468x0.755)\n",
       "2.0    Axes(0.223936,0.125;0.0824468x0.755)\n",
       "3.0    Axes(0.322872,0.125;0.0824468x0.755)\n",
       "4.0    Axes(0.421809,0.125;0.0824468x0.755)\n",
       "5.0    Axes(0.520745,0.125;0.0824468x0.755)\n",
       "6.0    Axes(0.619681,0.125;0.0824468x0.755)\n",
       "7.0    Axes(0.718617,0.125;0.0824468x0.755)\n",
       "8.0    Axes(0.817553,0.125;0.0824468x0.755)\n",
       "dtype: object"
      ]
     },
     "execution_count": 141,
     "metadata": {},
     "output_type": "execute_result"
    },
    {
     "data": {
      "image/png": "[encoded data removed]",
      "text/plain": [
       "<matplotlib.figure.Figure at 0x1f8c278a748>"
      ]
     },
     "metadata": {},
     "output_type": "display_data"
    }
   ],
   "source": [
    "# = dados.Escolaridade11.loc[(dados.Renda11 <= 1000) & (dados.Renda11 > 1)]\n",
    "renda1_escolaridade11.plot(kind = 'box',subplots = True, legend = False, figsize = (15, 3), grid = True, title = \"Faixa de renda 1 versus Escolaridade em 2011\")\n",
    "#, autopct=\"%0.2f\",\n",
    "#grupo1_escolaridade11_renda"
   ]
  },
  {
   "cell_type": "code",
   "execution_count": null,
   "metadata": {
    "collapsed": true
   },
   "outputs": [],
   "source": []
  }
 ],
 "metadata": {
  "kernelspec": {
   "display_name": "Python 3",
   "language": "python",
   "name": "python3"
  },
  "language_info": {
   "codemirror_mode": {
    "name": "ipython",
    "version": 3
   },
   "file_extension": ".py",
   "mimetype": "text/x-python",
   "name": "python",
   "nbconvert_exporter": "python",
   "pygments_lexer": "ipython3",
   "version": "3.6.1"
  }
 },
 "nbformat": 4,
 "nbformat_minor": 2
}
