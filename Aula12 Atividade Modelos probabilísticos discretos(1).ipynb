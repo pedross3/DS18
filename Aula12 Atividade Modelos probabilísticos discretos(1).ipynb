{
 "cells": [
  {
   "cell_type": "markdown",
   "metadata": {},
   "source": [
    " ___\n",
    "# Atividade: Modelos probabilísticos discretos\n",
    "___\n",
    "\n",
    "## Aula 12\n",
    "\n",
    "**Referência de Leitura:**\n",
    "1. Magalhães e Lima (7ª. Edição): Seções 3.2 e 3.3\n",
    "\n",
    "**Hoje:**\n",
    "1.\tDescrever modelos discretos quanto aos resultados teóricos.\n",
    "2.\tExplicar a utilização de modelos probabilísticos no contexto da literatura estatística.\n",
    "3.\tContrastar resultados teóricos e empíricos.\n",
    "4.\tFechamento do conteúdo.\n",
    "\n",
    "**Próxima aula:**\n",
    "1. Leitura prévia necessária: Magalhães e Lima (7ª. Edição): Capítulo 6 - Seção 6.1.\n",
    "\n",
    "___"
   ]
  },
  {
   "cell_type": "code",
   "execution_count": 1,
   "metadata": {},
   "outputs": [],
   "source": [
    "%matplotlib inline\n",
    "import pandas as pd\n",
    "import matplotlib.pyplot as plt\n",
    "import numpy as np\n",
    "\n",
    "from scipy import stats #importa apenas as funções de estatísticas da biblioteca SciPy.\n",
    "import itertools #importante para gerar todos os resultados possíveis!!\n"
   ]
  },
  {
   "cell_type": "markdown",
   "metadata": {},
   "source": [
    "___\n",
    "## <font color='blue'>Exercício 1</font>\n",
    "\n",
    "### <font color='red'>**Publicar no github até dia 10/04 INDIVIDUAL **</font>\n",
    "\n",
    "\n",
    "#### Este exercício irá explorar  construção de árvore de probabilidades com eventos e construção da distribuição de probabilidades de uma variável aleatória discreta. Ainda, irá explorar o modelo de distribuição probabilística Binomial\n",
    "\n",
    "Um resistor de 100K Ohms comprado na Santa Efigênia tem probabilidade de falha de 5%, segundo um fabricante ruim.\n",
    "\n",
    "Ainda, por suposição, admita que os resistores falhem de forma independente entre si.\n",
    "\n",
    "Um aluno de engenharia compra um pacote contendo $n$ resistores.\n",
    "\n",
    "1. Assuma $n=3$ e faça os itens a seguir.\n",
    "  1. Monte o espaço amostral que combine todos os resultados possíveis de Falha e não Falha desses $n$ resistores. Ainda, calcule a probabilidade de cada resultado do espaço amostral acontecer.\n",
    "  2. Se $Y$ representa o número de resistores que falham em um pacotinho com $n$ resistores, então construa a distribuição de probabilidades de $Y$.\n",
    "  3. Calcule a média e o desvio padrão de $Y$. Interprete os resultados.\n",
    "  4. Utilizando o modelo probabilístico da distribuição Binomial, encontre a distribuição de probabilidades de cada possível valor de $Y$. Calcule também $E(Y)$ e $Var(Y)$. Compare com as distribuições de probabilidades obtidas nos itens anteriores e discuta porque esses valores são iguais ou diferentes!\n",
    "   \n",
    "2. Assuma $n=7$ e repita os itens A) a D) anteriores. No caso de $n=7$ ou maiores quantidades de resistores em um pacotinho, qual a viabilidade de construir a distribuição de probabilidades do número de resistores com defeitos quando $n$ não é pequeno seguindo os itens de A) a C)?\n",
    " \n",
    "3. Com $n=100$, por exemplo, é extremamente inviável a construção de árvore de probabilidades até mesmo utilizando a poderosa ferramenta Python. \n",
    "  1. No caso assuma $n=100$ e repita o item 1.D) anterior. \n",
    "  2. Ainda, calcule a probabilidade de, em um pacote com 100 resistores, pelo menos a metade deles apresentarem falha?\n",
    "\n",
    "\n",
    "A seguir, um resumo sobre o modelo teórico Binomial!    \n",
    "> \n",
    "\n",
    "> **DISTRIBUIÇÃO BINOMIAL - TEORIA:**\n",
    "\n",
    "> É responsável por modelar uma variável $Y$ definida pelo Número de sucessos em $n$ tentativas, cuja probabilidade de sucesso é dada por $p$. Assim, dizemos que $Y$~$Bin(n,p)$ e lê-se: $Y$ segue uma distribuição binomial com $n$ tentativas e $p$ como probabilidade de sucesso. \n",
    "\n",
    "> A função de probabilidade nesse caso é dada por:\n",
    "$P(Y=y)=\\left(\n",
    "\\begin{array}{c}\n",
    "    n \\\\\n",
    "    y\n",
    "\\end{array}\\right) p^y (1-p)^{(n-y)}$\n",
    "\n",
    "> Para um experimento ter as probabilidade dos números de sucessos modeladas por uma distribuição Binomial, o mesmo precisa ter as seguintes propriedades:\n",
    "* é uma contagem de $n$ repetições (ou tentativas ou ensaios) idênticas;\n",
    "* cada repetição tem apenas 2 resultados possíveis: um é denominado sucesso e o outro, fracasso;\n",
    "* a probabilidade de sucesso para cada ensaio é denominada $p$ e será constante em cada repetição. Então, a probabilidade de fracasso $(1-p)$ também não varia de tentativa para tentativa;\n",
    "* As tentativas são independentes.\n",
    "\n",
    "\n",
    "> **DISTRIBUIÇÃO BINOMIAL - PYTHON:** <sup> [https://en.wikipedia.org/wiki/SciPy]\n",
    "\n",
    "> Algumas funções úteis para desenvolver seu código: <sup> [http://docs.scipy.org/doc/scipy-0.16.1/reference/generated/scipy.stats.binom.html]\n",
    "* $P(Y=y)$: `stats.binom.pmf(y, n, p)`\n",
    "* $P(Y\\leq y)$: `stats.binom.cdf(y, n, p)`\n",
    "* $E(Y)$ e $Var(Y)$: `stats.binom.stats(n, p, moments='mv')`\n",
    "\n"
   ]
  },
  {
   "cell_type": "code",
   "execution_count": 5,
   "metadata": {},
   "outputs": [],
   "source": [
    "#item 1\n",
    "n=3\n",
    "\n",
    "possibilidades=[\"Funciona\",\"Falha\"]\n",
    "prob={\"Funciona\": 0.95, \"Falha\":0.05}\n",
    "\n",
    "arranjos = itertools.product(possibilidades, repeat=n)\n",
    "espaco_amostral = list(arranjos)"
   ]
  },
  {
   "cell_type": "code",
   "execution_count": 6,
   "metadata": {},
   "outputs": [
    {
     "name": "stdout",
     "output_type": "stream",
     "text": [
      "Probabilidade de  ('Funciona', 'Funciona', 'Funciona')  é igual a  0.85737\n",
      "Probabilidade de  ('Funciona', 'Funciona', 'Falha')  é igual a  0.04512\n",
      "Probabilidade de  ('Funciona', 'Falha', 'Funciona')  é igual a  0.04512\n",
      "Probabilidade de  ('Funciona', 'Falha', 'Falha')  é igual a  0.00238\n",
      "Probabilidade de  ('Falha', 'Funciona', 'Funciona')  é igual a  0.04512\n",
      "Probabilidade de  ('Falha', 'Funciona', 'Falha')  é igual a  0.00238\n",
      "Probabilidade de  ('Falha', 'Falha', 'Funciona')  é igual a  0.00238\n",
      "Probabilidade de  ('Falha', 'Falha', 'Falha')  é igual a  0.00013\n"
     ]
    }
   ],
   "source": [
    "prob_linhas = []\n",
    "for res in espaco_amostral:\n",
    "    p = 1.0\n",
    "    for e in res:\n",
    "        p*=prob[e]\n",
    "    prob_linhas.append(p)\n",
    "    print(\"Probabilidade de \",res,\" é igual a \",\"%3.5f\"%p)"
   ]
  },
  {
   "cell_type": "code",
   "execution_count": 10,
   "metadata": {},
   "outputs": [
    {
     "name": "stdout",
     "output_type": "stream",
     "text": [
      "Distribuição de probabilidades da variável aleatória Y - número de vendas\n",
      "\n",
      "Conjunto com Falhas:  0  Probabilidade de 1.00000 \n"
     ]
    }
   ],
   "source": [
    "valores_y={}\n",
    "for i in range(len(espaco_amostral)):\n",
    "    y = espaco_amostral[i].count(\"F\")\n",
    "    # Checar antes se a chave está no dicionário\n",
    "    if y in valores_y:\n",
    "        valores_y[y] += prob_linhas[i]\n",
    "    else:\n",
    "        valores_y[y] = prob_linhas[i]\n",
    "print(\"Distribuição de probabilidades da variável aleatória Y - número de vendas\")\n",
    "print('')\n",
    "for y in valores_y:\n",
    "    print(\"Conjunto com Falhas: \", y, \" Probabilidade de\", \"%6.5f \"%valores_y[y])"
   ]
  },
  {
   "cell_type": "code",
   "execution_count": 11,
   "metadata": {},
   "outputs": [
    {
     "data": {
      "text/plain": [
       "0.15002"
      ]
     },
     "execution_count": 11,
     "metadata": {},
     "output_type": "execute_result"
    }
   ],
   "source": [
    "m=0*0.85737+1*0.13537+2*0.00713+3*0.00013 \n",
    "m"
   ]
  },
  {
   "cell_type": "code",
   "execution_count": 12,
   "metadata": {},
   "outputs": [
    {
     "data": {
      "text/plain": [
       "0.14255399959999998"
      ]
     },
     "execution_count": 12,
     "metadata": {},
     "output_type": "execute_result"
    }
   ],
   "source": [
    "var=0.85737*(0-m)**2+0.13537*(1-m)**2+0.00713*(2-m)**2+0.00013*(3-m)**2\n",
    "var"
   ]
  },
  {
   "cell_type": "code",
   "execution_count": 13,
   "metadata": {},
   "outputs": [
    {
     "name": "stdout",
     "output_type": "stream",
     "text": [
      "Probabilidades:\n",
      "0.857375\n",
      "0.135375\n",
      "0.007125000000000007\n",
      "0.000125\n",
      "\n",
      "Média e variância\n"
     ]
    },
    {
     "data": {
      "text/plain": [
       "(array(0.15), array(0.1425))"
      ]
     },
     "execution_count": 13,
     "metadata": {},
     "output_type": "execute_result"
    }
   ],
   "source": [
    "print(\"Probabilidades:\")\n",
    "for i in range(4):\n",
    "    print(stats.binom.pmf(i, 3, 0.05))\n",
    "print(\"\")\n",
    "print(\"Média e variância\")\n",
    "stats.binom.stats(3, 0.05, moments='mv')"
   ]
  },
  {
   "cell_type": "markdown",
   "metadata": {},
   "source": [
    "## 2"
   ]
  },
  {
   "cell_type": "code",
   "execution_count": 14,
   "metadata": {},
   "outputs": [],
   "source": [
    "#item 2\n",
    "n=7\n",
    "\n",
    "possibilidades=[\"Funciona\",\"Falha\"]\n",
    "prob={\"Funciona\": 0.95, \"Falha\":0.05}\n",
    "\n",
    "arranjos = itertools.product(possibilidades, repeat=n)\n",
    "espaco_amostral = list(arranjos)"
   ]
  },
  {
   "cell_type": "code",
   "execution_count": 15,
   "metadata": {},
   "outputs": [
    {
     "name": "stdout",
     "output_type": "stream",
     "text": [
      "Distribuição de probabilidades da variável aleatória $Y$ - falhas\n",
      "\n",
      "Falhas:  0  Probabilidade 1.00000 \n"
     ]
    }
   ],
   "source": [
    "prob_linhas = []\n",
    "for res in espaco_amostral:\n",
    "    p = 1.0\n",
    "    for e in res:\n",
    "        p*=prob[e]\n",
    "    prob_linhas.append(p)\n",
    "valores_Y = {}\n",
    "for i in range(len(espaco_amostral)):\n",
    "    y = espaco_amostral[i].count(\"F\")\n",
    "    # Checar antes se a chave está no dicionário\n",
    "    if y in valores_Y:\n",
    "        valores_Y[y] += prob_linhas[i]\n",
    "    else:\n",
    "        valores_Y[y] = prob_linhas[i]\n",
    "print(\"Distribuição de probabilidades da variável aleatória $Y$ - falhas\")\n",
    "print('')\n",
    "for y in valores_Y:\n",
    "    print(\"Falhas: \", y, \" Probabilidade\", \"%6.5f \"%valores_Y[y])"
   ]
  },
  {
   "cell_type": "code",
   "execution_count": 16,
   "metadata": {},
   "outputs": [
    {
     "data": {
      "text/plain": [
       "0.35001000000000004"
      ]
     },
     "execution_count": 16,
     "metadata": {},
     "output_type": "execute_result"
    }
   ],
   "source": [
    "media=(0*0.69834)+(1*0.25728)+(2*0.04062)+(3*0.00356)+(4*0.00019)+(5*0.00001)+(6*0.00000)+(7*0.00000)\n",
    "media"
   ]
  },
  {
   "cell_type": "code",
   "execution_count": 17,
   "metadata": {},
   "outputs": [
    {
     "data": {
      "text/plain": [
       "0.372579"
      ]
     },
     "execution_count": 17,
     "metadata": {},
     "output_type": "execute_result"
    }
   ],
   "source": [
    "v=0.69834 *(0-m)**2+0.25728 *(1-m)**2+0.04062*(2-m)**2+0.00356 *(3-m)**2+0.00019 *(4-m)**2+0.00001*(5-m)**2+0.00000*(6-m)**2+0.00000*(7-m)**2\n",
    "v"
   ]
  },
  {
   "cell_type": "code",
   "execution_count": 18,
   "metadata": {},
   "outputs": [
    {
     "name": "stdout",
     "output_type": "stream",
     "text": [
      "Probabilidades:\n",
      "0.69833729609375\n",
      "0.2572821617187501\n",
      "0.04062349921875004\n",
      "0.00356346484375\n",
      "\n",
      "Média e variância\n"
     ]
    },
    {
     "data": {
      "text/plain": [
       "(array(0.35), array(0.3325))"
      ]
     },
     "execution_count": 18,
     "metadata": {},
     "output_type": "execute_result"
    }
   ],
   "source": [
    "print(\"Probabilidades:\")\n",
    "for i in range(4):\n",
    "    print(stats.binom.pmf(i, 7, 0.05))\n",
    "print(\"\")\n",
    "print(\"Média e variância\")\n",
    "stats.binom.stats(7, 0.05, moments='mv')"
   ]
  },
  {
   "cell_type": "markdown",
   "metadata": {},
   "source": [
    "## 3"
   ]
  },
  {
   "cell_type": "code",
   "execution_count": 19,
   "metadata": {},
   "outputs": [
    {
     "name": "stdout",
     "output_type": "stream",
     "text": [
      "Probabilidades:\n",
      "0.005920529220334023\n",
      "0.031160680107020593\n",
      "0.08118177185776551\n",
      "0.1395756779308903\n",
      "\n",
      "Média e variância\n"
     ]
    },
    {
     "data": {
      "text/plain": [
       "(array(5.), array(4.75))"
      ]
     },
     "execution_count": 19,
     "metadata": {},
     "output_type": "execute_result"
    }
   ],
   "source": [
    "print(\"Probabilidades:\")\n",
    "for i in range(4):\n",
    "    print(stats.binom.pmf(i, 100, 0.05))\n",
    "print(\"\")\n",
    "print(\"Média e variância\")\n",
    "stats.binom.stats(100, 0.05, moments='mv')"
   ]
  },
  {
   "cell_type": "markdown",
   "metadata": {
    "collapsed": true
   },
   "source": [
    "___\n",
    "## <font color='blue'>Exercício 2</font>\n",
    "\n",
    "Esse exercício irá explorar modelos de distribuição de Poisson.\n",
    "\n",
    "Uma fábrica produz determinado veículo. O gerente de vendas fechou um negócio que implica na produção de pelo menos 110 unidades nos próximos dois meses. Para isso, será construída uma nova linha de montagem com capacidade para produzir em média 50 veículos por mês (considere meses de 30 dias). A linha funcionará ininterruptamente. Além disso, apenas um veículo é produzido por vez. Considere que um modelo Poisson seja adequado para a quantidade de veículos produzidos.\n",
    "   1. Qual a probabilidade  da produção ser igual a 100 veículos nos próximos dois meses?\n",
    "   2. Qual a probabilidade  da produção ser de pelo menos 100 veículos nos próximos dois meses?\n",
    "   3. Qual a probabilidade da produção ser entre 100 e 110 veículos nos próximos dois meses?\n",
    "   4. Se forem produzidos de pelo menos 100 veículos no próximo mês, qual a probabilidade do gerente cumprir a meta negociada?\n",
    "   5. Caso o prazo seja cumprido, o lucro será da ordem de $250$ mil, caso não seja, o lucro cai para $200$ mil. Qual é o lucro esperado e seu desvio-padrão?\n",
    "\n",
    "**Observação:** Explore os comandos de `stats.poisson`. <sup>[http://docs.scipy.org/doc/scipy/reference/generated/scipy.stats.poisson.html]\n"
   ]
  },
  {
   "cell_type": "code",
   "execution_count": null,
   "metadata": {},
   "outputs": [],
   "source": []
  },
  {
   "cell_type": "code",
   "execution_count": null,
   "metadata": {},
   "outputs": [],
   "source": []
  }
 ],
 "metadata": {
  "anaconda-cloud": {},
  "kernelspec": {
   "display_name": "Python 3",
   "language": "python",
   "name": "python3"
  },
  "language_info": {
   "codemirror_mode": {
    "name": "ipython",
    "version": 3
   },
   "file_extension": ".py",
   "mimetype": "text/x-python",
   "name": "python",
   "nbconvert_exporter": "python",
   "pygments_lexer": "ipython3",
   "version": "3.5.2"
  }
 },
 "nbformat": 4,
 "nbformat_minor": 1
}
